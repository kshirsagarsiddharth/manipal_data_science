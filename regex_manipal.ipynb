{
 "metadata": {
  "language_info": {
   "codemirror_mode": {
    "name": "ipython",
    "version": 3
   },
   "file_extension": ".py",
   "mimetype": "text/x-python",
   "name": "python",
   "nbconvert_exporter": "python",
   "pygments_lexer": "ipython3",
   "version": "3.8.0-final"
  },
  "orig_nbformat": 2,
  "kernelspec": {
   "name": "python3",
   "display_name": "Python 3.8.0 64-bit ('tf_2.4': conda)",
   "metadata": {
    "interpreter": {
     "hash": "df53eb43d5f4a47426fc7695aa15cd0ff0fde94a792cda81b8e3f34ace87d5f5"
    }
   }
  }
 },
 "nbformat": 4,
 "nbformat_minor": 2,
 "cells": [
  {
   "cell_type": "code",
   "execution_count": 1,
   "metadata": {},
   "outputs": [],
   "source": [
    "import re"
   ]
  },
  {
   "source": [
    "# consise and flexible means of matching strings of text such as particular characters, words or patterns or characters. \n",
    "# programming with characters.  \n",
    "# compact language. "
   ],
   "cell_type": "markdown",
   "metadata": {}
  },
  {
   "source": [
    "- ^ - matches beginning of the list \n",
    "- $ - matches the end of line \n",
    "- \\s - whitespace character \n",
    "- \\S - non white space character \n",
    "- * - Repets character zero or more times \n",
    "- *? - Repets character zero or more tims (non greedy)\n",
    "- + - Repets characters one or more times \n",
    "- +? - Repets characters one or more times (non greedy) \n",
    "- [aeiou] - matches single character in the listed set \n",
    "- [^XYZ] - matches single character not in the listed set \n",
    "- [a-z]"
   ],
   "cell_type": "markdown",
   "metadata": {}
  },
  {
   "source": [
    "# finding elements in a file with find argument"
   ],
   "cell_type": "markdown",
   "metadata": {}
  },
  {
   "cell_type": "code",
   "execution_count": 19,
   "metadata": {},
   "outputs": [
    {
     "output_type": "stream",
     "name": "stdout",
     "text": [
      "We line \"Python\"\nWe line \"Python\"\nWe line \"Python\"\nWe line \"Python\"\nWe line \"Python\"\nWe line \"Python\"\nWe line \"Python\"\nWe line \"Python\"\nWe line \"Python\"\nWe line \"Python\"\nWe line \"Python\"\nWe line \"Python\"\nWe line \"Python\"\nWe line \"Python\"\nWe line \"Python\"\nWe line \"Python\"\nWe line \"Python\"\nWe line \"Python\"\n"
     ]
    }
   ],
   "source": [
    "with open('bullshit.txt') as f:\n",
    "    for line in f:\n",
    "        line = line.strip()\n",
    "        if line.find('Python') > 0:\n",
    "            print(line)"
   ]
  },
  {
   "source": [
    "# finding lines in which python is located"
   ],
   "cell_type": "markdown",
   "metadata": {}
  },
  {
   "cell_type": "code",
   "execution_count": 23,
   "metadata": {},
   "outputs": [
    {
     "output_type": "stream",
     "name": "stdout",
     "text": [
      "Python is a good language\nWe line \"Python\"\nPython is a good language\nWe line \"Python\"\nPython is a good language\nWe line \"Python\"\nPython is a good language\nWe line \"Python\"\nPython is a good language\nWe line \"Python\"\nPython is a good language\nWe line \"Python\"\nPython is a good language\nWe line \"Python\"\nPython is a good language\nWe line \"Python\"\nPython is a good language\nWe line \"Python\"\nPython is a good language\nWe line \"Python\"\nPython is a good language\nWe line \"Python\"\nPython is a good language\nWe line \"Python\"\nPython is a good language\nWe line \"Python\"\nPython is a good language\nWe line \"Python\"\nPython is a good language\nWe line \"Python\"\nPython is a good language\nWe line \"Python\"\nPython is a good language\nWe line \"Python\"\nPython is a good language\nWe line \"Python\"\n"
     ]
    }
   ],
   "source": [
    "with open('bullshit.txt') as f:\n",
    "    for line in f:\n",
    "        line = line.strip()\n",
    "        if re.search(\"Python\",line):\n",
    "            print(line)"
   ]
  },
  {
   "source": [
    "# find the line where Python is beginning of the string"
   ],
   "cell_type": "markdown",
   "metadata": {}
  },
  {
   "cell_type": "code",
   "execution_count": 22,
   "metadata": {},
   "outputs": [
    {
     "output_type": "stream",
     "name": "stdout",
     "text": [
      "Python is a good language\nPython is a good language\nPython is a good language\nPython is a good language\nPython is a good language\nPython is a good language\nPython is a good language\nPython is a good language\nPython is a good language\nPython is a good language\nPython is a good language\nPython is a good language\nPython is a good language\nPython is a good language\nPython is a good language\nPython is a good language\nPython is a good language\nPython is a good language\n"
     ]
    }
   ],
   "source": [
    "with open('bullshit.txt') as f:\n",
    "    for line in f:\n",
    "        line = line.strip()\n",
    "        if re.search(\"^Python\",line):\n",
    "            print(line)\n",
    "        "
   ]
  },
  {
   "source": [
    "# find at at the end of line"
   ],
   "cell_type": "markdown",
   "metadata": {}
  },
  {
   "cell_type": "code",
   "execution_count": 35,
   "metadata": {},
   "outputs": [
    {
     "output_type": "execute_result",
     "data": {
      "text/plain": [
       "<re.Match object; span=(13, 15), match='at'>"
      ]
     },
     "metadata": {},
     "execution_count": 35
    }
   ],
   "source": [
    "# matching the end of the array\n",
    "s = \"sat hap pat mat\"\n",
    "re.search(\"at$\",s)"
   ]
  },
  {
   "cell_type": "code",
   "execution_count": 36,
   "metadata": {},
   "outputs": [],
   "source": [
    "s = \"\"\" \n",
    "X-Sieve: CMU Sieve 2.3 \n",
    "X - DSPAM-Result: sime Rick And Morty 23\n",
    "X\n",
    "\n",
    "\"\"\""
   ]
  },
  {
   "cell_type": "code",
   "execution_count": null,
   "metadata": {},
   "outputs": [],
   "source": []
  },
  {
   "cell_type": "code",
   "execution_count": 37,
   "metadata": {},
   "outputs": [],
   "source": [
    "x = 'My 2 favourite numbers are 19 and 42'"
   ]
  },
  {
   "cell_type": "code",
   "execution_count": null,
   "metadata": {},
   "outputs": [],
   "source": [
    "# Find numbers in the string "
   ]
  },
  {
   "cell_type": "code",
   "execution_count": 38,
   "metadata": {},
   "outputs": [
    {
     "output_type": "execute_result",
     "data": {
      "text/plain": [
       "['2', '19', '42']"
      ]
     },
     "metadata": {},
     "execution_count": 38
    }
   ],
   "source": [
    "re.findall(r'[\\d]+',x)"
   ]
  },
  {
   "cell_type": "code",
   "execution_count": 39,
   "metadata": {},
   "outputs": [
    {
     "output_type": "execute_result",
     "data": {
      "text/plain": [
       "['2', '19', '42']"
      ]
     },
     "metadata": {},
     "execution_count": 39
    }
   ],
   "source": [
    "re.findall(r'[0123456789]+',x)"
   ]
  },
  {
   "source": [
    "# find no numbers in string"
   ],
   "cell_type": "markdown",
   "metadata": {}
  },
  {
   "cell_type": "code",
   "execution_count": 40,
   "metadata": {},
   "outputs": [
    {
     "output_type": "execute_result",
     "data": {
      "text/plain": [
       "['My ', ' favourite numbers are ', ' and ']"
      ]
     },
     "metadata": {},
     "execution_count": 40
    }
   ],
   "source": [
    "re.findall(r'[^\\d]+',x)"
   ]
  },
  {
   "cell_type": "code",
   "execution_count": null,
   "metadata": {},
   "outputs": [],
   "source": []
  },
  {
   "cell_type": "code",
   "execution_count": 41,
   "metadata": {},
   "outputs": [
    {
     "output_type": "execute_result",
     "data": {
      "text/plain": [
       "['M']"
      ]
     },
     "metadata": {},
     "execution_count": 41
    }
   ],
   "source": [
    "re.findall(r\"^[A-Z]\",x)"
   ]
  },
  {
   "cell_type": "code",
   "execution_count": 42,
   "metadata": {},
   "outputs": [
    {
     "output_type": "execute_result",
     "data": {
      "text/plain": [
       "[]"
      ]
     },
     "metadata": {},
     "execution_count": 42
    }
   ],
   "source": [
    "re.findall(r\"[AEIOU]+\",x)"
   ]
  },
  {
   "cell_type": "code",
   "execution_count": 2,
   "metadata": {},
   "outputs": [
    {
     "output_type": "execute_result",
     "data": {
      "text/plain": [
       "['2', '42', '19']"
      ]
     },
     "metadata": {},
     "execution_count": 2
    }
   ],
   "source": [
    "import re \n",
    "s = \"My 2 favourite numbers are 42 and 19\"\n",
    "re.findall(r\"[\\d]+\",s)"
   ]
  },
  {
   "cell_type": "code",
   "execution_count": 4,
   "metadata": {},
   "outputs": [
    {
     "output_type": "execute_result",
     "data": {
      "text/plain": [
       "['2', '42', '19']"
      ]
     },
     "metadata": {},
     "execution_count": 4
    }
   ],
   "source": [
    "re.findall(r\"[0-9]+\",s)"
   ]
  },
  {
   "cell_type": "code",
   "execution_count": null,
   "metadata": {},
   "outputs": [],
   "source": []
  }
 ]
}