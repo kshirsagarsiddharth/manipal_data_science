{
 "metadata": {
  "language_info": {
   "codemirror_mode": {
    "name": "ipython",
    "version": 3
   },
   "file_extension": ".py",
   "mimetype": "text/x-python",
   "name": "python",
   "nbconvert_exporter": "python",
   "pygments_lexer": "ipython3",
   "version": "3.8.0-final"
  },
  "orig_nbformat": 2,
  "kernelspec": {
   "name": "python3",
   "display_name": "Python 3.8.0 64-bit ('tf_2.4': conda)",
   "metadata": {
    "interpreter": {
     "hash": "df53eb43d5f4a47426fc7695aa15cd0ff0fde94a792cda81b8e3f34ace87d5f5"
    }
   }
  }
 },
 "nbformat": 4,
 "nbformat_minor": 2,
 "cells": [
  {
   "cell_type": "code",
   "execution_count": 1,
   "metadata": {},
   "outputs": [],
   "source": [
    "import re"
   ]
  },
  {
   "source": [
    "# consise and flexible means of matching strings of text such as particular characters, words or patterns or characters. \n",
    "# programming with characters.  \n",
    "# compact language. "
   ],
   "cell_type": "markdown",
   "metadata": {}
  },
  {
   "source": [
    "- ^ - matches beginning of the list \n",
    "- $ - matches the end of line \n",
    "- \\s - whitespace character \n",
    "- \\S - non white space character \n",
    "- * - Repets character zero or more times \n",
    "- *? - Repets character zero or more tims (non greedy)\n",
    "- + - Repets characters one or more times \n",
    "- +? - Repets characters one or more times (non greedy) \n",
    "- [aeiou] - matches single character in the listed set \n",
    "- [^XYZ] - matches single character not in the listed set \n",
    "- [a-z]"
   ],
   "cell_type": "markdown",
   "metadata": {}
  },
  {
   "source": [
    "# finding elements in a file with find argument"
   ],
   "cell_type": "markdown",
   "metadata": {}
  },
  {
   "cell_type": "code",
   "execution_count": 19,
   "metadata": {},
   "outputs": [
    {
     "output_type": "stream",
     "name": "stdout",
     "text": [
      "We line \"Python\"\nWe line \"Python\"\nWe line \"Python\"\nWe line \"Python\"\nWe line \"Python\"\nWe line \"Python\"\nWe line \"Python\"\nWe line \"Python\"\nWe line \"Python\"\nWe line \"Python\"\nWe line \"Python\"\nWe line \"Python\"\nWe line \"Python\"\nWe line \"Python\"\nWe line \"Python\"\nWe line \"Python\"\nWe line \"Python\"\nWe line \"Python\"\n"
     ]
    }
   ],
   "source": [
    "with open('bullshit.txt') as f:\n",
    "    for line in f:\n",
    "        line = line.strip()\n",
    "        if line.find('Python') > 0:\n",
    "            print(line)"
   ]
  },
  {
   "source": [
    "# finding lines in which python is located"
   ],
   "cell_type": "markdown",
   "metadata": {}
  },
  {
   "cell_type": "code",
   "execution_count": 23,
   "metadata": {},
   "outputs": [
    {
     "output_type": "stream",
     "name": "stdout",
     "text": [
      "Python is a good language\nWe line \"Python\"\nPython is a good language\nWe line \"Python\"\nPython is a good language\nWe line \"Python\"\nPython is a good language\nWe line \"Python\"\nPython is a good language\nWe line \"Python\"\nPython is a good language\nWe line \"Python\"\nPython is a good language\nWe line \"Python\"\nPython is a good language\nWe line \"Python\"\nPython is a good language\nWe line \"Python\"\nPython is a good language\nWe line \"Python\"\nPython is a good language\nWe line \"Python\"\nPython is a good language\nWe line \"Python\"\nPython is a good language\nWe line \"Python\"\nPython is a good language\nWe line \"Python\"\nPython is a good language\nWe line \"Python\"\nPython is a good language\nWe line \"Python\"\nPython is a good language\nWe line \"Python\"\nPython is a good language\nWe line \"Python\"\n"
     ]
    }
   ],
   "source": [
    "with open('bullshit.txt') as f:\n",
    "    for line in f:\n",
    "        line = line.strip()\n",
    "        if re.search(\"Python\",line):\n",
    "            print(line)"
   ]
  },
  {
   "source": [
    "# find the line where Python is beginning of the string"
   ],
   "cell_type": "markdown",
   "metadata": {}
  },
  {
   "cell_type": "code",
   "execution_count": 22,
   "metadata": {},
   "outputs": [
    {
     "output_type": "stream",
     "name": "stdout",
     "text": [
      "Python is a good language\nPython is a good language\nPython is a good language\nPython is a good language\nPython is a good language\nPython is a good language\nPython is a good language\nPython is a good language\nPython is a good language\nPython is a good language\nPython is a good language\nPython is a good language\nPython is a good language\nPython is a good language\nPython is a good language\nPython is a good language\nPython is a good language\nPython is a good language\n"
     ]
    }
   ],
   "source": [
    "with open('bullshit.txt') as f:\n",
    "    for line in f:\n",
    "        line = line.strip()\n",
    "        if re.search(\"^Python\",line):\n",
    "            print(line)\n",
    "        "
   ]
  },
  {
   "source": [
    "# find at at the end of line"
   ],
   "cell_type": "markdown",
   "metadata": {}
  },
  {
   "cell_type": "code",
   "execution_count": 35,
   "metadata": {},
   "outputs": [
    {
     "output_type": "execute_result",
     "data": {
      "text/plain": [
       "<re.Match object; span=(13, 15), match='at'>"
      ]
     },
     "metadata": {},
     "execution_count": 35
    }
   ],
   "source": [
    "# matching the end of the array\n",
    "s = \"sat hap pat mat\"\n",
    "re.search(\"at$\",s)"
   ]
  },
  {
   "cell_type": "code",
   "execution_count": 36,
   "metadata": {},
   "outputs": [],
   "source": [
    "s = \"\"\" \n",
    "X-Sieve: CMU Sieve 2.3 \n",
    "X - DSPAM-Result: sime Rick And Morty 23\n",
    "X\n",
    "\n",
    "\"\"\""
   ]
  },
  {
   "cell_type": "code",
   "execution_count": null,
   "metadata": {},
   "outputs": [],
   "source": []
  },
  {
   "cell_type": "code",
   "execution_count": 37,
   "metadata": {},
   "outputs": [],
   "source": [
    "x = 'My 2 favourite numbers are 19 and 42'"
   ]
  },
  {
   "cell_type": "code",
   "execution_count": null,
   "metadata": {},
   "outputs": [],
   "source": [
    "# Find numbers in the string "
   ]
  },
  {
   "cell_type": "code",
   "execution_count": 38,
   "metadata": {},
   "outputs": [
    {
     "output_type": "execute_result",
     "data": {
      "text/plain": [
       "['2', '19', '42']"
      ]
     },
     "metadata": {},
     "execution_count": 38
    }
   ],
   "source": [
    "re.findall(r'[\\d]+',x)"
   ]
  },
  {
   "cell_type": "code",
   "execution_count": 39,
   "metadata": {},
   "outputs": [
    {
     "output_type": "execute_result",
     "data": {
      "text/plain": [
       "['2', '19', '42']"
      ]
     },
     "metadata": {},
     "execution_count": 39
    }
   ],
   "source": [
    "re.findall(r'[0123456789]+',x)"
   ]
  },
  {
   "source": [
    "# find no numbers in string"
   ],
   "cell_type": "markdown",
   "metadata": {}
  },
  {
   "cell_type": "code",
   "execution_count": 40,
   "metadata": {},
   "outputs": [
    {
     "output_type": "execute_result",
     "data": {
      "text/plain": [
       "['My ', ' favourite numbers are ', ' and ']"
      ]
     },
     "metadata": {},
     "execution_count": 40
    }
   ],
   "source": [
    "re.findall(r'[^\\d]+',x)"
   ]
  },
  {
   "cell_type": "code",
   "execution_count": null,
   "metadata": {},
   "outputs": [],
   "source": []
  },
  {
   "cell_type": "code",
   "execution_count": 41,
   "metadata": {},
   "outputs": [
    {
     "output_type": "execute_result",
     "data": {
      "text/plain": [
       "['M']"
      ]
     },
     "metadata": {},
     "execution_count": 41
    }
   ],
   "source": [
    "re.findall(r\"^[A-Z]\",x)"
   ]
  },
  {
   "cell_type": "code",
   "execution_count": 42,
   "metadata": {},
   "outputs": [
    {
     "output_type": "execute_result",
     "data": {
      "text/plain": [
       "[]"
      ]
     },
     "metadata": {},
     "execution_count": 42
    }
   ],
   "source": [
    "re.findall(r\"[AEIOU]+\",x)"
   ]
  },
  {
   "cell_type": "code",
   "execution_count": 6,
   "metadata": {},
   "outputs": [
    {
     "output_type": "execute_result",
     "data": {
      "text/plain": [
       "['2', '42', '19']"
      ]
     },
     "metadata": {},
     "execution_count": 6
    }
   ],
   "source": [
    "import re \n",
    "s = \" 5623526 My 2 favourite numbers are 42 and 19\"\n",
    "re.findall(r\"[\\d]+\",s)"
   ]
  },
  {
   "cell_type": "code",
   "execution_count": 7,
   "metadata": {},
   "outputs": [
    {
     "output_type": "execute_result",
     "data": {
      "text/plain": [
       "['2', '42', '19']"
      ]
     },
     "metadata": {},
     "execution_count": 7
    }
   ],
   "source": [
    "re.findall(r\"[0-9]+\",s)"
   ]
  },
  {
   "cell_type": "code",
   "execution_count": 10,
   "metadata": {},
   "outputs": [
    {
     "output_type": "execute_result",
     "data": {
      "text/plain": [
       "['My ', ' favourite numbers are ', ' and ']"
      ]
     },
     "metadata": {},
     "execution_count": 10
    }
   ],
   "source": [
    "# if carrat is outside of the it is starting of the string if it is inside it is negation\n",
    "re.findall(r\"[^0-9]+\",s)"
   ]
  },
  {
   "cell_type": "code",
   "execution_count": 15,
   "metadata": {},
   "outputs": [
    {
     "output_type": "execute_result",
     "data": {
      "text/plain": [
       "[]"
      ]
     },
     "metadata": {},
     "execution_count": 15
    }
   ],
   "source": [
    "re.findall(r\"^[0-9]\",s)"
   ]
  },
  {
   "cell_type": "code",
   "execution_count": null,
   "metadata": {},
   "outputs": [],
   "source": [
    "# finding the vovels "
   ]
  },
  {
   "cell_type": "code",
   "execution_count": 14,
   "metadata": {},
   "outputs": [
    {
     "output_type": "execute_result",
     "data": {
      "text/plain": [
       "['A', 'a', 'e', 'a', 'a', 'e', 'e', 'e', 'o', 'o', 'a', 'a']"
      ]
     },
     "metadata": {},
     "execution_count": 14
    }
   ],
   "source": [
    "s1 = \"An apple a day keeps the doctor away\"\n",
    "re.findall(r\"[AEIOU]\",s1, re.IGNORECASE)"
   ]
  },
  {
   "cell_type": "code",
   "execution_count": 19,
   "metadata": {},
   "outputs": [
    {
     "output_type": "execute_result",
     "data": {
      "text/plain": [
       "['A', 'a', 'e', 'a', 'a', 'ee', 'e', 'o', 'o', 'a', 'a']"
      ]
     },
     "metadata": {},
     "execution_count": 19
    }
   ],
   "source": [
    "re.findall(r\"[AEIOUaeiou]+\",s1)"
   ]
  },
  {
   "cell_type": "code",
   "execution_count": 20,
   "metadata": {},
   "outputs": [],
   "source": [
    "import numpy as np"
   ]
  },
  {
   "cell_type": "code",
   "execution_count": 22,
   "metadata": {},
   "outputs": [
    {
     "output_type": "execute_result",
     "data": {
      "text/plain": [
       "[' ', ' ', ' ', ' ', ' ', ' ', ' ']"
      ]
     },
     "metadata": {},
     "execution_count": 22
    }
   ],
   "source": [
    "# finding all the white space characters \n",
    "re.findall(\"\\s\",s)"
   ]
  },
  {
   "source": [
    "# finding all the non white space characters "
   ],
   "cell_type": "markdown",
   "metadata": {}
  },
  {
   "cell_type": "code",
   "execution_count": 23,
   "metadata": {},
   "outputs": [
    {
     "output_type": "execute_result",
     "data": {
      "text/plain": [
       "['M',\n",
       " 'y',\n",
       " '2',\n",
       " 'f',\n",
       " 'a',\n",
       " 'v',\n",
       " 'o',\n",
       " 'u',\n",
       " 'r',\n",
       " 'i',\n",
       " 't',\n",
       " 'e',\n",
       " 'n',\n",
       " 'u',\n",
       " 'm',\n",
       " 'b',\n",
       " 'e',\n",
       " 'r',\n",
       " 's',\n",
       " 'a',\n",
       " 'r',\n",
       " 'e',\n",
       " '4',\n",
       " '2',\n",
       " 'a',\n",
       " 'n',\n",
       " 'd',\n",
       " '1',\n",
       " '9']"
      ]
     },
     "metadata": {},
     "execution_count": 23
    }
   ],
   "source": [
    "re.findall(\"\\S\",s2)"
   ]
  },
  {
   "cell_type": "code",
   "execution_count": 57,
   "metadata": {},
   "outputs": [
    {
     "output_type": "execute_result",
     "data": {
      "text/plain": [
       "[('abc', 'gmail')]"
      ]
     },
     "metadata": {},
     "execution_count": 57
    }
   ],
   "source": [
    "s2 = \"MY email id is abc@gmail.com and i recived a mail on this\"\n",
    "\n",
    "re.findall(r\"(\\w+)@(\\w+)\",s2)"
   ]
  },
  {
   "cell_type": "code",
   "execution_count": 60,
   "metadata": {},
   "outputs": [
    {
     "output_type": "execute_result",
     "data": {
      "text/plain": [
       "[('abc', 'gmail', 'com')]"
      ]
     },
     "metadata": {},
     "execution_count": 60
    }
   ],
   "source": [
    "re.findall(r\"([a-z]+)@([a-z]+)\\.([a-z]+)\",s2)"
   ]
  },
  {
   "cell_type": "code",
   "execution_count": 51,
   "metadata": {},
   "outputs": [
    {
     "output_type": "execute_result",
     "data": {
      "text/plain": [
       "['Gat']"
      ]
     },
     "metadata": {},
     "execution_count": 51
    }
   ],
   "source": [
    "s2 = \" aat Sap pat hat mat Gat\"\n",
    "re.findall(\".at$\",s2)"
   ]
  },
  {
   "cell_type": "code",
   "execution_count": 52,
   "metadata": {},
   "outputs": [
    {
     "output_type": "execute_result",
     "data": {
      "text/plain": [
       "['aat', 'pat', 'hat', 'mat']"
      ]
     },
     "metadata": {},
     "execution_count": 52
    }
   ],
   "source": [
    "re.findall(\"[a-z]at\",s2)"
   ]
  },
  {
   "source": [
    "# find a word whose starting word is not small word"
   ],
   "cell_type": "markdown",
   "metadata": {}
  },
  {
   "cell_type": "code",
   "execution_count": 53,
   "metadata": {},
   "outputs": [
    {
     "output_type": "execute_result",
     "data": {
      "text/plain": [
       "['Gat']"
      ]
     },
     "metadata": {},
     "execution_count": 53
    }
   ],
   "source": [
    "re.findall(r\"[^a-z]at\",s2)"
   ]
  },
  {
   "cell_type": "code",
   "execution_count": 55,
   "metadata": {},
   "outputs": [
    {
     "output_type": "execute_result",
     "data": {
      "text/plain": [
       "[' aat']"
      ]
     },
     "metadata": {},
     "execution_count": 55
    }
   ],
   "source": [
    "re.findall(r\"^\\s[a-z]at\",s2)"
   ]
  },
  {
   "source": [
    "# finding the mail id"
   ],
   "cell_type": "markdown",
   "metadata": {}
  },
  {
   "cell_type": "code",
   "execution_count": null,
   "metadata": {},
   "outputs": [],
   "source": []
  },
  {
   "cell_type": "code",
   "execution_count": 61,
   "metadata": {},
   "outputs": [
    {
     "output_type": "execute_result",
     "data": {
      "text/plain": [
       "['abc@gmail.com']"
      ]
     },
     "metadata": {},
     "execution_count": 61
    }
   ],
   "source": [
    "re.findall(\"\\S+@\\S+\",s2)"
   ]
  },
  {
   "cell_type": "code",
   "execution_count": null,
   "metadata": {},
   "outputs": [],
   "source": []
  }
 ]
}