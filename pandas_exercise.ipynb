{
 "metadata": {
  "language_info": {
   "codemirror_mode": {
    "name": "ipython",
    "version": 3
   },
   "file_extension": ".py",
   "mimetype": "text/x-python",
   "name": "python",
   "nbconvert_exporter": "python",
   "pygments_lexer": "ipython3",
   "version": "3.8.0-final"
  },
  "orig_nbformat": 2,
  "kernelspec": {
   "name": "python3",
   "display_name": "Python 3.8.0 64-bit",
   "metadata": {
    "interpreter": {
     "hash": "df53eb43d5f4a47426fc7695aa15cd0ff0fde94a792cda81b8e3f34ace87d5f5"
    }
   }
  }
 },
 "nbformat": 4,
 "nbformat_minor": 2,
 "cells": [
  {
   "cell_type": "code",
   "execution_count": 1,
   "metadata": {},
   "outputs": [],
   "source": [
    "import pandas as pd \n",
    "import numpy as np"
   ]
  },
  {
   "cell_type": "code",
   "execution_count": 4,
   "metadata": {},
   "outputs": [],
   "source": [
    "df = pd.read_csv(r'Store.csv')"
   ]
  },
  {
   "source": [
    "# question 1"
   ],
   "cell_type": "markdown",
   "metadata": {}
  },
  {
   "cell_type": "code",
   "execution_count": 6,
   "metadata": {},
   "outputs": [
    {
     "output_type": "execute_result",
     "data": {
      "text/plain": [
       "   Row ID        Order ID       Ship Mode Customer ID    Customer Name  \\\n",
       "0       1  CA-2013-152156    Second Class    CG-12520      Claire Gute   \n",
       "1       2  CA-2013-152156    Second Class    CG-12520      Claire Gute   \n",
       "2       3  CA-2013-138688    Second Class    DV-13045  Darrin Van Huff   \n",
       "3       4  US-2012-108966  Standard Class    SO-20335   Sean O'Donnell   \n",
       "4       5  US-2012-108966  Standard Class    SO-20335   Sean O'Donnell   \n",
       "5       6  CA-2011-115812  Standard Class    BH-11710  Brosina Hoffman   \n",
       "6       7  CA-2011-115812  Standard Class    BH-11710  Brosina Hoffman   \n",
       "7       8  CA-2011-115812  Standard Class    BH-11710  Brosina Hoffman   \n",
       "\n",
       "     Segment        Country             City       State  Postal Code Region  \\\n",
       "0   Consumer  United States        Henderson    Kentucky        42420  South   \n",
       "1   Consumer  United States        Henderson    Kentucky        42420  South   \n",
       "2  Corporate  United States      Los Angeles  California        90036   West   \n",
       "3   Consumer  United States  Fort Lauderdale     Florida        33311  South   \n",
       "4   Consumer  United States  Fort Lauderdale     Florida        33311  South   \n",
       "5   Consumer  United States      Los Angeles  California        90032   West   \n",
       "6   Consumer  United States      Los Angeles  California        90032   West   \n",
       "7   Consumer  United States      Los Angeles  California        90032   West   \n",
       "\n",
       "        Product ID         Category Sub-Category  \\\n",
       "0  FUR-BO-10001798        Furniture    Bookcases   \n",
       "1  FUR-CH-10000454        Furniture       Chairs   \n",
       "2  OFF-LA-10000240  Office Supplies       Labels   \n",
       "3  FUR-TA-10000577        Furniture       Tables   \n",
       "4  OFF-ST-10000760  Office Supplies      Storage   \n",
       "5  FUR-FU-10001487        Furniture  Furnishings   \n",
       "6  OFF-AR-10002833  Office Supplies          Art   \n",
       "7  TEC-PH-10002275       Technology       Phones   \n",
       "\n",
       "                                        Product Name     Sales  Quantity  \\\n",
       "0                  Bush Somerset Collection Bookcase  261.9600         2   \n",
       "1  Hon Deluxe Fabric Upholstered Stacking Chairs,...  731.9400         3   \n",
       "2  Self-Adhesive Address Labels for Typewriters b...   14.6200         2   \n",
       "3      Bretford CR4500 Series Slim Rectangular Table  957.5775         5   \n",
       "4                     Eldon Fold 'N Roll Cart System   22.3680         2   \n",
       "5  Eldon Expressions Wood and Plastic Desk Access...   48.8600         7   \n",
       "6                                         Newell 322    7.2800         4   \n",
       "7                     Mitel 5320 IP Phone VoIP phone  907.1520         6   \n",
       "\n",
       "   Discount    Profit  \n",
       "0      0.00   41.9136  \n",
       "1      0.00  219.5820  \n",
       "2      0.00    6.8714  \n",
       "3      0.45 -383.0310  \n",
       "4      0.20    2.5164  \n",
       "5      0.00   14.1694  \n",
       "6      0.00    1.9656  \n",
       "7      0.20   90.7152  "
      ],
      "text/html": "<div>\n<style scoped>\n    .dataframe tbody tr th:only-of-type {\n        vertical-align: middle;\n    }\n\n    .dataframe tbody tr th {\n        vertical-align: top;\n    }\n\n    .dataframe thead th {\n        text-align: right;\n    }\n</style>\n<table border=\"1\" class=\"dataframe\">\n  <thead>\n    <tr style=\"text-align: right;\">\n      <th></th>\n      <th>Row ID</th>\n      <th>Order ID</th>\n      <th>Ship Mode</th>\n      <th>Customer ID</th>\n      <th>Customer Name</th>\n      <th>Segment</th>\n      <th>Country</th>\n      <th>City</th>\n      <th>State</th>\n      <th>Postal Code</th>\n      <th>Region</th>\n      <th>Product ID</th>\n      <th>Category</th>\n      <th>Sub-Category</th>\n      <th>Product Name</th>\n      <th>Sales</th>\n      <th>Quantity</th>\n      <th>Discount</th>\n      <th>Profit</th>\n    </tr>\n  </thead>\n  <tbody>\n    <tr>\n      <th>0</th>\n      <td>1</td>\n      <td>CA-2013-152156</td>\n      <td>Second Class</td>\n      <td>CG-12520</td>\n      <td>Claire Gute</td>\n      <td>Consumer</td>\n      <td>United States</td>\n      <td>Henderson</td>\n      <td>Kentucky</td>\n      <td>42420</td>\n      <td>South</td>\n      <td>FUR-BO-10001798</td>\n      <td>Furniture</td>\n      <td>Bookcases</td>\n      <td>Bush Somerset Collection Bookcase</td>\n      <td>261.9600</td>\n      <td>2</td>\n      <td>0.00</td>\n      <td>41.9136</td>\n    </tr>\n    <tr>\n      <th>1</th>\n      <td>2</td>\n      <td>CA-2013-152156</td>\n      <td>Second Class</td>\n      <td>CG-12520</td>\n      <td>Claire Gute</td>\n      <td>Consumer</td>\n      <td>United States</td>\n      <td>Henderson</td>\n      <td>Kentucky</td>\n      <td>42420</td>\n      <td>South</td>\n      <td>FUR-CH-10000454</td>\n      <td>Furniture</td>\n      <td>Chairs</td>\n      <td>Hon Deluxe Fabric Upholstered Stacking Chairs,...</td>\n      <td>731.9400</td>\n      <td>3</td>\n      <td>0.00</td>\n      <td>219.5820</td>\n    </tr>\n    <tr>\n      <th>2</th>\n      <td>3</td>\n      <td>CA-2013-138688</td>\n      <td>Second Class</td>\n      <td>DV-13045</td>\n      <td>Darrin Van Huff</td>\n      <td>Corporate</td>\n      <td>United States</td>\n      <td>Los Angeles</td>\n      <td>California</td>\n      <td>90036</td>\n      <td>West</td>\n      <td>OFF-LA-10000240</td>\n      <td>Office Supplies</td>\n      <td>Labels</td>\n      <td>Self-Adhesive Address Labels for Typewriters b...</td>\n      <td>14.6200</td>\n      <td>2</td>\n      <td>0.00</td>\n      <td>6.8714</td>\n    </tr>\n    <tr>\n      <th>3</th>\n      <td>4</td>\n      <td>US-2012-108966</td>\n      <td>Standard Class</td>\n      <td>SO-20335</td>\n      <td>Sean O'Donnell</td>\n      <td>Consumer</td>\n      <td>United States</td>\n      <td>Fort Lauderdale</td>\n      <td>Florida</td>\n      <td>33311</td>\n      <td>South</td>\n      <td>FUR-TA-10000577</td>\n      <td>Furniture</td>\n      <td>Tables</td>\n      <td>Bretford CR4500 Series Slim Rectangular Table</td>\n      <td>957.5775</td>\n      <td>5</td>\n      <td>0.45</td>\n      <td>-383.0310</td>\n    </tr>\n    <tr>\n      <th>4</th>\n      <td>5</td>\n      <td>US-2012-108966</td>\n      <td>Standard Class</td>\n      <td>SO-20335</td>\n      <td>Sean O'Donnell</td>\n      <td>Consumer</td>\n      <td>United States</td>\n      <td>Fort Lauderdale</td>\n      <td>Florida</td>\n      <td>33311</td>\n      <td>South</td>\n      <td>OFF-ST-10000760</td>\n      <td>Office Supplies</td>\n      <td>Storage</td>\n      <td>Eldon Fold 'N Roll Cart System</td>\n      <td>22.3680</td>\n      <td>2</td>\n      <td>0.20</td>\n      <td>2.5164</td>\n    </tr>\n    <tr>\n      <th>5</th>\n      <td>6</td>\n      <td>CA-2011-115812</td>\n      <td>Standard Class</td>\n      <td>BH-11710</td>\n      <td>Brosina Hoffman</td>\n      <td>Consumer</td>\n      <td>United States</td>\n      <td>Los Angeles</td>\n      <td>California</td>\n      <td>90032</td>\n      <td>West</td>\n      <td>FUR-FU-10001487</td>\n      <td>Furniture</td>\n      <td>Furnishings</td>\n      <td>Eldon Expressions Wood and Plastic Desk Access...</td>\n      <td>48.8600</td>\n      <td>7</td>\n      <td>0.00</td>\n      <td>14.1694</td>\n    </tr>\n    <tr>\n      <th>6</th>\n      <td>7</td>\n      <td>CA-2011-115812</td>\n      <td>Standard Class</td>\n      <td>BH-11710</td>\n      <td>Brosina Hoffman</td>\n      <td>Consumer</td>\n      <td>United States</td>\n      <td>Los Angeles</td>\n      <td>California</td>\n      <td>90032</td>\n      <td>West</td>\n      <td>OFF-AR-10002833</td>\n      <td>Office Supplies</td>\n      <td>Art</td>\n      <td>Newell 322</td>\n      <td>7.2800</td>\n      <td>4</td>\n      <td>0.00</td>\n      <td>1.9656</td>\n    </tr>\n    <tr>\n      <th>7</th>\n      <td>8</td>\n      <td>CA-2011-115812</td>\n      <td>Standard Class</td>\n      <td>BH-11710</td>\n      <td>Brosina Hoffman</td>\n      <td>Consumer</td>\n      <td>United States</td>\n      <td>Los Angeles</td>\n      <td>California</td>\n      <td>90032</td>\n      <td>West</td>\n      <td>TEC-PH-10002275</td>\n      <td>Technology</td>\n      <td>Phones</td>\n      <td>Mitel 5320 IP Phone VoIP phone</td>\n      <td>907.1520</td>\n      <td>6</td>\n      <td>0.20</td>\n      <td>90.7152</td>\n    </tr>\n  </tbody>\n</table>\n</div>"
     },
     "metadata": {},
     "execution_count": 6
    }
   ],
   "source": [
    "df.head(8)"
   ]
  },
  {
   "cell_type": "code",
   "execution_count": 8,
   "metadata": {},
   "outputs": [
    {
     "output_type": "stream",
     "name": "stdout",
     "text": [
      "There are 9994 and attributes are 19\n"
     ]
    }
   ],
   "source": [
    "records = df.shape[0]\n",
    "attributes = df.shape[1]\n",
    "\n",
    "print(f\"There are {records} and attributes are {attributes}\")"
   ]
  },
  {
   "cell_type": "code",
   "execution_count": 9,
   "metadata": {},
   "outputs": [
    {
     "output_type": "execute_result",
     "data": {
      "text/plain": [
       "Index(['Row ID', 'Order ID', 'Ship Mode', 'Customer ID', 'Customer Name',\n",
       "       'Segment', 'Country', 'City', 'State', 'Postal Code', 'Region',\n",
       "       'Product ID', 'Category', 'Sub-Category', 'Product Name', 'Sales',\n",
       "       'Quantity', 'Discount', 'Profit'],\n",
       "      dtype='object')"
      ]
     },
     "metadata": {},
     "execution_count": 9
    }
   ],
   "source": [
    "df.columns"
   ]
  },
  {
   "cell_type": "code",
   "execution_count": 16,
   "metadata": {},
   "outputs": [
    {
     "output_type": "execute_result",
     "data": {
      "text/plain": [
       "New York City    915\n",
       "Los Angeles      747\n",
       "Philadelphia     537\n",
       "San Francisco    510\n",
       "Seattle          428\n",
       "                ... \n",
       "Linden             1\n",
       "Vacaville          1\n",
       "San Mateo          1\n",
       "Manhattan          1\n",
       "Conway             1\n",
       "Name: City, Length: 531, dtype: int64"
      ]
     },
     "metadata": {},
     "execution_count": 16
    }
   ],
   "source": [
    "df['City'].value_counts()"
   ]
  },
  {
   "source": [
    "# there are 531 unique cities"
   ],
   "cell_type": "markdown",
   "metadata": {}
  },
  {
   "cell_type": "code",
   "execution_count": 18,
   "metadata": {},
   "outputs": [
    {
     "output_type": "execute_result",
     "data": {
      "text/plain": [
       "531"
      ]
     },
     "metadata": {},
     "execution_count": 18
    }
   ],
   "source": [
    "df['City'].nunique()"
   ]
  },
  {
   "source": [
    "# total quantity in east region"
   ],
   "cell_type": "markdown",
   "metadata": {}
  },
  {
   "cell_type": "code",
   "execution_count": 22,
   "metadata": {},
   "outputs": [
    {
     "output_type": "execute_result",
     "data": {
      "text/plain": [
       "10618"
      ]
     },
     "metadata": {},
     "execution_count": 22
    }
   ],
   "source": [
    "df[df['Region'] == 'East']['Quantity'].sum()"
   ]
  },
  {
   "source": [
    "# List out the most valuable (highest sales) customers (ID) in South Region.\n"
   ],
   "cell_type": "markdown",
   "metadata": {}
  },
  {
   "cell_type": "code",
   "execution_count": 41,
   "metadata": {},
   "outputs": [
    {
     "output_type": "execute_result",
     "data": {
      "text/plain": [
       "      Row ID        Order ID       Ship Mode Customer ID Customer Name  \\\n",
       "2697    2698  CA-2011-145317  Standard Class    SM-20320   Sean Miller   \n",
       "\n",
       "          Segment        Country          City    State  Postal Code Region  \\\n",
       "2697  Home Office  United States  Jacksonville  Florida        32216  South   \n",
       "\n",
       "           Product ID    Category Sub-Category  \\\n",
       "2697  TEC-MA-10002412  Technology     Machines   \n",
       "\n",
       "                                           Product Name     Sales  Quantity  \\\n",
       "2697  Cisco TelePresence System EX90 Videoconferenci...  22638.48         6   \n",
       "\n",
       "      Discount     Profit  \n",
       "2697       0.5 -1811.0784  "
      ],
      "text/html": "<div>\n<style scoped>\n    .dataframe tbody tr th:only-of-type {\n        vertical-align: middle;\n    }\n\n    .dataframe tbody tr th {\n        vertical-align: top;\n    }\n\n    .dataframe thead th {\n        text-align: right;\n    }\n</style>\n<table border=\"1\" class=\"dataframe\">\n  <thead>\n    <tr style=\"text-align: right;\">\n      <th></th>\n      <th>Row ID</th>\n      <th>Order ID</th>\n      <th>Ship Mode</th>\n      <th>Customer ID</th>\n      <th>Customer Name</th>\n      <th>Segment</th>\n      <th>Country</th>\n      <th>City</th>\n      <th>State</th>\n      <th>Postal Code</th>\n      <th>Region</th>\n      <th>Product ID</th>\n      <th>Category</th>\n      <th>Sub-Category</th>\n      <th>Product Name</th>\n      <th>Sales</th>\n      <th>Quantity</th>\n      <th>Discount</th>\n      <th>Profit</th>\n    </tr>\n  </thead>\n  <tbody>\n    <tr>\n      <th>2697</th>\n      <td>2698</td>\n      <td>CA-2011-145317</td>\n      <td>Standard Class</td>\n      <td>SM-20320</td>\n      <td>Sean Miller</td>\n      <td>Home Office</td>\n      <td>United States</td>\n      <td>Jacksonville</td>\n      <td>Florida</td>\n      <td>32216</td>\n      <td>South</td>\n      <td>TEC-MA-10002412</td>\n      <td>Technology</td>\n      <td>Machines</td>\n      <td>Cisco TelePresence System EX90 Videoconferenci...</td>\n      <td>22638.48</td>\n      <td>6</td>\n      <td>0.5</td>\n      <td>-1811.0784</td>\n    </tr>\n  </tbody>\n</table>\n</div>"
     },
     "metadata": {},
     "execution_count": 41
    }
   ],
   "source": [
    "df[(df['Sales'] == df['Sales'].max()) & (df['Region'] == 'South')]"
   ]
  },
  {
   "source": [
    "# In the East Region who are the most profitable customers?\n"
   ],
   "cell_type": "markdown",
   "metadata": {}
  },
  {
   "cell_type": "code",
   "execution_count": 45,
   "metadata": {},
   "outputs": [
    {
     "output_type": "execute_result",
     "data": {
      "text/plain": [
       "      Row ID        Order ID       Ship Mode Customer ID     Customer Name  \\\n",
       "7772    7773  CA-2013-108196  Standard Class    CS-12505     Cindy Stewart   \n",
       "3151    3152  CA-2012-147830     First Class    NF-18385  Natalie Fritzler   \n",
       "27        28  US-2012-150630  Standard Class    TB-21520   Tracy Blumstein   \n",
       "1803    1804  CA-2014-158379    Second Class    JA-15970      Joseph Airdo   \n",
       "215      216  CA-2012-146262  Standard Class    VW-21775   Victoria Wilson   \n",
       "...      ...             ...             ...         ...               ...   \n",
       "4277    4278  US-2013-107440  Standard Class    BS-11365      Bill Shonely   \n",
       "1085    1086  US-2013-143819  Standard Class    KD-16270     Karen Daniels   \n",
       "7666    7667  US-2013-140158  Standard Class    DR-12940     Daniel Raglin   \n",
       "2623    2624  CA-2014-127180     First Class    TA-21385      Tom Ashbrook   \n",
       "4190    4191  CA-2014-166709  Standard Class    HL-15040      Hunter Lopez   \n",
       "\n",
       "          Segment        Country           City         State  Postal Code  \\\n",
       "7772     Consumer  United States      Lancaster          Ohio        43130   \n",
       "3151     Consumer  United States         Newark          Ohio        43055   \n",
       "27       Consumer  United States   Philadelphia  Pennsylvania        19140   \n",
       "1803     Consumer  United States   Philadelphia  Pennsylvania        19134   \n",
       "215     Corporate  United States         Medina          Ohio        44256   \n",
       "...           ...            ...            ...           ...          ...   \n",
       "4277    Corporate  United States       Lakewood    New Jersey         8701   \n",
       "1085     Consumer  United States        Yonkers      New York        10701   \n",
       "7666  Home Office  United States     Providence  Rhode Island         2908   \n",
       "2623  Home Office  United States  New York City      New York        10024   \n",
       "4190     Consumer  United States         Newark      Delaware        19711   \n",
       "\n",
       "     Region       Product ID         Category Sub-Category  \\\n",
       "7772   East  TEC-MA-10000418       Technology     Machines   \n",
       "3151   East  TEC-MA-10000418       Technology     Machines   \n",
       "27     East  FUR-BO-10004834        Furniture    Bookcases   \n",
       "1803   East  OFF-SU-10002881  Office Supplies     Supplies   \n",
       "215    East  TEC-MA-10000864       Technology     Machines   \n",
       "...     ...              ...              ...          ...   \n",
       "4277   East  TEC-MA-10001047       Technology     Machines   \n",
       "1085   East  TEC-MA-10003979       Technology     Machines   \n",
       "7666   East  TEC-CO-10001449       Technology      Copiers   \n",
       "2623   East  TEC-CO-10004722       Technology      Copiers   \n",
       "4190   East  TEC-CO-10004722       Technology      Copiers   \n",
       "\n",
       "                                           Product Name      Sales  Quantity  \\\n",
       "7772          Cubify CubeX 3D Printer Double Head Print   4499.985         5   \n",
       "3151          Cubify CubeX 3D Printer Double Head Print   1799.994         2   \n",
       "27    Riverside Palais Royal Lawyers Bookcase, Royal...   3083.430         7   \n",
       "1803  Martin Yale Chadless Opener Electric Letter Op...   4663.736         7   \n",
       "215                  Cisco 9971 IP Video Phone Charcoal   1188.000         9   \n",
       "...                                                 ...        ...       ...   \n",
       "4277   3D Systems Cube Printer, 2nd Generation, Magenta   9099.930         7   \n",
       "1085                  Ativa V4110MDD Micro-Cut Shredder   4899.930         7   \n",
       "7666               Hewlett Packard LaserJet 3310 Copier   5399.910         9   \n",
       "2623              Canon imageCLASS 2200 Advanced Copier  11199.968         4   \n",
       "4190              Canon imageCLASS 2200 Advanced Copier  10499.970         3   \n",
       "\n",
       "      Discount     Profit  \n",
       "7772       0.7 -6599.9780  \n",
       "3151       0.7 -2639.9912  \n",
       "27         0.5 -1665.0522  \n",
       "1803       0.2 -1049.3406  \n",
       "215        0.7  -950.4000  \n",
       "...        ...        ...  \n",
       "4277       0.0  2365.9818  \n",
       "1085       0.0  2400.9657  \n",
       "7666       0.0  2591.9568  \n",
       "2623       0.2  3919.9888  \n",
       "4190       0.0  5039.9856  \n",
       "\n",
       "[2848 rows x 19 columns]"
      ],
      "text/html": "<div>\n<style scoped>\n    .dataframe tbody tr th:only-of-type {\n        vertical-align: middle;\n    }\n\n    .dataframe tbody tr th {\n        vertical-align: top;\n    }\n\n    .dataframe thead th {\n        text-align: right;\n    }\n</style>\n<table border=\"1\" class=\"dataframe\">\n  <thead>\n    <tr style=\"text-align: right;\">\n      <th></th>\n      <th>Row ID</th>\n      <th>Order ID</th>\n      <th>Ship Mode</th>\n      <th>Customer ID</th>\n      <th>Customer Name</th>\n      <th>Segment</th>\n      <th>Country</th>\n      <th>City</th>\n      <th>State</th>\n      <th>Postal Code</th>\n      <th>Region</th>\n      <th>Product ID</th>\n      <th>Category</th>\n      <th>Sub-Category</th>\n      <th>Product Name</th>\n      <th>Sales</th>\n      <th>Quantity</th>\n      <th>Discount</th>\n      <th>Profit</th>\n    </tr>\n  </thead>\n  <tbody>\n    <tr>\n      <th>7772</th>\n      <td>7773</td>\n      <td>CA-2013-108196</td>\n      <td>Standard Class</td>\n      <td>CS-12505</td>\n      <td>Cindy Stewart</td>\n      <td>Consumer</td>\n      <td>United States</td>\n      <td>Lancaster</td>\n      <td>Ohio</td>\n      <td>43130</td>\n      <td>East</td>\n      <td>TEC-MA-10000418</td>\n      <td>Technology</td>\n      <td>Machines</td>\n      <td>Cubify CubeX 3D Printer Double Head Print</td>\n      <td>4499.985</td>\n      <td>5</td>\n      <td>0.7</td>\n      <td>-6599.9780</td>\n    </tr>\n    <tr>\n      <th>3151</th>\n      <td>3152</td>\n      <td>CA-2012-147830</td>\n      <td>First Class</td>\n      <td>NF-18385</td>\n      <td>Natalie Fritzler</td>\n      <td>Consumer</td>\n      <td>United States</td>\n      <td>Newark</td>\n      <td>Ohio</td>\n      <td>43055</td>\n      <td>East</td>\n      <td>TEC-MA-10000418</td>\n      <td>Technology</td>\n      <td>Machines</td>\n      <td>Cubify CubeX 3D Printer Double Head Print</td>\n      <td>1799.994</td>\n      <td>2</td>\n      <td>0.7</td>\n      <td>-2639.9912</td>\n    </tr>\n    <tr>\n      <th>27</th>\n      <td>28</td>\n      <td>US-2012-150630</td>\n      <td>Standard Class</td>\n      <td>TB-21520</td>\n      <td>Tracy Blumstein</td>\n      <td>Consumer</td>\n      <td>United States</td>\n      <td>Philadelphia</td>\n      <td>Pennsylvania</td>\n      <td>19140</td>\n      <td>East</td>\n      <td>FUR-BO-10004834</td>\n      <td>Furniture</td>\n      <td>Bookcases</td>\n      <td>Riverside Palais Royal Lawyers Bookcase, Royal...</td>\n      <td>3083.430</td>\n      <td>7</td>\n      <td>0.5</td>\n      <td>-1665.0522</td>\n    </tr>\n    <tr>\n      <th>1803</th>\n      <td>1804</td>\n      <td>CA-2014-158379</td>\n      <td>Second Class</td>\n      <td>JA-15970</td>\n      <td>Joseph Airdo</td>\n      <td>Consumer</td>\n      <td>United States</td>\n      <td>Philadelphia</td>\n      <td>Pennsylvania</td>\n      <td>19134</td>\n      <td>East</td>\n      <td>OFF-SU-10002881</td>\n      <td>Office Supplies</td>\n      <td>Supplies</td>\n      <td>Martin Yale Chadless Opener Electric Letter Op...</td>\n      <td>4663.736</td>\n      <td>7</td>\n      <td>0.2</td>\n      <td>-1049.3406</td>\n    </tr>\n    <tr>\n      <th>215</th>\n      <td>216</td>\n      <td>CA-2012-146262</td>\n      <td>Standard Class</td>\n      <td>VW-21775</td>\n      <td>Victoria Wilson</td>\n      <td>Corporate</td>\n      <td>United States</td>\n      <td>Medina</td>\n      <td>Ohio</td>\n      <td>44256</td>\n      <td>East</td>\n      <td>TEC-MA-10000864</td>\n      <td>Technology</td>\n      <td>Machines</td>\n      <td>Cisco 9971 IP Video Phone Charcoal</td>\n      <td>1188.000</td>\n      <td>9</td>\n      <td>0.7</td>\n      <td>-950.4000</td>\n    </tr>\n    <tr>\n      <th>...</th>\n      <td>...</td>\n      <td>...</td>\n      <td>...</td>\n      <td>...</td>\n      <td>...</td>\n      <td>...</td>\n      <td>...</td>\n      <td>...</td>\n      <td>...</td>\n      <td>...</td>\n      <td>...</td>\n      <td>...</td>\n      <td>...</td>\n      <td>...</td>\n      <td>...</td>\n      <td>...</td>\n      <td>...</td>\n      <td>...</td>\n      <td>...</td>\n    </tr>\n    <tr>\n      <th>4277</th>\n      <td>4278</td>\n      <td>US-2013-107440</td>\n      <td>Standard Class</td>\n      <td>BS-11365</td>\n      <td>Bill Shonely</td>\n      <td>Corporate</td>\n      <td>United States</td>\n      <td>Lakewood</td>\n      <td>New Jersey</td>\n      <td>8701</td>\n      <td>East</td>\n      <td>TEC-MA-10001047</td>\n      <td>Technology</td>\n      <td>Machines</td>\n      <td>3D Systems Cube Printer, 2nd Generation, Magenta</td>\n      <td>9099.930</td>\n      <td>7</td>\n      <td>0.0</td>\n      <td>2365.9818</td>\n    </tr>\n    <tr>\n      <th>1085</th>\n      <td>1086</td>\n      <td>US-2013-143819</td>\n      <td>Standard Class</td>\n      <td>KD-16270</td>\n      <td>Karen Daniels</td>\n      <td>Consumer</td>\n      <td>United States</td>\n      <td>Yonkers</td>\n      <td>New York</td>\n      <td>10701</td>\n      <td>East</td>\n      <td>TEC-MA-10003979</td>\n      <td>Technology</td>\n      <td>Machines</td>\n      <td>Ativa V4110MDD Micro-Cut Shredder</td>\n      <td>4899.930</td>\n      <td>7</td>\n      <td>0.0</td>\n      <td>2400.9657</td>\n    </tr>\n    <tr>\n      <th>7666</th>\n      <td>7667</td>\n      <td>US-2013-140158</td>\n      <td>Standard Class</td>\n      <td>DR-12940</td>\n      <td>Daniel Raglin</td>\n      <td>Home Office</td>\n      <td>United States</td>\n      <td>Providence</td>\n      <td>Rhode Island</td>\n      <td>2908</td>\n      <td>East</td>\n      <td>TEC-CO-10001449</td>\n      <td>Technology</td>\n      <td>Copiers</td>\n      <td>Hewlett Packard LaserJet 3310 Copier</td>\n      <td>5399.910</td>\n      <td>9</td>\n      <td>0.0</td>\n      <td>2591.9568</td>\n    </tr>\n    <tr>\n      <th>2623</th>\n      <td>2624</td>\n      <td>CA-2014-127180</td>\n      <td>First Class</td>\n      <td>TA-21385</td>\n      <td>Tom Ashbrook</td>\n      <td>Home Office</td>\n      <td>United States</td>\n      <td>New York City</td>\n      <td>New York</td>\n      <td>10024</td>\n      <td>East</td>\n      <td>TEC-CO-10004722</td>\n      <td>Technology</td>\n      <td>Copiers</td>\n      <td>Canon imageCLASS 2200 Advanced Copier</td>\n      <td>11199.968</td>\n      <td>4</td>\n      <td>0.2</td>\n      <td>3919.9888</td>\n    </tr>\n    <tr>\n      <th>4190</th>\n      <td>4191</td>\n      <td>CA-2014-166709</td>\n      <td>Standard Class</td>\n      <td>HL-15040</td>\n      <td>Hunter Lopez</td>\n      <td>Consumer</td>\n      <td>United States</td>\n      <td>Newark</td>\n      <td>Delaware</td>\n      <td>19711</td>\n      <td>East</td>\n      <td>TEC-CO-10004722</td>\n      <td>Technology</td>\n      <td>Copiers</td>\n      <td>Canon imageCLASS 2200 Advanced Copier</td>\n      <td>10499.970</td>\n      <td>3</td>\n      <td>0.0</td>\n      <td>5039.9856</td>\n    </tr>\n  </tbody>\n</table>\n<p>2848 rows × 19 columns</p>\n</div>"
     },
     "metadata": {},
     "execution_count": 45
    }
   ],
   "source": [
    "df[df['Region'] == 'East'].sort_values(by = 'Profit')"
   ]
  },
  {
   "cell_type": "code",
   "execution_count": null,
   "metadata": {},
   "outputs": [],
   "source": []
  }
 ]
}