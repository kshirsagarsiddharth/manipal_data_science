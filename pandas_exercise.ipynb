{
 "metadata": {
  "language_info": {
   "codemirror_mode": {
    "name": "ipython",
    "version": 3
   },
   "file_extension": ".py",
   "mimetype": "text/x-python",
   "name": "python",
   "nbconvert_exporter": "python",
   "pygments_lexer": "ipython3",
   "version": "3.8.0-final"
  },
  "orig_nbformat": 2,
  "kernelspec": {
   "name": "python3",
   "display_name": "Python 3.8.0 64-bit ('tf_2.4': conda)",
   "metadata": {
    "interpreter": {
     "hash": "df53eb43d5f4a47426fc7695aa15cd0ff0fde94a792cda81b8e3f34ace87d5f5"
    }
   }
  }
 },
 "nbformat": 4,
 "nbformat_minor": 2,
 "cells": [
  {
   "cell_type": "code",
   "execution_count": 1,
   "metadata": {},
   "outputs": [],
   "source": [
    "import pandas as pd \n",
    "import numpy as np"
   ]
  },
  {
   "cell_type": "code",
   "execution_count": 2,
   "metadata": {},
   "outputs": [],
   "source": [
    "df = pd.read_csv(r'Store.csv')"
   ]
  },
  {
   "source": [
    "# question 1"
   ],
   "cell_type": "markdown",
   "metadata": {}
  },
  {
   "cell_type": "code",
   "execution_count": 6,
   "metadata": {},
   "outputs": [
    {
     "output_type": "execute_result",
     "data": {
      "text/plain": [
       "   Row ID        Order ID       Ship Mode Customer ID    Customer Name  \\\n",
       "0       1  CA-2013-152156    Second Class    CG-12520      Claire Gute   \n",
       "1       2  CA-2013-152156    Second Class    CG-12520      Claire Gute   \n",
       "2       3  CA-2013-138688    Second Class    DV-13045  Darrin Van Huff   \n",
       "3       4  US-2012-108966  Standard Class    SO-20335   Sean O'Donnell   \n",
       "4       5  US-2012-108966  Standard Class    SO-20335   Sean O'Donnell   \n",
       "5       6  CA-2011-115812  Standard Class    BH-11710  Brosina Hoffman   \n",
       "6       7  CA-2011-115812  Standard Class    BH-11710  Brosina Hoffman   \n",
       "7       8  CA-2011-115812  Standard Class    BH-11710  Brosina Hoffman   \n",
       "\n",
       "     Segment        Country             City       State  Postal Code Region  \\\n",
       "0   Consumer  United States        Henderson    Kentucky        42420  South   \n",
       "1   Consumer  United States        Henderson    Kentucky        42420  South   \n",
       "2  Corporate  United States      Los Angeles  California        90036   West   \n",
       "3   Consumer  United States  Fort Lauderdale     Florida        33311  South   \n",
       "4   Consumer  United States  Fort Lauderdale     Florida        33311  South   \n",
       "5   Consumer  United States      Los Angeles  California        90032   West   \n",
       "6   Consumer  United States      Los Angeles  California        90032   West   \n",
       "7   Consumer  United States      Los Angeles  California        90032   West   \n",
       "\n",
       "        Product ID         Category Sub-Category  \\\n",
       "0  FUR-BO-10001798        Furniture    Bookcases   \n",
       "1  FUR-CH-10000454        Furniture       Chairs   \n",
       "2  OFF-LA-10000240  Office Supplies       Labels   \n",
       "3  FUR-TA-10000577        Furniture       Tables   \n",
       "4  OFF-ST-10000760  Office Supplies      Storage   \n",
       "5  FUR-FU-10001487        Furniture  Furnishings   \n",
       "6  OFF-AR-10002833  Office Supplies          Art   \n",
       "7  TEC-PH-10002275       Technology       Phones   \n",
       "\n",
       "                                        Product Name     Sales  Quantity  \\\n",
       "0                  Bush Somerset Collection Bookcase  261.9600         2   \n",
       "1  Hon Deluxe Fabric Upholstered Stacking Chairs,...  731.9400         3   \n",
       "2  Self-Adhesive Address Labels for Typewriters b...   14.6200         2   \n",
       "3      Bretford CR4500 Series Slim Rectangular Table  957.5775         5   \n",
       "4                     Eldon Fold 'N Roll Cart System   22.3680         2   \n",
       "5  Eldon Expressions Wood and Plastic Desk Access...   48.8600         7   \n",
       "6                                         Newell 322    7.2800         4   \n",
       "7                     Mitel 5320 IP Phone VoIP phone  907.1520         6   \n",
       "\n",
       "   Discount    Profit  \n",
       "0      0.00   41.9136  \n",
       "1      0.00  219.5820  \n",
       "2      0.00    6.8714  \n",
       "3      0.45 -383.0310  \n",
       "4      0.20    2.5164  \n",
       "5      0.00   14.1694  \n",
       "6      0.00    1.9656  \n",
       "7      0.20   90.7152  "
      ],
      "text/html": "<div>\n<style scoped>\n    .dataframe tbody tr th:only-of-type {\n        vertical-align: middle;\n    }\n\n    .dataframe tbody tr th {\n        vertical-align: top;\n    }\n\n    .dataframe thead th {\n        text-align: right;\n    }\n</style>\n<table border=\"1\" class=\"dataframe\">\n  <thead>\n    <tr style=\"text-align: right;\">\n      <th></th>\n      <th>Row ID</th>\n      <th>Order ID</th>\n      <th>Ship Mode</th>\n      <th>Customer ID</th>\n      <th>Customer Name</th>\n      <th>Segment</th>\n      <th>Country</th>\n      <th>City</th>\n      <th>State</th>\n      <th>Postal Code</th>\n      <th>Region</th>\n      <th>Product ID</th>\n      <th>Category</th>\n      <th>Sub-Category</th>\n      <th>Product Name</th>\n      <th>Sales</th>\n      <th>Quantity</th>\n      <th>Discount</th>\n      <th>Profit</th>\n    </tr>\n  </thead>\n  <tbody>\n    <tr>\n      <th>0</th>\n      <td>1</td>\n      <td>CA-2013-152156</td>\n      <td>Second Class</td>\n      <td>CG-12520</td>\n      <td>Claire Gute</td>\n      <td>Consumer</td>\n      <td>United States</td>\n      <td>Henderson</td>\n      <td>Kentucky</td>\n      <td>42420</td>\n      <td>South</td>\n      <td>FUR-BO-10001798</td>\n      <td>Furniture</td>\n      <td>Bookcases</td>\n      <td>Bush Somerset Collection Bookcase</td>\n      <td>261.9600</td>\n      <td>2</td>\n      <td>0.00</td>\n      <td>41.9136</td>\n    </tr>\n    <tr>\n      <th>1</th>\n      <td>2</td>\n      <td>CA-2013-152156</td>\n      <td>Second Class</td>\n      <td>CG-12520</td>\n      <td>Claire Gute</td>\n      <td>Consumer</td>\n      <td>United States</td>\n      <td>Henderson</td>\n      <td>Kentucky</td>\n      <td>42420</td>\n      <td>South</td>\n      <td>FUR-CH-10000454</td>\n      <td>Furniture</td>\n      <td>Chairs</td>\n      <td>Hon Deluxe Fabric Upholstered Stacking Chairs,...</td>\n      <td>731.9400</td>\n      <td>3</td>\n      <td>0.00</td>\n      <td>219.5820</td>\n    </tr>\n    <tr>\n      <th>2</th>\n      <td>3</td>\n      <td>CA-2013-138688</td>\n      <td>Second Class</td>\n      <td>DV-13045</td>\n      <td>Darrin Van Huff</td>\n      <td>Corporate</td>\n      <td>United States</td>\n      <td>Los Angeles</td>\n      <td>California</td>\n      <td>90036</td>\n      <td>West</td>\n      <td>OFF-LA-10000240</td>\n      <td>Office Supplies</td>\n      <td>Labels</td>\n      <td>Self-Adhesive Address Labels for Typewriters b...</td>\n      <td>14.6200</td>\n      <td>2</td>\n      <td>0.00</td>\n      <td>6.8714</td>\n    </tr>\n    <tr>\n      <th>3</th>\n      <td>4</td>\n      <td>US-2012-108966</td>\n      <td>Standard Class</td>\n      <td>SO-20335</td>\n      <td>Sean O'Donnell</td>\n      <td>Consumer</td>\n      <td>United States</td>\n      <td>Fort Lauderdale</td>\n      <td>Florida</td>\n      <td>33311</td>\n      <td>South</td>\n      <td>FUR-TA-10000577</td>\n      <td>Furniture</td>\n      <td>Tables</td>\n      <td>Bretford CR4500 Series Slim Rectangular Table</td>\n      <td>957.5775</td>\n      <td>5</td>\n      <td>0.45</td>\n      <td>-383.0310</td>\n    </tr>\n    <tr>\n      <th>4</th>\n      <td>5</td>\n      <td>US-2012-108966</td>\n      <td>Standard Class</td>\n      <td>SO-20335</td>\n      <td>Sean O'Donnell</td>\n      <td>Consumer</td>\n      <td>United States</td>\n      <td>Fort Lauderdale</td>\n      <td>Florida</td>\n      <td>33311</td>\n      <td>South</td>\n      <td>OFF-ST-10000760</td>\n      <td>Office Supplies</td>\n      <td>Storage</td>\n      <td>Eldon Fold 'N Roll Cart System</td>\n      <td>22.3680</td>\n      <td>2</td>\n      <td>0.20</td>\n      <td>2.5164</td>\n    </tr>\n    <tr>\n      <th>5</th>\n      <td>6</td>\n      <td>CA-2011-115812</td>\n      <td>Standard Class</td>\n      <td>BH-11710</td>\n      <td>Brosina Hoffman</td>\n      <td>Consumer</td>\n      <td>United States</td>\n      <td>Los Angeles</td>\n      <td>California</td>\n      <td>90032</td>\n      <td>West</td>\n      <td>FUR-FU-10001487</td>\n      <td>Furniture</td>\n      <td>Furnishings</td>\n      <td>Eldon Expressions Wood and Plastic Desk Access...</td>\n      <td>48.8600</td>\n      <td>7</td>\n      <td>0.00</td>\n      <td>14.1694</td>\n    </tr>\n    <tr>\n      <th>6</th>\n      <td>7</td>\n      <td>CA-2011-115812</td>\n      <td>Standard Class</td>\n      <td>BH-11710</td>\n      <td>Brosina Hoffman</td>\n      <td>Consumer</td>\n      <td>United States</td>\n      <td>Los Angeles</td>\n      <td>California</td>\n      <td>90032</td>\n      <td>West</td>\n      <td>OFF-AR-10002833</td>\n      <td>Office Supplies</td>\n      <td>Art</td>\n      <td>Newell 322</td>\n      <td>7.2800</td>\n      <td>4</td>\n      <td>0.00</td>\n      <td>1.9656</td>\n    </tr>\n    <tr>\n      <th>7</th>\n      <td>8</td>\n      <td>CA-2011-115812</td>\n      <td>Standard Class</td>\n      <td>BH-11710</td>\n      <td>Brosina Hoffman</td>\n      <td>Consumer</td>\n      <td>United States</td>\n      <td>Los Angeles</td>\n      <td>California</td>\n      <td>90032</td>\n      <td>West</td>\n      <td>TEC-PH-10002275</td>\n      <td>Technology</td>\n      <td>Phones</td>\n      <td>Mitel 5320 IP Phone VoIP phone</td>\n      <td>907.1520</td>\n      <td>6</td>\n      <td>0.20</td>\n      <td>90.7152</td>\n    </tr>\n  </tbody>\n</table>\n</div>"
     },
     "metadata": {},
     "execution_count": 6
    }
   ],
   "source": [
    "df.head(8)"
   ]
  },
  {
   "cell_type": "code",
   "execution_count": 8,
   "metadata": {},
   "outputs": [
    {
     "output_type": "stream",
     "name": "stdout",
     "text": [
      "There are 9994 and attributes are 19\n"
     ]
    }
   ],
   "source": [
    "records = df.shape[0]\n",
    "attributes = df.shape[1]\n",
    "\n",
    "print(f\"There are {records} and attributes are {attributes}\")"
   ]
  },
  {
   "cell_type": "code",
   "execution_count": 9,
   "metadata": {},
   "outputs": [
    {
     "output_type": "execute_result",
     "data": {
      "text/plain": [
       "Index(['Row ID', 'Order ID', 'Ship Mode', 'Customer ID', 'Customer Name',\n",
       "       'Segment', 'Country', 'City', 'State', 'Postal Code', 'Region',\n",
       "       'Product ID', 'Category', 'Sub-Category', 'Product Name', 'Sales',\n",
       "       'Quantity', 'Discount', 'Profit'],\n",
       "      dtype='object')"
      ]
     },
     "metadata": {},
     "execution_count": 9
    }
   ],
   "source": [
    "df.columns"
   ]
  },
  {
   "cell_type": "code",
   "execution_count": 16,
   "metadata": {},
   "outputs": [
    {
     "output_type": "execute_result",
     "data": {
      "text/plain": [
       "New York City    915\n",
       "Los Angeles      747\n",
       "Philadelphia     537\n",
       "San Francisco    510\n",
       "Seattle          428\n",
       "                ... \n",
       "Linden             1\n",
       "Vacaville          1\n",
       "San Mateo          1\n",
       "Manhattan          1\n",
       "Conway             1\n",
       "Name: City, Length: 531, dtype: int64"
      ]
     },
     "metadata": {},
     "execution_count": 16
    }
   ],
   "source": [
    "df['City'].value_counts()"
   ]
  },
  {
   "source": [
    "# there are 531 unique cities"
   ],
   "cell_type": "markdown",
   "metadata": {}
  },
  {
   "cell_type": "code",
   "execution_count": 18,
   "metadata": {},
   "outputs": [
    {
     "output_type": "execute_result",
     "data": {
      "text/plain": [
       "531"
      ]
     },
     "metadata": {},
     "execution_count": 18
    }
   ],
   "source": [
    "df['City'].nunique()"
   ]
  },
  {
   "source": [
    "# total quantity in east region"
   ],
   "cell_type": "markdown",
   "metadata": {}
  },
  {
   "cell_type": "code",
   "execution_count": 22,
   "metadata": {},
   "outputs": [
    {
     "output_type": "execute_result",
     "data": {
      "text/plain": [
       "10618"
      ]
     },
     "metadata": {},
     "execution_count": 22
    }
   ],
   "source": [
    "df[df['Region'] == 'East']['Quantity'].sum()"
   ]
  },
  {
   "source": [
    "# List out the most valuable (highest sales) customers (ID) in South Region.\n"
   ],
   "cell_type": "markdown",
   "metadata": {}
  },
  {
   "cell_type": "code",
   "execution_count": 41,
   "metadata": {},
   "outputs": [
    {
     "output_type": "execute_result",
     "data": {
      "text/plain": [
       "      Row ID        Order ID       Ship Mode Customer ID Customer Name  \\\n",
       "2697    2698  CA-2011-145317  Standard Class    SM-20320   Sean Miller   \n",
       "\n",
       "          Segment        Country          City    State  Postal Code Region  \\\n",
       "2697  Home Office  United States  Jacksonville  Florida        32216  South   \n",
       "\n",
       "           Product ID    Category Sub-Category  \\\n",
       "2697  TEC-MA-10002412  Technology     Machines   \n",
       "\n",
       "                                           Product Name     Sales  Quantity  \\\n",
       "2697  Cisco TelePresence System EX90 Videoconferenci...  22638.48         6   \n",
       "\n",
       "      Discount     Profit  \n",
       "2697       0.5 -1811.0784  "
      ],
      "text/html": "<div>\n<style scoped>\n    .dataframe tbody tr th:only-of-type {\n        vertical-align: middle;\n    }\n\n    .dataframe tbody tr th {\n        vertical-align: top;\n    }\n\n    .dataframe thead th {\n        text-align: right;\n    }\n</style>\n<table border=\"1\" class=\"dataframe\">\n  <thead>\n    <tr style=\"text-align: right;\">\n      <th></th>\n      <th>Row ID</th>\n      <th>Order ID</th>\n      <th>Ship Mode</th>\n      <th>Customer ID</th>\n      <th>Customer Name</th>\n      <th>Segment</th>\n      <th>Country</th>\n      <th>City</th>\n      <th>State</th>\n      <th>Postal Code</th>\n      <th>Region</th>\n      <th>Product ID</th>\n      <th>Category</th>\n      <th>Sub-Category</th>\n      <th>Product Name</th>\n      <th>Sales</th>\n      <th>Quantity</th>\n      <th>Discount</th>\n      <th>Profit</th>\n    </tr>\n  </thead>\n  <tbody>\n    <tr>\n      <th>2697</th>\n      <td>2698</td>\n      <td>CA-2011-145317</td>\n      <td>Standard Class</td>\n      <td>SM-20320</td>\n      <td>Sean Miller</td>\n      <td>Home Office</td>\n      <td>United States</td>\n      <td>Jacksonville</td>\n      <td>Florida</td>\n      <td>32216</td>\n      <td>South</td>\n      <td>TEC-MA-10002412</td>\n      <td>Technology</td>\n      <td>Machines</td>\n      <td>Cisco TelePresence System EX90 Videoconferenci...</td>\n      <td>22638.48</td>\n      <td>6</td>\n      <td>0.5</td>\n      <td>-1811.0784</td>\n    </tr>\n  </tbody>\n</table>\n</div>"
     },
     "metadata": {},
     "execution_count": 41
    }
   ],
   "source": [
    "df[(df['Sales'] == df['Sales'].max()) & (df['Region'] == 'South')]"
   ]
  },
  {
   "source": [
    "# In the East Region who are the most profitable customers?\n"
   ],
   "cell_type": "markdown",
   "metadata": {}
  },
  {
   "cell_type": "code",
   "execution_count": 47,
   "metadata": {},
   "outputs": [
    {
     "output_type": "execute_result",
     "data": {
      "text/plain": [
       "      Row ID        Order ID       Ship Mode Customer ID     Customer Name  \\\n",
       "4190    4191  CA-2014-166709  Standard Class    HL-15040      Hunter Lopez   \n",
       "2623    2624  CA-2014-127180     First Class    TA-21385      Tom Ashbrook   \n",
       "7666    7667  US-2013-140158  Standard Class    DR-12940     Daniel Raglin   \n",
       "1085    1086  US-2013-143819  Standard Class    KD-16270     Karen Daniels   \n",
       "4277    4278  US-2013-107440  Standard Class    BS-11365      Bill Shonely   \n",
       "6626    6627  CA-2011-145541  Standard Class    TB-21400  Tom Boeckenhauer   \n",
       "8204    8205  CA-2012-114811        Same Day    KD-16495     Keith Dawkins   \n",
       "318      319  CA-2011-164973  Standard Class    NM-18445      Nathan Mautz   \n",
       "7914    7915  CA-2014-165323  Standard Class    SR-20740     Steven Roelle   \n",
       "9270    9271  US-2014-102183  Standard Class    PK-19075         Pete Kriz   \n",
       "\n",
       "          Segment        Country           City         State  Postal Code  \\\n",
       "4190     Consumer  United States         Newark      Delaware        19711   \n",
       "2623  Home Office  United States  New York City      New York        10024   \n",
       "7666  Home Office  United States     Providence  Rhode Island         2908   \n",
       "1085     Consumer  United States        Yonkers      New York        10701   \n",
       "4277    Corporate  United States       Lakewood    New Jersey         8701   \n",
       "6626     Consumer  United States  New York City      New York        10024   \n",
       "8204    Corporate  United States  New York City      New York        10024   \n",
       "318   Home Office  United States  New York City      New York        10024   \n",
       "7914  Home Office  United States  New York City      New York        10024   \n",
       "9270     Consumer  United States  New York City      New York        10035   \n",
       "\n",
       "     Region       Product ID         Category Sub-Category  \\\n",
       "4190   East  TEC-CO-10004722       Technology      Copiers   \n",
       "2623   East  TEC-CO-10004722       Technology      Copiers   \n",
       "7666   East  TEC-CO-10001449       Technology      Copiers   \n",
       "1085   East  TEC-MA-10003979       Technology     Machines   \n",
       "4277   East  TEC-MA-10001047       Technology     Machines   \n",
       "6626   East  TEC-MA-10001127       Technology     Machines   \n",
       "8204   East  TEC-MA-10000045       Technology     Machines   \n",
       "318    East  TEC-MA-10002927       Technology     Machines   \n",
       "7914   East  TEC-MA-10003673       Technology     Machines   \n",
       "9270   East  OFF-BI-10001359  Office Supplies      Binders   \n",
       "\n",
       "                                           Product Name      Sales  Quantity  \\\n",
       "4190              Canon imageCLASS 2200 Advanced Copier  10499.970         3   \n",
       "2623              Canon imageCLASS 2200 Advanced Copier  11199.968         4   \n",
       "7666               Hewlett Packard LaserJet 3310 Copier   5399.910         9   \n",
       "1085                  Ativa V4110MDD Micro-Cut Shredder   4899.930         7   \n",
       "4277   3D Systems Cube Printer, 2nd Generation, Magenta   9099.930         7   \n",
       "6626  HP Designjet T520 Inkjet Large Format Printer ...   6999.960         4   \n",
       "8204                  Zebra ZM400 Thermal Label Printer   4643.800         4   \n",
       "318   Canon imageCLASS MF7460 Monochrome Digital Las...   3991.980         2   \n",
       "7914  Hewlett-Packard Desktjet 6988DT Refurbished Pr...   3404.500         5   \n",
       "9270         GBC DocuBind TL300 Electric Binding System   4305.552         6   \n",
       "\n",
       "      Discount     Profit  \n",
       "4190       0.0  5039.9856  \n",
       "2623       0.2  3919.9888  \n",
       "7666       0.0  2591.9568  \n",
       "1085       0.0  2400.9657  \n",
       "4277       0.0  2365.9818  \n",
       "6626       0.0  2239.9872  \n",
       "8204       0.0  2229.0240  \n",
       "318        0.0  1995.9900  \n",
       "7914       0.0  1668.2050  \n",
       "9270       0.2  1453.1238  "
      ],
      "text/html": "<div>\n<style scoped>\n    .dataframe tbody tr th:only-of-type {\n        vertical-align: middle;\n    }\n\n    .dataframe tbody tr th {\n        vertical-align: top;\n    }\n\n    .dataframe thead th {\n        text-align: right;\n    }\n</style>\n<table border=\"1\" class=\"dataframe\">\n  <thead>\n    <tr style=\"text-align: right;\">\n      <th></th>\n      <th>Row ID</th>\n      <th>Order ID</th>\n      <th>Ship Mode</th>\n      <th>Customer ID</th>\n      <th>Customer Name</th>\n      <th>Segment</th>\n      <th>Country</th>\n      <th>City</th>\n      <th>State</th>\n      <th>Postal Code</th>\n      <th>Region</th>\n      <th>Product ID</th>\n      <th>Category</th>\n      <th>Sub-Category</th>\n      <th>Product Name</th>\n      <th>Sales</th>\n      <th>Quantity</th>\n      <th>Discount</th>\n      <th>Profit</th>\n    </tr>\n  </thead>\n  <tbody>\n    <tr>\n      <th>4190</th>\n      <td>4191</td>\n      <td>CA-2014-166709</td>\n      <td>Standard Class</td>\n      <td>HL-15040</td>\n      <td>Hunter Lopez</td>\n      <td>Consumer</td>\n      <td>United States</td>\n      <td>Newark</td>\n      <td>Delaware</td>\n      <td>19711</td>\n      <td>East</td>\n      <td>TEC-CO-10004722</td>\n      <td>Technology</td>\n      <td>Copiers</td>\n      <td>Canon imageCLASS 2200 Advanced Copier</td>\n      <td>10499.970</td>\n      <td>3</td>\n      <td>0.0</td>\n      <td>5039.9856</td>\n    </tr>\n    <tr>\n      <th>2623</th>\n      <td>2624</td>\n      <td>CA-2014-127180</td>\n      <td>First Class</td>\n      <td>TA-21385</td>\n      <td>Tom Ashbrook</td>\n      <td>Home Office</td>\n      <td>United States</td>\n      <td>New York City</td>\n      <td>New York</td>\n      <td>10024</td>\n      <td>East</td>\n      <td>TEC-CO-10004722</td>\n      <td>Technology</td>\n      <td>Copiers</td>\n      <td>Canon imageCLASS 2200 Advanced Copier</td>\n      <td>11199.968</td>\n      <td>4</td>\n      <td>0.2</td>\n      <td>3919.9888</td>\n    </tr>\n    <tr>\n      <th>7666</th>\n      <td>7667</td>\n      <td>US-2013-140158</td>\n      <td>Standard Class</td>\n      <td>DR-12940</td>\n      <td>Daniel Raglin</td>\n      <td>Home Office</td>\n      <td>United States</td>\n      <td>Providence</td>\n      <td>Rhode Island</td>\n      <td>2908</td>\n      <td>East</td>\n      <td>TEC-CO-10001449</td>\n      <td>Technology</td>\n      <td>Copiers</td>\n      <td>Hewlett Packard LaserJet 3310 Copier</td>\n      <td>5399.910</td>\n      <td>9</td>\n      <td>0.0</td>\n      <td>2591.9568</td>\n    </tr>\n    <tr>\n      <th>1085</th>\n      <td>1086</td>\n      <td>US-2013-143819</td>\n      <td>Standard Class</td>\n      <td>KD-16270</td>\n      <td>Karen Daniels</td>\n      <td>Consumer</td>\n      <td>United States</td>\n      <td>Yonkers</td>\n      <td>New York</td>\n      <td>10701</td>\n      <td>East</td>\n      <td>TEC-MA-10003979</td>\n      <td>Technology</td>\n      <td>Machines</td>\n      <td>Ativa V4110MDD Micro-Cut Shredder</td>\n      <td>4899.930</td>\n      <td>7</td>\n      <td>0.0</td>\n      <td>2400.9657</td>\n    </tr>\n    <tr>\n      <th>4277</th>\n      <td>4278</td>\n      <td>US-2013-107440</td>\n      <td>Standard Class</td>\n      <td>BS-11365</td>\n      <td>Bill Shonely</td>\n      <td>Corporate</td>\n      <td>United States</td>\n      <td>Lakewood</td>\n      <td>New Jersey</td>\n      <td>8701</td>\n      <td>East</td>\n      <td>TEC-MA-10001047</td>\n      <td>Technology</td>\n      <td>Machines</td>\n      <td>3D Systems Cube Printer, 2nd Generation, Magenta</td>\n      <td>9099.930</td>\n      <td>7</td>\n      <td>0.0</td>\n      <td>2365.9818</td>\n    </tr>\n    <tr>\n      <th>6626</th>\n      <td>6627</td>\n      <td>CA-2011-145541</td>\n      <td>Standard Class</td>\n      <td>TB-21400</td>\n      <td>Tom Boeckenhauer</td>\n      <td>Consumer</td>\n      <td>United States</td>\n      <td>New York City</td>\n      <td>New York</td>\n      <td>10024</td>\n      <td>East</td>\n      <td>TEC-MA-10001127</td>\n      <td>Technology</td>\n      <td>Machines</td>\n      <td>HP Designjet T520 Inkjet Large Format Printer ...</td>\n      <td>6999.960</td>\n      <td>4</td>\n      <td>0.0</td>\n      <td>2239.9872</td>\n    </tr>\n    <tr>\n      <th>8204</th>\n      <td>8205</td>\n      <td>CA-2012-114811</td>\n      <td>Same Day</td>\n      <td>KD-16495</td>\n      <td>Keith Dawkins</td>\n      <td>Corporate</td>\n      <td>United States</td>\n      <td>New York City</td>\n      <td>New York</td>\n      <td>10024</td>\n      <td>East</td>\n      <td>TEC-MA-10000045</td>\n      <td>Technology</td>\n      <td>Machines</td>\n      <td>Zebra ZM400 Thermal Label Printer</td>\n      <td>4643.800</td>\n      <td>4</td>\n      <td>0.0</td>\n      <td>2229.0240</td>\n    </tr>\n    <tr>\n      <th>318</th>\n      <td>319</td>\n      <td>CA-2011-164973</td>\n      <td>Standard Class</td>\n      <td>NM-18445</td>\n      <td>Nathan Mautz</td>\n      <td>Home Office</td>\n      <td>United States</td>\n      <td>New York City</td>\n      <td>New York</td>\n      <td>10024</td>\n      <td>East</td>\n      <td>TEC-MA-10002927</td>\n      <td>Technology</td>\n      <td>Machines</td>\n      <td>Canon imageCLASS MF7460 Monochrome Digital Las...</td>\n      <td>3991.980</td>\n      <td>2</td>\n      <td>0.0</td>\n      <td>1995.9900</td>\n    </tr>\n    <tr>\n      <th>7914</th>\n      <td>7915</td>\n      <td>CA-2014-165323</td>\n      <td>Standard Class</td>\n      <td>SR-20740</td>\n      <td>Steven Roelle</td>\n      <td>Home Office</td>\n      <td>United States</td>\n      <td>New York City</td>\n      <td>New York</td>\n      <td>10024</td>\n      <td>East</td>\n      <td>TEC-MA-10003673</td>\n      <td>Technology</td>\n      <td>Machines</td>\n      <td>Hewlett-Packard Desktjet 6988DT Refurbished Pr...</td>\n      <td>3404.500</td>\n      <td>5</td>\n      <td>0.0</td>\n      <td>1668.2050</td>\n    </tr>\n    <tr>\n      <th>9270</th>\n      <td>9271</td>\n      <td>US-2014-102183</td>\n      <td>Standard Class</td>\n      <td>PK-19075</td>\n      <td>Pete Kriz</td>\n      <td>Consumer</td>\n      <td>United States</td>\n      <td>New York City</td>\n      <td>New York</td>\n      <td>10035</td>\n      <td>East</td>\n      <td>OFF-BI-10001359</td>\n      <td>Office Supplies</td>\n      <td>Binders</td>\n      <td>GBC DocuBind TL300 Electric Binding System</td>\n      <td>4305.552</td>\n      <td>6</td>\n      <td>0.2</td>\n      <td>1453.1238</td>\n    </tr>\n  </tbody>\n</table>\n</div>"
     },
     "metadata": {},
     "execution_count": 47
    }
   ],
   "source": [
    "df[df['Region'] == 'East'].sort_values(by = 'Profit',ascending=False)[:10]"
   ]
  },
  {
   "cell_type": "code",
   "execution_count": 54,
   "metadata": {},
   "outputs": [
    {
     "output_type": "execute_result",
     "data": {
      "text/plain": [
       "10618"
      ]
     },
     "metadata": {},
     "execution_count": 54
    }
   ],
   "source": []
  },
  {
   "cell_type": "code",
   "execution_count": null,
   "metadata": {},
   "outputs": [],
   "source": []
  }
 ]
}