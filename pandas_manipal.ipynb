{
 "metadata": {
  "language_info": {
   "codemirror_mode": {
    "name": "ipython",
    "version": 3
   },
   "file_extension": ".py",
   "mimetype": "text/x-python",
   "name": "python",
   "nbconvert_exporter": "python",
   "pygments_lexer": "ipython3",
   "version": "3.8.0-final"
  },
  "orig_nbformat": 2,
  "kernelspec": {
   "name": "python3",
   "display_name": "Python 3.8.0 64-bit ('tf_2.4': conda)",
   "metadata": {
    "interpreter": {
     "hash": "df53eb43d5f4a47426fc7695aa15cd0ff0fde94a792cda81b8e3f34ace87d5f5"
    }
   }
  }
 },
 "nbformat": 4,
 "nbformat_minor": 2,
 "cells": [
  {
   "cell_type": "code",
   "execution_count": 1,
   "metadata": {},
   "outputs": [],
   "source": [
    "import pandas as pd "
   ]
  },
  {
   "source": [
    "# convert a list to a pandas series"
   ],
   "cell_type": "markdown",
   "metadata": {}
  },
  {
   "cell_type": "code",
   "execution_count": 2,
   "metadata": {},
   "outputs": [],
   "source": [
    "li = [2,4,6,8]"
   ]
  },
  {
   "cell_type": "code",
   "execution_count": 3,
   "metadata": {},
   "outputs": [
    {
     "output_type": "execute_result",
     "data": {
      "text/plain": [
       "0    2\n",
       "1    4\n",
       "2    6\n",
       "3    8\n",
       "dtype: int64"
      ]
     },
     "metadata": {},
     "execution_count": 3
    }
   ],
   "source": [
    "pd.Series(li)"
   ]
  },
  {
   "source": [
    "# pandas Series with the index"
   ],
   "cell_type": "markdown",
   "metadata": {}
  },
  {
   "cell_type": "code",
   "execution_count": 4,
   "metadata": {},
   "outputs": [
    {
     "output_type": "execute_result",
     "data": {
      "text/plain": [
       "a    1\n",
       "b    2\n",
       "k    3\n",
       "d    4\n",
       "e    5\n",
       "r    6\n",
       "r    7\n",
       "b    5\n",
       "dtype: int64"
      ]
     },
     "metadata": {},
     "execution_count": 4
    }
   ],
   "source": [
    "li = [1,2,3,4,5,6,7,5]\n",
    "ind = ['a','b','k','d','e','r','r','b']\n",
    "pd.Series(li,index=ind)"
   ]
  },
  {
   "source": [
    "# the first element is values and index will be the list."
   ],
   "cell_type": "markdown",
   "metadata": {}
  },
  {
   "cell_type": "code",
   "execution_count": 5,
   "metadata": {},
   "outputs": [],
   "source": [
    "s = pd.Series(ind, index=li)"
   ]
  },
  {
   "cell_type": "code",
   "execution_count": 6,
   "metadata": {},
   "outputs": [
    {
     "output_type": "execute_result",
     "data": {
      "text/plain": [
       "1    a\n",
       "2    b\n",
       "3    k\n",
       "4    d\n",
       "5    e\n",
       "6    r\n",
       "7    r\n",
       "5    b\n",
       "dtype: object"
      ]
     },
     "metadata": {},
     "execution_count": 6
    }
   ],
   "source": [
    "s"
   ]
  },
  {
   "source": [
    "# slicing the pandas series"
   ],
   "cell_type": "markdown",
   "metadata": {}
  },
  {
   "cell_type": "code",
   "execution_count": 7,
   "metadata": {},
   "outputs": [
    {
     "output_type": "execute_result",
     "data": {
      "text/plain": [
       "2    b\n",
       "3    k\n",
       "4    d\n",
       "5    e\n",
       "6    r\n",
       "7    r\n",
       "5    b\n",
       "dtype: object"
      ]
     },
     "metadata": {},
     "execution_count": 7
    }
   ],
   "source": [
    "s[1:]"
   ]
  },
  {
   "cell_type": "code",
   "execution_count": 8,
   "metadata": {},
   "outputs": [
    {
     "output_type": "execute_result",
     "data": {
      "text/plain": [
       "1    a\n",
       "2    b\n",
       "3    k\n",
       "4    d\n",
       "5    e\n",
       "6    r\n",
       "7    r\n",
       "5    b\n",
       "dtype: object"
      ]
     },
     "metadata": {},
     "execution_count": 8
    }
   ],
   "source": [
    "s"
   ]
  },
  {
   "cell_type": "code",
   "execution_count": 9,
   "metadata": {},
   "outputs": [
    {
     "output_type": "execute_result",
     "data": {
      "text/plain": [
       "a    1\n",
       "b    2\n",
       "k    3\n",
       "d    4\n",
       "e    5\n",
       "r    6\n",
       "r    7\n",
       "b    5\n",
       "dtype: int64"
      ]
     },
     "metadata": {},
     "execution_count": 9
    }
   ],
   "source": [
    "ser = pd.Series(li,index=ind)\n",
    "ser"
   ]
  },
  {
   "source": [
    "# indexing through the key value"
   ],
   "cell_type": "markdown",
   "metadata": {}
  },
  {
   "cell_type": "code",
   "execution_count": 10,
   "metadata": {},
   "outputs": [
    {
     "output_type": "execute_result",
     "data": {
      "text/plain": [
       "1"
      ]
     },
     "metadata": {},
     "execution_count": 10
    }
   ],
   "source": [
    "ser['a']"
   ]
  },
  {
   "source": [
    "# indexing through a number"
   ],
   "cell_type": "markdown",
   "metadata": {}
  },
  {
   "cell_type": "code",
   "execution_count": 11,
   "metadata": {},
   "outputs": [
    {
     "output_type": "execute_result",
     "data": {
      "text/plain": [
       "1"
      ]
     },
     "metadata": {},
     "execution_count": 11
    }
   ],
   "source": [
    "ser[0]"
   ]
  },
  {
   "cell_type": "code",
   "execution_count": 12,
   "metadata": {},
   "outputs": [
    {
     "output_type": "execute_result",
     "data": {
      "text/plain": [
       "b    2\n",
       "b    5\n",
       "dtype: int64"
      ]
     },
     "metadata": {},
     "execution_count": 12
    }
   ],
   "source": [
    "ser['b']"
   ]
  },
  {
   "source": [
    "# getting the head of the series"
   ],
   "cell_type": "markdown",
   "metadata": {}
  },
  {
   "cell_type": "code",
   "execution_count": 13,
   "metadata": {},
   "outputs": [],
   "source": [
    "ser = pd.Series([1,2,3,4,5,4,6,7,8,9,0])"
   ]
  },
  {
   "cell_type": "code",
   "execution_count": 14,
   "metadata": {},
   "outputs": [
    {
     "output_type": "execute_result",
     "data": {
      "text/plain": [
       "0    1\n",
       "1    2\n",
       "2    3\n",
       "3    4\n",
       "4    5\n",
       "dtype: int64"
      ]
     },
     "metadata": {},
     "execution_count": 14
    }
   ],
   "source": [
    "ser.head() # returns the first 5 elements "
   ]
  },
  {
   "source": [
    "# creating the series using the numpy arrays"
   ],
   "cell_type": "markdown",
   "metadata": {}
  },
  {
   "cell_type": "code",
   "execution_count": 15,
   "metadata": {},
   "outputs": [
    {
     "output_type": "execute_result",
     "data": {
      "text/plain": [
       "0    0\n",
       "1    1\n",
       "2    2\n",
       "3    3\n",
       "4    4\n",
       "dtype: int32"
      ]
     },
     "metadata": {},
     "execution_count": 15
    }
   ],
   "source": [
    "import numpy as np \n",
    "arr = np.arange(0,12,1)\n",
    "ser = pd.Series(arr)\n",
    "ser.head()"
   ]
  },
  {
   "cell_type": "code",
   "execution_count": 16,
   "metadata": {},
   "outputs": [
    {
     "output_type": "execute_result",
     "data": {
      "text/plain": [
       "7      7\n",
       "8      8\n",
       "9      9\n",
       "10    10\n",
       "11    11\n",
       "dtype: int32"
      ]
     },
     "metadata": {},
     "execution_count": 16
    }
   ],
   "source": [
    "ser.tail()"
   ]
  },
  {
   "cell_type": "code",
   "execution_count": 17,
   "metadata": {},
   "outputs": [
    {
     "output_type": "execute_result",
     "data": {
      "text/plain": [
       "0    0\n",
       "1    1\n",
       "2    2\n",
       "3    3\n",
       "4    4\n",
       "dtype: int32"
      ]
     },
     "metadata": {},
     "execution_count": 17
    }
   ],
   "source": [
    "ser.head()"
   ]
  },
  {
   "cell_type": "code",
   "execution_count": 18,
   "metadata": {},
   "outputs": [
    {
     "output_type": "execute_result",
     "data": {
      "text/plain": [
       "9      9\n",
       "10    10\n",
       "11    11\n",
       "dtype: int32"
      ]
     },
     "metadata": {},
     "execution_count": 18
    }
   ],
   "source": [
    "ser.tail(3)"
   ]
  },
  {
   "source": [
    "# location in series"
   ],
   "cell_type": "markdown",
   "metadata": {}
  },
  {
   "cell_type": "code",
   "execution_count": 19,
   "metadata": {},
   "outputs": [
    {
     "output_type": "execute_result",
     "data": {
      "text/plain": [
       "3"
      ]
     },
     "metadata": {},
     "execution_count": 19
    }
   ],
   "source": [
    "ser.loc[3]"
   ]
  },
  {
   "source": [
    "# integer location in series"
   ],
   "cell_type": "markdown",
   "metadata": {}
  },
  {
   "cell_type": "code",
   "execution_count": 20,
   "metadata": {},
   "outputs": [
    {
     "output_type": "execute_result",
     "data": {
      "text/plain": [
       "3"
      ]
     },
     "metadata": {},
     "execution_count": 20
    }
   ],
   "source": [
    "ser.iloc[3]"
   ]
  },
  {
   "cell_type": "code",
   "execution_count": 21,
   "metadata": {},
   "outputs": [
    {
     "output_type": "execute_result",
     "data": {
      "text/plain": [
       "3    3\n",
       "4    4\n",
       "5    5\n",
       "6    6\n",
       "7    7\n",
       "dtype: int32"
      ]
     },
     "metadata": {},
     "execution_count": 21
    }
   ],
   "source": [
    "ser.loc[3:7]"
   ]
  },
  {
   "source": [
    "# type of the series"
   ],
   "cell_type": "markdown",
   "metadata": {}
  },
  {
   "cell_type": "code",
   "execution_count": 22,
   "metadata": {},
   "outputs": [
    {
     "output_type": "execute_result",
     "data": {
      "text/plain": [
       "pandas.core.series.Series"
      ]
     },
     "metadata": {},
     "execution_count": 22
    }
   ],
   "source": [
    "type(ser)"
   ]
  },
  {
   "source": [
    "# fequency in a series"
   ],
   "cell_type": "markdown",
   "metadata": {}
  },
  {
   "cell_type": "code",
   "execution_count": 23,
   "metadata": {},
   "outputs": [
    {
     "output_type": "execute_result",
     "data": {
      "text/plain": [
       "0    India\n",
       "1       US\n",
       "2    India\n",
       "3    China\n",
       "4    India\n",
       "dtype: object"
      ]
     },
     "metadata": {},
     "execution_count": 23
    }
   ],
   "source": [
    "ser4 = pd.Series(['India','US','India','China','India'])\n",
    "ser4"
   ]
  },
  {
   "cell_type": "code",
   "execution_count": 24,
   "metadata": {},
   "outputs": [
    {
     "output_type": "execute_result",
     "data": {
      "text/plain": [
       "India    3\n",
       "China    1\n",
       "US       1\n",
       "dtype: int64"
      ]
     },
     "metadata": {},
     "execution_count": 24
    }
   ],
   "source": [
    "ser4.value_counts()"
   ]
  },
  {
   "source": [
    "# finding the unique values in the series"
   ],
   "cell_type": "markdown",
   "metadata": {}
  },
  {
   "cell_type": "code",
   "execution_count": 25,
   "metadata": {},
   "outputs": [
    {
     "output_type": "execute_result",
     "data": {
      "text/plain": [
       "array(['India', 'US', 'China'], dtype=object)"
      ]
     },
     "metadata": {},
     "execution_count": 25
    }
   ],
   "source": [
    "ser4.unique()"
   ]
  },
  {
   "source": [
    "# finding number of unique elements in the series"
   ],
   "cell_type": "markdown",
   "metadata": {}
  },
  {
   "cell_type": "code",
   "execution_count": 26,
   "metadata": {},
   "outputs": [
    {
     "output_type": "execute_result",
     "data": {
      "text/plain": [
       "3"
      ]
     },
     "metadata": {},
     "execution_count": 26
    }
   ],
   "source": [
    "ser4.nunique() # there are three unique numbers present in the series"
   ]
  },
  {
   "source": [
    "# max and min in series"
   ],
   "cell_type": "markdown",
   "metadata": {}
  },
  {
   "cell_type": "code",
   "execution_count": 27,
   "metadata": {},
   "outputs": [
    {
     "output_type": "execute_result",
     "data": {
      "text/plain": [
       "'China'"
      ]
     },
     "metadata": {},
     "execution_count": 27
    }
   ],
   "source": [
    "ser4.min()"
   ]
  },
  {
   "cell_type": "code",
   "execution_count": 28,
   "metadata": {},
   "outputs": [
    {
     "output_type": "execute_result",
     "data": {
      "text/plain": [
       "'US'"
      ]
     },
     "metadata": {},
     "execution_count": 28
    }
   ],
   "source": [
    "ser4.max()"
   ]
  },
  {
   "source": [
    "# index of max or min in the series"
   ],
   "cell_type": "markdown",
   "metadata": {}
  },
  {
   "cell_type": "code",
   "execution_count": 29,
   "metadata": {},
   "outputs": [
    {
     "output_type": "execute_result",
     "data": {
      "text/plain": [
       "0      0\n",
       "1      1\n",
       "2      2\n",
       "3      3\n",
       "4      4\n",
       "5      5\n",
       "6      6\n",
       "7      7\n",
       "8      8\n",
       "9      9\n",
       "10    10\n",
       "11    11\n",
       "dtype: int32"
      ]
     },
     "metadata": {},
     "execution_count": 29
    }
   ],
   "source": [
    "ser"
   ]
  },
  {
   "cell_type": "code",
   "execution_count": 30,
   "metadata": {},
   "outputs": [
    {
     "output_type": "execute_result",
     "data": {
      "text/plain": [
       "11"
      ]
     },
     "metadata": {},
     "execution_count": 30
    }
   ],
   "source": [
    "ser.idxmax() # index for the minimum value"
   ]
  },
  {
   "cell_type": "code",
   "execution_count": 31,
   "metadata": {},
   "outputs": [
    {
     "output_type": "execute_result",
     "data": {
      "text/plain": [
       "0"
      ]
     },
     "metadata": {},
     "execution_count": 31
    }
   ],
   "source": [
    "ser.idxmin() # index for the maximum value"
   ]
  },
  {
   "source": [
    "# argmax and arg min are not allowed for object data type"
   ],
   "cell_type": "markdown",
   "metadata": {}
  },
  {
   "cell_type": "code",
   "execution_count": 32,
   "metadata": {},
   "outputs": [
    {
     "output_type": "error",
     "ename": "TypeError",
     "evalue": "reduction operation 'argmax' not allowed for this dtype",
     "traceback": [
      "\u001b[1;31m---------------------------------------------------------------------------\u001b[0m",
      "\u001b[1;31mTypeError\u001b[0m                                 Traceback (most recent call last)",
      "\u001b[1;32m<ipython-input-32-e08be4b93bc3>\u001b[0m in \u001b[0;36m<module>\u001b[1;34m\u001b[0m\n\u001b[1;32m----> 1\u001b[1;33m \u001b[0mser4\u001b[0m\u001b[1;33m.\u001b[0m\u001b[0margmax\u001b[0m\u001b[1;33m(\u001b[0m\u001b[1;33m)\u001b[0m\u001b[1;33m\u001b[0m\u001b[1;33m\u001b[0m\u001b[0m\n\u001b[0m",
      "\u001b[1;32m~\\anaconda3\\envs\\tf_2.4\\lib\\site-packages\\pandas\\core\\base.py\u001b[0m in \u001b[0;36margmax\u001b[1;34m(self, axis, skipna, *args, **kwargs)\u001b[0m\n\u001b[0;32m    718\u001b[0m         \u001b[0mnv\u001b[0m\u001b[1;33m.\u001b[0m\u001b[0mvalidate_minmax_axis\u001b[0m\u001b[1;33m(\u001b[0m\u001b[0maxis\u001b[0m\u001b[1;33m)\u001b[0m\u001b[1;33m\u001b[0m\u001b[1;33m\u001b[0m\u001b[0m\n\u001b[0;32m    719\u001b[0m         \u001b[0mnv\u001b[0m\u001b[1;33m.\u001b[0m\u001b[0mvalidate_argmax_with_skipna\u001b[0m\u001b[1;33m(\u001b[0m\u001b[0mskipna\u001b[0m\u001b[1;33m,\u001b[0m \u001b[0margs\u001b[0m\u001b[1;33m,\u001b[0m \u001b[0mkwargs\u001b[0m\u001b[1;33m)\u001b[0m\u001b[1;33m\u001b[0m\u001b[1;33m\u001b[0m\u001b[0m\n\u001b[1;32m--> 720\u001b[1;33m         \u001b[1;32mreturn\u001b[0m \u001b[0mnanops\u001b[0m\u001b[1;33m.\u001b[0m\u001b[0mnanargmax\u001b[0m\u001b[1;33m(\u001b[0m\u001b[0mself\u001b[0m\u001b[1;33m.\u001b[0m\u001b[0m_values\u001b[0m\u001b[1;33m,\u001b[0m \u001b[0mskipna\u001b[0m\u001b[1;33m=\u001b[0m\u001b[0mskipna\u001b[0m\u001b[1;33m)\u001b[0m\u001b[1;33m\u001b[0m\u001b[1;33m\u001b[0m\u001b[0m\n\u001b[0m\u001b[0;32m    721\u001b[0m \u001b[1;33m\u001b[0m\u001b[0m\n\u001b[0;32m    722\u001b[0m     \u001b[1;32mdef\u001b[0m \u001b[0mmin\u001b[0m\u001b[1;33m(\u001b[0m\u001b[0mself\u001b[0m\u001b[1;33m,\u001b[0m \u001b[0maxis\u001b[0m\u001b[1;33m=\u001b[0m\u001b[1;32mNone\u001b[0m\u001b[1;33m,\u001b[0m \u001b[0mskipna\u001b[0m\u001b[1;33m:\u001b[0m \u001b[0mbool\u001b[0m \u001b[1;33m=\u001b[0m \u001b[1;32mTrue\u001b[0m\u001b[1;33m,\u001b[0m \u001b[1;33m*\u001b[0m\u001b[0margs\u001b[0m\u001b[1;33m,\u001b[0m \u001b[1;33m**\u001b[0m\u001b[0mkwargs\u001b[0m\u001b[1;33m)\u001b[0m\u001b[1;33m:\u001b[0m\u001b[1;33m\u001b[0m\u001b[1;33m\u001b[0m\u001b[0m\n",
      "\u001b[1;32m~\\anaconda3\\envs\\tf_2.4\\lib\\site-packages\\pandas\\core\\nanops.py\u001b[0m in \u001b[0;36m_f\u001b[1;34m(*args, **kwargs)\u001b[0m\n\u001b[0;32m     64\u001b[0m             \u001b[1;32mif\u001b[0m \u001b[0many\u001b[0m\u001b[1;33m(\u001b[0m\u001b[0mself\u001b[0m\u001b[1;33m.\u001b[0m\u001b[0mcheck\u001b[0m\u001b[1;33m(\u001b[0m\u001b[0mobj\u001b[0m\u001b[1;33m)\u001b[0m \u001b[1;32mfor\u001b[0m \u001b[0mobj\u001b[0m \u001b[1;32min\u001b[0m \u001b[0mobj_iter\u001b[0m\u001b[1;33m)\u001b[0m\u001b[1;33m:\u001b[0m\u001b[1;33m\u001b[0m\u001b[1;33m\u001b[0m\u001b[0m\n\u001b[0;32m     65\u001b[0m                 \u001b[0mf_name\u001b[0m \u001b[1;33m=\u001b[0m \u001b[0mf\u001b[0m\u001b[1;33m.\u001b[0m\u001b[0m__name__\u001b[0m\u001b[1;33m.\u001b[0m\u001b[0mreplace\u001b[0m\u001b[1;33m(\u001b[0m\u001b[1;34m\"nan\"\u001b[0m\u001b[1;33m,\u001b[0m \u001b[1;34m\"\"\u001b[0m\u001b[1;33m)\u001b[0m\u001b[1;33m\u001b[0m\u001b[1;33m\u001b[0m\u001b[0m\n\u001b[1;32m---> 66\u001b[1;33m                 raise TypeError(\n\u001b[0m\u001b[0;32m     67\u001b[0m                     \u001b[1;34mf\"reduction operation '{f_name}' not allowed for this dtype\"\u001b[0m\u001b[1;33m\u001b[0m\u001b[1;33m\u001b[0m\u001b[0m\n\u001b[0;32m     68\u001b[0m                 )\n",
      "\u001b[1;31mTypeError\u001b[0m: reduction operation 'argmax' not allowed for this dtype"
     ]
    }
   ],
   "source": [
    "ser4.argmax()"
   ]
  },
  {
   "cell_type": "code",
   "execution_count": 66,
   "metadata": {},
   "outputs": [
    {
     "output_type": "error",
     "ename": "TypeError",
     "evalue": "reduction operation 'argmin' not allowed for this dtype",
     "traceback": [
      "\u001b[1;31m---------------------------------------------------------------------------\u001b[0m",
      "\u001b[1;31mTypeError\u001b[0m                                 Traceback (most recent call last)",
      "\u001b[1;32m<ipython-input-66-bda957f9b5a8>\u001b[0m in \u001b[0;36m<module>\u001b[1;34m\u001b[0m\n\u001b[1;32m----> 1\u001b[1;33m \u001b[0mser4\u001b[0m\u001b[1;33m.\u001b[0m\u001b[0margmin\u001b[0m\u001b[1;33m(\u001b[0m\u001b[1;33m)\u001b[0m\u001b[1;33m\u001b[0m\u001b[1;33m\u001b[0m\u001b[0m\n\u001b[0m",
      "\u001b[1;32m~\\anaconda3\\envs\\tf_2.4\\lib\\site-packages\\pandas\\core\\base.py\u001b[0m in \u001b[0;36margmin\u001b[1;34m(self, axis, skipna, *args, **kwargs)\u001b[0m\n\u001b[0;32m    768\u001b[0m         \u001b[0mnv\u001b[0m\u001b[1;33m.\u001b[0m\u001b[0mvalidate_minmax_axis\u001b[0m\u001b[1;33m(\u001b[0m\u001b[0maxis\u001b[0m\u001b[1;33m)\u001b[0m\u001b[1;33m\u001b[0m\u001b[1;33m\u001b[0m\u001b[0m\n\u001b[0;32m    769\u001b[0m         \u001b[0mnv\u001b[0m\u001b[1;33m.\u001b[0m\u001b[0mvalidate_argmax_with_skipna\u001b[0m\u001b[1;33m(\u001b[0m\u001b[0mskipna\u001b[0m\u001b[1;33m,\u001b[0m \u001b[0margs\u001b[0m\u001b[1;33m,\u001b[0m \u001b[0mkwargs\u001b[0m\u001b[1;33m)\u001b[0m\u001b[1;33m\u001b[0m\u001b[1;33m\u001b[0m\u001b[0m\n\u001b[1;32m--> 770\u001b[1;33m         \u001b[1;32mreturn\u001b[0m \u001b[0mnanops\u001b[0m\u001b[1;33m.\u001b[0m\u001b[0mnanargmin\u001b[0m\u001b[1;33m(\u001b[0m\u001b[0mself\u001b[0m\u001b[1;33m.\u001b[0m\u001b[0m_values\u001b[0m\u001b[1;33m,\u001b[0m \u001b[0mskipna\u001b[0m\u001b[1;33m=\u001b[0m\u001b[0mskipna\u001b[0m\u001b[1;33m)\u001b[0m\u001b[1;33m\u001b[0m\u001b[1;33m\u001b[0m\u001b[0m\n\u001b[0m\u001b[0;32m    771\u001b[0m \u001b[1;33m\u001b[0m\u001b[0m\n\u001b[0;32m    772\u001b[0m     \u001b[1;32mdef\u001b[0m \u001b[0mtolist\u001b[0m\u001b[1;33m(\u001b[0m\u001b[0mself\u001b[0m\u001b[1;33m)\u001b[0m\u001b[1;33m:\u001b[0m\u001b[1;33m\u001b[0m\u001b[1;33m\u001b[0m\u001b[0m\n",
      "\u001b[1;32m~\\anaconda3\\envs\\tf_2.4\\lib\\site-packages\\pandas\\core\\nanops.py\u001b[0m in \u001b[0;36m_f\u001b[1;34m(*args, **kwargs)\u001b[0m\n\u001b[0;32m     64\u001b[0m             \u001b[1;32mif\u001b[0m \u001b[0many\u001b[0m\u001b[1;33m(\u001b[0m\u001b[0mself\u001b[0m\u001b[1;33m.\u001b[0m\u001b[0mcheck\u001b[0m\u001b[1;33m(\u001b[0m\u001b[0mobj\u001b[0m\u001b[1;33m)\u001b[0m \u001b[1;32mfor\u001b[0m \u001b[0mobj\u001b[0m \u001b[1;32min\u001b[0m \u001b[0mobj_iter\u001b[0m\u001b[1;33m)\u001b[0m\u001b[1;33m:\u001b[0m\u001b[1;33m\u001b[0m\u001b[1;33m\u001b[0m\u001b[0m\n\u001b[0;32m     65\u001b[0m                 \u001b[0mf_name\u001b[0m \u001b[1;33m=\u001b[0m \u001b[0mf\u001b[0m\u001b[1;33m.\u001b[0m\u001b[0m__name__\u001b[0m\u001b[1;33m.\u001b[0m\u001b[0mreplace\u001b[0m\u001b[1;33m(\u001b[0m\u001b[1;34m\"nan\"\u001b[0m\u001b[1;33m,\u001b[0m \u001b[1;34m\"\"\u001b[0m\u001b[1;33m)\u001b[0m\u001b[1;33m\u001b[0m\u001b[1;33m\u001b[0m\u001b[0m\n\u001b[1;32m---> 66\u001b[1;33m                 raise TypeError(\n\u001b[0m\u001b[0;32m     67\u001b[0m                     \u001b[1;34mf\"reduction operation '{f_name}' not allowed for this dtype\"\u001b[0m\u001b[1;33m\u001b[0m\u001b[1;33m\u001b[0m\u001b[0m\n\u001b[0;32m     68\u001b[0m                 )\n",
      "\u001b[1;31mTypeError\u001b[0m: reduction operation 'argmin' not allowed for this dtype"
     ]
    }
   ],
   "source": [
    "ser4.argmin()"
   ]
  },
  {
   "cell_type": "code",
   "execution_count": 67,
   "metadata": {},
   "outputs": [],
   "source": [
    "ser = pd.Series(np.arange(0,4),index=['a','b','c','d'])"
   ]
  },
  {
   "cell_type": "code",
   "execution_count": 68,
   "metadata": {},
   "outputs": [
    {
     "output_type": "execute_result",
     "data": {
      "text/plain": [
       "2"
      ]
     },
     "metadata": {},
     "execution_count": 68
    }
   ],
   "source": [
    "ser['c']"
   ]
  },
  {
   "cell_type": "code",
   "execution_count": 69,
   "metadata": {},
   "outputs": [
    {
     "output_type": "execute_result",
     "data": {
      "text/plain": [
       "2"
      ]
     },
     "metadata": {},
     "execution_count": 69
    }
   ],
   "source": [
    "ser.loc['c']"
   ]
  },
  {
   "cell_type": "code",
   "execution_count": 70,
   "metadata": {},
   "outputs": [],
   "source": [
    "# iloc only works on the integer index"
   ]
  },
  {
   "cell_type": "code",
   "execution_count": 71,
   "metadata": {},
   "outputs": [
    {
     "output_type": "error",
     "ename": "TypeError",
     "evalue": "Cannot index by location index with a non-integer key",
     "traceback": [
      "\u001b[1;31m---------------------------------------------------------------------------\u001b[0m",
      "\u001b[1;31mTypeError\u001b[0m                                 Traceback (most recent call last)",
      "\u001b[1;32m<ipython-input-71-a1846517c0fd>\u001b[0m in \u001b[0;36m<module>\u001b[1;34m\u001b[0m\n\u001b[1;32m----> 1\u001b[1;33m \u001b[0mser\u001b[0m\u001b[1;33m.\u001b[0m\u001b[0miloc\u001b[0m\u001b[1;33m[\u001b[0m\u001b[1;34m'c'\u001b[0m\u001b[1;33m]\u001b[0m\u001b[1;33m\u001b[0m\u001b[1;33m\u001b[0m\u001b[0m\n\u001b[0m",
      "\u001b[1;32m~\\anaconda3\\envs\\tf_2.4\\lib\\site-packages\\pandas\\core\\indexing.py\u001b[0m in \u001b[0;36m__getitem__\u001b[1;34m(self, key)\u001b[0m\n\u001b[0;32m    893\u001b[0m \u001b[1;33m\u001b[0m\u001b[0m\n\u001b[0;32m    894\u001b[0m             \u001b[0mmaybe_callable\u001b[0m \u001b[1;33m=\u001b[0m \u001b[0mcom\u001b[0m\u001b[1;33m.\u001b[0m\u001b[0mapply_if_callable\u001b[0m\u001b[1;33m(\u001b[0m\u001b[0mkey\u001b[0m\u001b[1;33m,\u001b[0m \u001b[0mself\u001b[0m\u001b[1;33m.\u001b[0m\u001b[0mobj\u001b[0m\u001b[1;33m)\u001b[0m\u001b[1;33m\u001b[0m\u001b[1;33m\u001b[0m\u001b[0m\n\u001b[1;32m--> 895\u001b[1;33m             \u001b[1;32mreturn\u001b[0m \u001b[0mself\u001b[0m\u001b[1;33m.\u001b[0m\u001b[0m_getitem_axis\u001b[0m\u001b[1;33m(\u001b[0m\u001b[0mmaybe_callable\u001b[0m\u001b[1;33m,\u001b[0m \u001b[0maxis\u001b[0m\u001b[1;33m=\u001b[0m\u001b[0maxis\u001b[0m\u001b[1;33m)\u001b[0m\u001b[1;33m\u001b[0m\u001b[1;33m\u001b[0m\u001b[0m\n\u001b[0m\u001b[0;32m    896\u001b[0m \u001b[1;33m\u001b[0m\u001b[0m\n\u001b[0;32m    897\u001b[0m     \u001b[1;32mdef\u001b[0m \u001b[0m_is_scalar_access\u001b[0m\u001b[1;33m(\u001b[0m\u001b[0mself\u001b[0m\u001b[1;33m,\u001b[0m \u001b[0mkey\u001b[0m\u001b[1;33m:\u001b[0m \u001b[0mTuple\u001b[0m\u001b[1;33m)\u001b[0m\u001b[1;33m:\u001b[0m\u001b[1;33m\u001b[0m\u001b[1;33m\u001b[0m\u001b[0m\n",
      "\u001b[1;32m~\\anaconda3\\envs\\tf_2.4\\lib\\site-packages\\pandas\\core\\indexing.py\u001b[0m in \u001b[0;36m_getitem_axis\u001b[1;34m(self, key, axis)\u001b[0m\n\u001b[0;32m   1496\u001b[0m             \u001b[0mkey\u001b[0m \u001b[1;33m=\u001b[0m \u001b[0mitem_from_zerodim\u001b[0m\u001b[1;33m(\u001b[0m\u001b[0mkey\u001b[0m\u001b[1;33m)\u001b[0m\u001b[1;33m\u001b[0m\u001b[1;33m\u001b[0m\u001b[0m\n\u001b[0;32m   1497\u001b[0m             \u001b[1;32mif\u001b[0m \u001b[1;32mnot\u001b[0m \u001b[0mis_integer\u001b[0m\u001b[1;33m(\u001b[0m\u001b[0mkey\u001b[0m\u001b[1;33m)\u001b[0m\u001b[1;33m:\u001b[0m\u001b[1;33m\u001b[0m\u001b[1;33m\u001b[0m\u001b[0m\n\u001b[1;32m-> 1498\u001b[1;33m                 \u001b[1;32mraise\u001b[0m \u001b[0mTypeError\u001b[0m\u001b[1;33m(\u001b[0m\u001b[1;34m\"Cannot index by location index with a non-integer key\"\u001b[0m\u001b[1;33m)\u001b[0m\u001b[1;33m\u001b[0m\u001b[1;33m\u001b[0m\u001b[0m\n\u001b[0m\u001b[0;32m   1499\u001b[0m \u001b[1;33m\u001b[0m\u001b[0m\n\u001b[0;32m   1500\u001b[0m             \u001b[1;31m# validate the location\u001b[0m\u001b[1;33m\u001b[0m\u001b[1;33m\u001b[0m\u001b[1;33m\u001b[0m\u001b[0m\n",
      "\u001b[1;31mTypeError\u001b[0m: Cannot index by location index with a non-integer key"
     ]
    }
   ],
   "source": [
    "ser.iloc['c']"
   ]
  },
  {
   "source": [
    "# convert the elements of the series to a list"
   ],
   "cell_type": "markdown",
   "metadata": {}
  },
  {
   "cell_type": "code",
   "execution_count": 72,
   "metadata": {},
   "outputs": [
    {
     "output_type": "execute_result",
     "data": {
      "text/plain": [
       "['India', 'US', 'India', 'China', 'India']"
      ]
     },
     "metadata": {},
     "execution_count": 72
    }
   ],
   "source": [
    "ser4.tolist()"
   ]
  },
  {
   "source": [
    "# dictonary to pandas series"
   ],
   "cell_type": "markdown",
   "metadata": {}
  },
  {
   "cell_type": "code",
   "execution_count": 73,
   "metadata": {},
   "outputs": [],
   "source": [
    "data = {'A1':'India','A2':'China','A3':'US','A4':'Chile'}"
   ]
  },
  {
   "cell_type": "code",
   "execution_count": 74,
   "metadata": {},
   "outputs": [
    {
     "output_type": "execute_result",
     "data": {
      "text/plain": [
       "    0      1\n",
       "0  A1  India\n",
       "1  A2  China\n",
       "2  A3     US\n",
       "3  A4  Chile"
      ],
      "text/html": "<div>\n<style scoped>\n    .dataframe tbody tr th:only-of-type {\n        vertical-align: middle;\n    }\n\n    .dataframe tbody tr th {\n        vertical-align: top;\n    }\n\n    .dataframe thead th {\n        text-align: right;\n    }\n</style>\n<table border=\"1\" class=\"dataframe\">\n  <thead>\n    <tr style=\"text-align: right;\">\n      <th></th>\n      <th>0</th>\n      <th>1</th>\n    </tr>\n  </thead>\n  <tbody>\n    <tr>\n      <th>0</th>\n      <td>A1</td>\n      <td>India</td>\n    </tr>\n    <tr>\n      <th>1</th>\n      <td>A2</td>\n      <td>China</td>\n    </tr>\n    <tr>\n      <th>2</th>\n      <td>A3</td>\n      <td>US</td>\n    </tr>\n    <tr>\n      <th>3</th>\n      <td>A4</td>\n      <td>Chile</td>\n    </tr>\n  </tbody>\n</table>\n</div>"
     },
     "metadata": {},
     "execution_count": 74
    }
   ],
   "source": [
    "pd.DataFrame(data.items())"
   ]
  },
  {
   "source": [
    "# numpy arrays to dataframe"
   ],
   "cell_type": "markdown",
   "metadata": {}
  },
  {
   "cell_type": "code",
   "execution_count": 75,
   "metadata": {},
   "outputs": [],
   "source": [
    "df = pd.DataFrame(np.arange(0,50,3)) # numpy array to a dataframe"
   ]
  },
  {
   "cell_type": "code",
   "execution_count": 76,
   "metadata": {},
   "outputs": [
    {
     "output_type": "execute_result",
     "data": {
      "text/plain": [
       "pandas.core.frame.DataFrame"
      ]
     },
     "metadata": {},
     "execution_count": 76
    }
   ],
   "source": [
    "type(df)"
   ]
  },
  {
   "source": [
    "# converting from a list to a dataframe"
   ],
   "cell_type": "markdown",
   "metadata": {}
  },
  {
   "cell_type": "code",
   "execution_count": 77,
   "metadata": {},
   "outputs": [],
   "source": [
    "df1 = pd.DataFrame(['India','US','India','China','India'])"
   ]
  },
  {
   "cell_type": "code",
   "execution_count": 78,
   "metadata": {},
   "outputs": [
    {
     "output_type": "execute_result",
     "data": {
      "text/plain": [
       "       0\n",
       "0  India\n",
       "1     US\n",
       "2  India\n",
       "3  China\n",
       "4  India"
      ],
      "text/html": "<div>\n<style scoped>\n    .dataframe tbody tr th:only-of-type {\n        vertical-align: middle;\n    }\n\n    .dataframe tbody tr th {\n        vertical-align: top;\n    }\n\n    .dataframe thead th {\n        text-align: right;\n    }\n</style>\n<table border=\"1\" class=\"dataframe\">\n  <thead>\n    <tr style=\"text-align: right;\">\n      <th></th>\n      <th>0</th>\n    </tr>\n  </thead>\n  <tbody>\n    <tr>\n      <th>0</th>\n      <td>India</td>\n    </tr>\n    <tr>\n      <th>1</th>\n      <td>US</td>\n    </tr>\n    <tr>\n      <th>2</th>\n      <td>India</td>\n    </tr>\n    <tr>\n      <th>3</th>\n      <td>China</td>\n    </tr>\n    <tr>\n      <th>4</th>\n      <td>India</td>\n    </tr>\n  </tbody>\n</table>\n</div>"
     },
     "metadata": {},
     "execution_count": 78
    }
   ],
   "source": [
    "df1"
   ]
  },
  {
   "cell_type": "code",
   "execution_count": 79,
   "metadata": {},
   "outputs": [],
   "source": [
    "df1['new'] = np.arange(0,5)"
   ]
  },
  {
   "cell_type": "code",
   "execution_count": 80,
   "metadata": {},
   "outputs": [],
   "source": [
    "df1[['new1','new2']] = 12,12"
   ]
  },
  {
   "source": [
    "# reading dataframe in jupyter notebook"
   ],
   "cell_type": "markdown",
   "metadata": {}
  },
  {
   "cell_type": "code",
   "execution_count": 81,
   "metadata": {},
   "outputs": [],
   "source": [
    "df = pd.read_csv(r'dm.csv')"
   ]
  },
  {
   "cell_type": "code",
   "execution_count": 82,
   "metadata": {},
   "outputs": [
    {
     "output_type": "execute_result",
     "data": {
      "text/plain": [
       "pandas.core.frame.DataFrame"
      ]
     },
     "metadata": {},
     "execution_count": 82
    }
   ],
   "source": [
    "type(df)"
   ]
  },
  {
   "cell_type": "code",
   "execution_count": 83,
   "metadata": {},
   "outputs": [
    {
     "output_type": "execute_result",
     "data": {
      "text/plain": [
       "      Age  Gender OwnHome  Married Location  Salary  Children History  \\\n",
       "0     Old  Female     Own   Single      Far   47500         0    High   \n",
       "1  Middle    Male    Rent   Single    Close   63600         0    High   \n",
       "2   Young  Female    Rent   Single    Close   13500         0     Low   \n",
       "3  Middle    Male     Own  Married    Close   85600         1    High   \n",
       "4  Middle  Female     Own   Single    Close   68400         0    High   \n",
       "\n",
       "   Catalogs  AmountSpent  Cust_Id  \n",
       "0         6          755      247  \n",
       "1         6         1318      127  \n",
       "2        18          296      479  \n",
       "3        18         2436      475  \n",
       "4        12         1304      151  "
      ],
      "text/html": "<div>\n<style scoped>\n    .dataframe tbody tr th:only-of-type {\n        vertical-align: middle;\n    }\n\n    .dataframe tbody tr th {\n        vertical-align: top;\n    }\n\n    .dataframe thead th {\n        text-align: right;\n    }\n</style>\n<table border=\"1\" class=\"dataframe\">\n  <thead>\n    <tr style=\"text-align: right;\">\n      <th></th>\n      <th>Age</th>\n      <th>Gender</th>\n      <th>OwnHome</th>\n      <th>Married</th>\n      <th>Location</th>\n      <th>Salary</th>\n      <th>Children</th>\n      <th>History</th>\n      <th>Catalogs</th>\n      <th>AmountSpent</th>\n      <th>Cust_Id</th>\n    </tr>\n  </thead>\n  <tbody>\n    <tr>\n      <th>0</th>\n      <td>Old</td>\n      <td>Female</td>\n      <td>Own</td>\n      <td>Single</td>\n      <td>Far</td>\n      <td>47500</td>\n      <td>0</td>\n      <td>High</td>\n      <td>6</td>\n      <td>755</td>\n      <td>247</td>\n    </tr>\n    <tr>\n      <th>1</th>\n      <td>Middle</td>\n      <td>Male</td>\n      <td>Rent</td>\n      <td>Single</td>\n      <td>Close</td>\n      <td>63600</td>\n      <td>0</td>\n      <td>High</td>\n      <td>6</td>\n      <td>1318</td>\n      <td>127</td>\n    </tr>\n    <tr>\n      <th>2</th>\n      <td>Young</td>\n      <td>Female</td>\n      <td>Rent</td>\n      <td>Single</td>\n      <td>Close</td>\n      <td>13500</td>\n      <td>0</td>\n      <td>Low</td>\n      <td>18</td>\n      <td>296</td>\n      <td>479</td>\n    </tr>\n    <tr>\n      <th>3</th>\n      <td>Middle</td>\n      <td>Male</td>\n      <td>Own</td>\n      <td>Married</td>\n      <td>Close</td>\n      <td>85600</td>\n      <td>1</td>\n      <td>High</td>\n      <td>18</td>\n      <td>2436</td>\n      <td>475</td>\n    </tr>\n    <tr>\n      <th>4</th>\n      <td>Middle</td>\n      <td>Female</td>\n      <td>Own</td>\n      <td>Single</td>\n      <td>Close</td>\n      <td>68400</td>\n      <td>0</td>\n      <td>High</td>\n      <td>12</td>\n      <td>1304</td>\n      <td>151</td>\n    </tr>\n  </tbody>\n</table>\n</div>"
     },
     "metadata": {},
     "execution_count": 83
    }
   ],
   "source": [
    "df.head()"
   ]
  },
  {
   "cell_type": "code",
   "execution_count": 84,
   "metadata": {},
   "outputs": [
    {
     "output_type": "execute_result",
     "data": {
      "text/plain": [
       "        Age  Gender OwnHome  Married Location  Salary  Children History  \\\n",
       "995   Young  Female    Rent   Single    Close   19400         1     NaN   \n",
       "996  Middle    Male    Rent   Single      Far   40500         1     NaN   \n",
       "997     Old    Male     Own   Single    Close   44800         0  Medium   \n",
       "998  Middle    Male     Own  Married    Close   79000         2  Medium   \n",
       "999   Young    Male    Rent  Married    Close   53600         1  Medium   \n",
       "\n",
       "     Catalogs  AmountSpent  Cust_Id  \n",
       "995        18          384      190  \n",
       "996        18         1073      510  \n",
       "997        24         1417      725  \n",
       "998        18          671     1034  \n",
       "999        24          973     1203  "
      ],
      "text/html": "<div>\n<style scoped>\n    .dataframe tbody tr th:only-of-type {\n        vertical-align: middle;\n    }\n\n    .dataframe tbody tr th {\n        vertical-align: top;\n    }\n\n    .dataframe thead th {\n        text-align: right;\n    }\n</style>\n<table border=\"1\" class=\"dataframe\">\n  <thead>\n    <tr style=\"text-align: right;\">\n      <th></th>\n      <th>Age</th>\n      <th>Gender</th>\n      <th>OwnHome</th>\n      <th>Married</th>\n      <th>Location</th>\n      <th>Salary</th>\n      <th>Children</th>\n      <th>History</th>\n      <th>Catalogs</th>\n      <th>AmountSpent</th>\n      <th>Cust_Id</th>\n    </tr>\n  </thead>\n  <tbody>\n    <tr>\n      <th>995</th>\n      <td>Young</td>\n      <td>Female</td>\n      <td>Rent</td>\n      <td>Single</td>\n      <td>Close</td>\n      <td>19400</td>\n      <td>1</td>\n      <td>NaN</td>\n      <td>18</td>\n      <td>384</td>\n      <td>190</td>\n    </tr>\n    <tr>\n      <th>996</th>\n      <td>Middle</td>\n      <td>Male</td>\n      <td>Rent</td>\n      <td>Single</td>\n      <td>Far</td>\n      <td>40500</td>\n      <td>1</td>\n      <td>NaN</td>\n      <td>18</td>\n      <td>1073</td>\n      <td>510</td>\n    </tr>\n    <tr>\n      <th>997</th>\n      <td>Old</td>\n      <td>Male</td>\n      <td>Own</td>\n      <td>Single</td>\n      <td>Close</td>\n      <td>44800</td>\n      <td>0</td>\n      <td>Medium</td>\n      <td>24</td>\n      <td>1417</td>\n      <td>725</td>\n    </tr>\n    <tr>\n      <th>998</th>\n      <td>Middle</td>\n      <td>Male</td>\n      <td>Own</td>\n      <td>Married</td>\n      <td>Close</td>\n      <td>79000</td>\n      <td>2</td>\n      <td>Medium</td>\n      <td>18</td>\n      <td>671</td>\n      <td>1034</td>\n    </tr>\n    <tr>\n      <th>999</th>\n      <td>Young</td>\n      <td>Male</td>\n      <td>Rent</td>\n      <td>Married</td>\n      <td>Close</td>\n      <td>53600</td>\n      <td>1</td>\n      <td>Medium</td>\n      <td>24</td>\n      <td>973</td>\n      <td>1203</td>\n    </tr>\n  </tbody>\n</table>\n</div>"
     },
     "metadata": {},
     "execution_count": 84
    }
   ],
   "source": [
    "df.tail()"
   ]
  },
  {
   "source": [
    "# getting the columns of the dataframe"
   ],
   "cell_type": "markdown",
   "metadata": {}
  },
  {
   "cell_type": "code",
   "execution_count": 85,
   "metadata": {},
   "outputs": [
    {
     "output_type": "execute_result",
     "data": {
      "text/plain": [
       "Index(['Age', 'Gender', 'OwnHome', 'Married', 'Location', 'Salary', 'Children',\n",
       "       'History', 'Catalogs', 'AmountSpent', 'Cust_Id'],\n",
       "      dtype='object')"
      ]
     },
     "metadata": {},
     "execution_count": 85
    }
   ],
   "source": [
    "df.columns"
   ]
  },
  {
   "cell_type": "code",
   "execution_count": 86,
   "metadata": {},
   "outputs": [
    {
     "output_type": "execute_result",
     "data": {
      "text/plain": [
       "RangeIndex(start=0, stop=1000, step=1)"
      ]
     },
     "metadata": {},
     "execution_count": 86
    }
   ],
   "source": [
    "df.index"
   ]
  },
  {
   "cell_type": "code",
   "execution_count": 87,
   "metadata": {},
   "outputs": [
    {
     "output_type": "execute_result",
     "data": {
      "text/plain": [
       "        Age  Gender OwnHome  Married Location  Salary  Children History  \\\n",
       "0       Old  Female     Own   Single      Far   47500         0    High   \n",
       "1    Middle    Male    Rent   Single    Close   63600         0    High   \n",
       "2     Young  Female    Rent   Single    Close   13500         0     Low   \n",
       "3    Middle    Male     Own  Married    Close   85600         1    High   \n",
       "4    Middle  Female     Own   Single    Close   68400         0    High   \n",
       "..      ...     ...     ...      ...      ...     ...       ...     ...   \n",
       "995   Young  Female    Rent   Single    Close   19400         1     NaN   \n",
       "996  Middle    Male    Rent   Single      Far   40500         1     NaN   \n",
       "997     Old    Male     Own   Single    Close   44800         0  Medium   \n",
       "998  Middle    Male     Own  Married    Close   79000         2  Medium   \n",
       "999   Young    Male    Rent  Married    Close   53600         1  Medium   \n",
       "\n",
       "     Catalogs  AmountSpent  Cust_Id  \n",
       "0           6          755      247  \n",
       "1           6         1318      127  \n",
       "2          18          296      479  \n",
       "3          18         2436      475  \n",
       "4          12         1304      151  \n",
       "..        ...          ...      ...  \n",
       "995        18          384      190  \n",
       "996        18         1073      510  \n",
       "997        24         1417      725  \n",
       "998        18          671     1034  \n",
       "999        24          973     1203  \n",
       "\n",
       "[1000 rows x 11 columns]"
      ],
      "text/html": "<div>\n<style scoped>\n    .dataframe tbody tr th:only-of-type {\n        vertical-align: middle;\n    }\n\n    .dataframe tbody tr th {\n        vertical-align: top;\n    }\n\n    .dataframe thead th {\n        text-align: right;\n    }\n</style>\n<table border=\"1\" class=\"dataframe\">\n  <thead>\n    <tr style=\"text-align: right;\">\n      <th></th>\n      <th>Age</th>\n      <th>Gender</th>\n      <th>OwnHome</th>\n      <th>Married</th>\n      <th>Location</th>\n      <th>Salary</th>\n      <th>Children</th>\n      <th>History</th>\n      <th>Catalogs</th>\n      <th>AmountSpent</th>\n      <th>Cust_Id</th>\n    </tr>\n  </thead>\n  <tbody>\n    <tr>\n      <th>0</th>\n      <td>Old</td>\n      <td>Female</td>\n      <td>Own</td>\n      <td>Single</td>\n      <td>Far</td>\n      <td>47500</td>\n      <td>0</td>\n      <td>High</td>\n      <td>6</td>\n      <td>755</td>\n      <td>247</td>\n    </tr>\n    <tr>\n      <th>1</th>\n      <td>Middle</td>\n      <td>Male</td>\n      <td>Rent</td>\n      <td>Single</td>\n      <td>Close</td>\n      <td>63600</td>\n      <td>0</td>\n      <td>High</td>\n      <td>6</td>\n      <td>1318</td>\n      <td>127</td>\n    </tr>\n    <tr>\n      <th>2</th>\n      <td>Young</td>\n      <td>Female</td>\n      <td>Rent</td>\n      <td>Single</td>\n      <td>Close</td>\n      <td>13500</td>\n      <td>0</td>\n      <td>Low</td>\n      <td>18</td>\n      <td>296</td>\n      <td>479</td>\n    </tr>\n    <tr>\n      <th>3</th>\n      <td>Middle</td>\n      <td>Male</td>\n      <td>Own</td>\n      <td>Married</td>\n      <td>Close</td>\n      <td>85600</td>\n      <td>1</td>\n      <td>High</td>\n      <td>18</td>\n      <td>2436</td>\n      <td>475</td>\n    </tr>\n    <tr>\n      <th>4</th>\n      <td>Middle</td>\n      <td>Female</td>\n      <td>Own</td>\n      <td>Single</td>\n      <td>Close</td>\n      <td>68400</td>\n      <td>0</td>\n      <td>High</td>\n      <td>12</td>\n      <td>1304</td>\n      <td>151</td>\n    </tr>\n    <tr>\n      <th>...</th>\n      <td>...</td>\n      <td>...</td>\n      <td>...</td>\n      <td>...</td>\n      <td>...</td>\n      <td>...</td>\n      <td>...</td>\n      <td>...</td>\n      <td>...</td>\n      <td>...</td>\n      <td>...</td>\n    </tr>\n    <tr>\n      <th>995</th>\n      <td>Young</td>\n      <td>Female</td>\n      <td>Rent</td>\n      <td>Single</td>\n      <td>Close</td>\n      <td>19400</td>\n      <td>1</td>\n      <td>NaN</td>\n      <td>18</td>\n      <td>384</td>\n      <td>190</td>\n    </tr>\n    <tr>\n      <th>996</th>\n      <td>Middle</td>\n      <td>Male</td>\n      <td>Rent</td>\n      <td>Single</td>\n      <td>Far</td>\n      <td>40500</td>\n      <td>1</td>\n      <td>NaN</td>\n      <td>18</td>\n      <td>1073</td>\n      <td>510</td>\n    </tr>\n    <tr>\n      <th>997</th>\n      <td>Old</td>\n      <td>Male</td>\n      <td>Own</td>\n      <td>Single</td>\n      <td>Close</td>\n      <td>44800</td>\n      <td>0</td>\n      <td>Medium</td>\n      <td>24</td>\n      <td>1417</td>\n      <td>725</td>\n    </tr>\n    <tr>\n      <th>998</th>\n      <td>Middle</td>\n      <td>Male</td>\n      <td>Own</td>\n      <td>Married</td>\n      <td>Close</td>\n      <td>79000</td>\n      <td>2</td>\n      <td>Medium</td>\n      <td>18</td>\n      <td>671</td>\n      <td>1034</td>\n    </tr>\n    <tr>\n      <th>999</th>\n      <td>Young</td>\n      <td>Male</td>\n      <td>Rent</td>\n      <td>Married</td>\n      <td>Close</td>\n      <td>53600</td>\n      <td>1</td>\n      <td>Medium</td>\n      <td>24</td>\n      <td>973</td>\n      <td>1203</td>\n    </tr>\n  </tbody>\n</table>\n<p>1000 rows × 11 columns</p>\n</div>"
     },
     "metadata": {},
     "execution_count": 87
    }
   ],
   "source": [
    "df"
   ]
  },
  {
   "cell_type": "code",
   "execution_count": 88,
   "metadata": {},
   "outputs": [
    {
     "output_type": "execute_result",
     "data": {
      "text/plain": [
       "(1000, 11)"
      ]
     },
     "metadata": {},
     "execution_count": 88
    }
   ],
   "source": [
    "df.shape"
   ]
  },
  {
   "source": [
    "# Select only one row from the data frame"
   ],
   "cell_type": "markdown",
   "metadata": {}
  },
  {
   "cell_type": "code",
   "execution_count": 91,
   "metadata": {},
   "outputs": [
    {
     "output_type": "execute_result",
     "data": {
      "text/plain": [
       "0         Old\n",
       "1      Middle\n",
       "2       Young\n",
       "3      Middle\n",
       "4      Middle\n",
       "        ...  \n",
       "995     Young\n",
       "996    Middle\n",
       "997       Old\n",
       "998    Middle\n",
       "999     Young\n",
       "Name: Age, Length: 1000, dtype: object"
      ]
     },
     "metadata": {},
     "execution_count": 91
    }
   ],
   "source": [
    "df['Age'] # each and every column of a dataframa is a series"
   ]
  },
  {
   "cell_type": "code",
   "execution_count": 92,
   "metadata": {},
   "outputs": [
    {
     "output_type": "execute_result",
     "data": {
      "text/plain": [
       "pandas.core.series.Series"
      ]
     },
     "metadata": {},
     "execution_count": 92
    }
   ],
   "source": [
    "type(df['Age'])"
   ]
  },
  {
   "cell_type": "code",
   "execution_count": 93,
   "metadata": {},
   "outputs": [
    {
     "output_type": "execute_result",
     "data": {
      "text/plain": [
       "True"
      ]
     },
     "metadata": {},
     "execution_count": 93
    }
   ],
   "source": [
    "isinstance(df['Age'],pd.Series)"
   ]
  },
  {
   "source": [
    "# get two columns"
   ],
   "cell_type": "markdown",
   "metadata": {}
  },
  {
   "cell_type": "code",
   "execution_count": 101,
   "metadata": {},
   "outputs": [
    {
     "output_type": "execute_result",
     "data": {
      "text/plain": [
       "     Gender  Salary\n",
       "0    Female   47500\n",
       "1      Male   63600\n",
       "2    Female   13500\n",
       "3      Male   85600\n",
       "4    Female   68400\n",
       "..      ...     ...\n",
       "995  Female   19400\n",
       "996    Male   40500\n",
       "997    Male   44800\n",
       "998    Male   79000\n",
       "999    Male   53600\n",
       "\n",
       "[1000 rows x 2 columns]"
      ],
      "text/html": "<div>\n<style scoped>\n    .dataframe tbody tr th:only-of-type {\n        vertical-align: middle;\n    }\n\n    .dataframe tbody tr th {\n        vertical-align: top;\n    }\n\n    .dataframe thead th {\n        text-align: right;\n    }\n</style>\n<table border=\"1\" class=\"dataframe\">\n  <thead>\n    <tr style=\"text-align: right;\">\n      <th></th>\n      <th>Gender</th>\n      <th>Salary</th>\n    </tr>\n  </thead>\n  <tbody>\n    <tr>\n      <th>0</th>\n      <td>Female</td>\n      <td>47500</td>\n    </tr>\n    <tr>\n      <th>1</th>\n      <td>Male</td>\n      <td>63600</td>\n    </tr>\n    <tr>\n      <th>2</th>\n      <td>Female</td>\n      <td>13500</td>\n    </tr>\n    <tr>\n      <th>3</th>\n      <td>Male</td>\n      <td>85600</td>\n    </tr>\n    <tr>\n      <th>4</th>\n      <td>Female</td>\n      <td>68400</td>\n    </tr>\n    <tr>\n      <th>...</th>\n      <td>...</td>\n      <td>...</td>\n    </tr>\n    <tr>\n      <th>995</th>\n      <td>Female</td>\n      <td>19400</td>\n    </tr>\n    <tr>\n      <th>996</th>\n      <td>Male</td>\n      <td>40500</td>\n    </tr>\n    <tr>\n      <th>997</th>\n      <td>Male</td>\n      <td>44800</td>\n    </tr>\n    <tr>\n      <th>998</th>\n      <td>Male</td>\n      <td>79000</td>\n    </tr>\n    <tr>\n      <th>999</th>\n      <td>Male</td>\n      <td>53600</td>\n    </tr>\n  </tbody>\n</table>\n<p>1000 rows × 2 columns</p>\n</div>"
     },
     "metadata": {},
     "execution_count": 101
    }
   ],
   "source": [
    "df[['Gender','Salary']] # to get multiple columns we pass the column names as lists\n",
    "\n",
    "# multiple columns returns dataframes"
   ]
  },
  {
   "cell_type": "code",
   "execution_count": 102,
   "metadata": {},
   "outputs": [
    {
     "output_type": "execute_result",
     "data": {
      "text/plain": [
       "pandas.core.frame.DataFrame"
      ]
     },
     "metadata": {},
     "execution_count": 102
    }
   ],
   "source": [
    "type(df[['Gender','Salary']])"
   ]
  },
  {
   "cell_type": "code",
   "execution_count": 103,
   "metadata": {},
   "outputs": [
    {
     "output_type": "execute_result",
     "data": {
      "text/plain": [
       "True"
      ]
     },
     "metadata": {},
     "execution_count": 103
    }
   ],
   "source": [
    "isinstance(df[['Gender','Salary']],pd.DataFrame)"
   ]
  },
  {
   "cell_type": "code",
   "execution_count": 104,
   "metadata": {},
   "outputs": [
    {
     "output_type": "execute_result",
     "data": {
      "text/plain": [
       "pandas.core.frame.DataFrame"
      ]
     },
     "metadata": {},
     "execution_count": 104
    }
   ],
   "source": [
    "pd.DataFrame"
   ]
  },
  {
   "source": [
    "# get data columns and data types"
   ],
   "cell_type": "markdown",
   "metadata": {}
  },
  {
   "cell_type": "code",
   "execution_count": 107,
   "metadata": {},
   "outputs": [
    {
     "output_type": "stream",
     "name": "stdout",
     "text": [
      "<class 'pandas.core.frame.DataFrame'>\nRangeIndex: 1000 entries, 0 to 999\nData columns (total 11 columns):\n #   Column       Non-Null Count  Dtype \n---  ------       --------------  ----- \n 0   Age          1000 non-null   object\n 1   Gender       1000 non-null   object\n 2   OwnHome      1000 non-null   object\n 3   Married      1000 non-null   object\n 4   Location     1000 non-null   object\n 5   Salary       1000 non-null   int64 \n 6   Children     1000 non-null   int64 \n 7   History      697 non-null    object\n 8   Catalogs     1000 non-null   int64 \n 9   AmountSpent  1000 non-null   int64 \n 10  Cust_Id      1000 non-null   int64 \ndtypes: int64(5), object(6)\nmemory usage: 86.1+ KB\n"
     ]
    }
   ],
   "source": [
    "df.info()"
   ]
  },
  {
   "source": [
    "# describing the dataset"
   ],
   "cell_type": "markdown",
   "metadata": {}
  },
  {
   "cell_type": "code",
   "execution_count": 109,
   "metadata": {},
   "outputs": [
    {
     "output_type": "execute_result",
     "data": {
      "text/plain": [
       "              Salary    Children     Catalogs  AmountSpent      Cust_Id\n",
       "count    1000.000000  1000.00000  1000.000000  1000.000000  1000.000000\n",
       "mean    56103.900000     0.93400    14.682000  1216.770000   643.930000\n",
       "std     30616.314826     1.05107     6.622895   961.068613   369.047166\n",
       "min     10100.000000     0.00000     6.000000    38.000000    12.000000\n",
       "25%     29975.000000     0.00000     6.000000   488.250000   316.750000\n",
       "50%     53700.000000     1.00000    12.000000   962.000000   636.000000\n",
       "75%     77025.000000     2.00000    18.000000  1688.500000   955.500000\n",
       "max    168800.000000     3.00000    24.000000  6217.000000  1297.000000"
      ],
      "text/html": "<div>\n<style scoped>\n    .dataframe tbody tr th:only-of-type {\n        vertical-align: middle;\n    }\n\n    .dataframe tbody tr th {\n        vertical-align: top;\n    }\n\n    .dataframe thead th {\n        text-align: right;\n    }\n</style>\n<table border=\"1\" class=\"dataframe\">\n  <thead>\n    <tr style=\"text-align: right;\">\n      <th></th>\n      <th>Salary</th>\n      <th>Children</th>\n      <th>Catalogs</th>\n      <th>AmountSpent</th>\n      <th>Cust_Id</th>\n    </tr>\n  </thead>\n  <tbody>\n    <tr>\n      <th>count</th>\n      <td>1000.000000</td>\n      <td>1000.00000</td>\n      <td>1000.000000</td>\n      <td>1000.000000</td>\n      <td>1000.000000</td>\n    </tr>\n    <tr>\n      <th>mean</th>\n      <td>56103.900000</td>\n      <td>0.93400</td>\n      <td>14.682000</td>\n      <td>1216.770000</td>\n      <td>643.930000</td>\n    </tr>\n    <tr>\n      <th>std</th>\n      <td>30616.314826</td>\n      <td>1.05107</td>\n      <td>6.622895</td>\n      <td>961.068613</td>\n      <td>369.047166</td>\n    </tr>\n    <tr>\n      <th>min</th>\n      <td>10100.000000</td>\n      <td>0.00000</td>\n      <td>6.000000</td>\n      <td>38.000000</td>\n      <td>12.000000</td>\n    </tr>\n    <tr>\n      <th>25%</th>\n      <td>29975.000000</td>\n      <td>0.00000</td>\n      <td>6.000000</td>\n      <td>488.250000</td>\n      <td>316.750000</td>\n    </tr>\n    <tr>\n      <th>50%</th>\n      <td>53700.000000</td>\n      <td>1.00000</td>\n      <td>12.000000</td>\n      <td>962.000000</td>\n      <td>636.000000</td>\n    </tr>\n    <tr>\n      <th>75%</th>\n      <td>77025.000000</td>\n      <td>2.00000</td>\n      <td>18.000000</td>\n      <td>1688.500000</td>\n      <td>955.500000</td>\n    </tr>\n    <tr>\n      <th>max</th>\n      <td>168800.000000</td>\n      <td>3.00000</td>\n      <td>24.000000</td>\n      <td>6217.000000</td>\n      <td>1297.000000</td>\n    </tr>\n  </tbody>\n</table>\n</div>"
     },
     "metadata": {},
     "execution_count": 109
    }
   ],
   "source": [
    "df.describe() # only get the output for categorical columns"
   ]
  },
  {
   "source": [
    "# to include all numeric and categorical data"
   ],
   "cell_type": "markdown",
   "metadata": {}
  },
  {
   "cell_type": "code",
   "execution_count": 111,
   "metadata": {},
   "outputs": [
    {
     "output_type": "execute_result",
     "data": {
      "text/plain": [
       "           Age  Gender OwnHome  Married Location         Salary    Children  \\\n",
       "count     1000    1000    1000     1000     1000    1000.000000  1000.00000   \n",
       "unique       3       2       2        2        2            NaN         NaN   \n",
       "top     Middle  Female     Own  Married    Close            NaN         NaN   \n",
       "freq       508     506     516      502      710            NaN         NaN   \n",
       "mean       NaN     NaN     NaN      NaN      NaN   56103.900000     0.93400   \n",
       "std        NaN     NaN     NaN      NaN      NaN   30616.314826     1.05107   \n",
       "min        NaN     NaN     NaN      NaN      NaN   10100.000000     0.00000   \n",
       "25%        NaN     NaN     NaN      NaN      NaN   29975.000000     0.00000   \n",
       "50%        NaN     NaN     NaN      NaN      NaN   53700.000000     1.00000   \n",
       "75%        NaN     NaN     NaN      NaN      NaN   77025.000000     2.00000   \n",
       "max        NaN     NaN     NaN      NaN      NaN  168800.000000     3.00000   \n",
       "\n",
       "       History     Catalogs  AmountSpent      Cust_Id  \n",
       "count      697  1000.000000  1000.000000  1000.000000  \n",
       "unique       3          NaN          NaN          NaN  \n",
       "top       High          NaN          NaN          NaN  \n",
       "freq       255          NaN          NaN          NaN  \n",
       "mean       NaN    14.682000  1216.770000   643.930000  \n",
       "std        NaN     6.622895   961.068613   369.047166  \n",
       "min        NaN     6.000000    38.000000    12.000000  \n",
       "25%        NaN     6.000000   488.250000   316.750000  \n",
       "50%        NaN    12.000000   962.000000   636.000000  \n",
       "75%        NaN    18.000000  1688.500000   955.500000  \n",
       "max        NaN    24.000000  6217.000000  1297.000000  "
      ],
      "text/html": "<div>\n<style scoped>\n    .dataframe tbody tr th:only-of-type {\n        vertical-align: middle;\n    }\n\n    .dataframe tbody tr th {\n        vertical-align: top;\n    }\n\n    .dataframe thead th {\n        text-align: right;\n    }\n</style>\n<table border=\"1\" class=\"dataframe\">\n  <thead>\n    <tr style=\"text-align: right;\">\n      <th></th>\n      <th>Age</th>\n      <th>Gender</th>\n      <th>OwnHome</th>\n      <th>Married</th>\n      <th>Location</th>\n      <th>Salary</th>\n      <th>Children</th>\n      <th>History</th>\n      <th>Catalogs</th>\n      <th>AmountSpent</th>\n      <th>Cust_Id</th>\n    </tr>\n  </thead>\n  <tbody>\n    <tr>\n      <th>count</th>\n      <td>1000</td>\n      <td>1000</td>\n      <td>1000</td>\n      <td>1000</td>\n      <td>1000</td>\n      <td>1000.000000</td>\n      <td>1000.00000</td>\n      <td>697</td>\n      <td>1000.000000</td>\n      <td>1000.000000</td>\n      <td>1000.000000</td>\n    </tr>\n    <tr>\n      <th>unique</th>\n      <td>3</td>\n      <td>2</td>\n      <td>2</td>\n      <td>2</td>\n      <td>2</td>\n      <td>NaN</td>\n      <td>NaN</td>\n      <td>3</td>\n      <td>NaN</td>\n      <td>NaN</td>\n      <td>NaN</td>\n    </tr>\n    <tr>\n      <th>top</th>\n      <td>Middle</td>\n      <td>Female</td>\n      <td>Own</td>\n      <td>Married</td>\n      <td>Close</td>\n      <td>NaN</td>\n      <td>NaN</td>\n      <td>High</td>\n      <td>NaN</td>\n      <td>NaN</td>\n      <td>NaN</td>\n    </tr>\n    <tr>\n      <th>freq</th>\n      <td>508</td>\n      <td>506</td>\n      <td>516</td>\n      <td>502</td>\n      <td>710</td>\n      <td>NaN</td>\n      <td>NaN</td>\n      <td>255</td>\n      <td>NaN</td>\n      <td>NaN</td>\n      <td>NaN</td>\n    </tr>\n    <tr>\n      <th>mean</th>\n      <td>NaN</td>\n      <td>NaN</td>\n      <td>NaN</td>\n      <td>NaN</td>\n      <td>NaN</td>\n      <td>56103.900000</td>\n      <td>0.93400</td>\n      <td>NaN</td>\n      <td>14.682000</td>\n      <td>1216.770000</td>\n      <td>643.930000</td>\n    </tr>\n    <tr>\n      <th>std</th>\n      <td>NaN</td>\n      <td>NaN</td>\n      <td>NaN</td>\n      <td>NaN</td>\n      <td>NaN</td>\n      <td>30616.314826</td>\n      <td>1.05107</td>\n      <td>NaN</td>\n      <td>6.622895</td>\n      <td>961.068613</td>\n      <td>369.047166</td>\n    </tr>\n    <tr>\n      <th>min</th>\n      <td>NaN</td>\n      <td>NaN</td>\n      <td>NaN</td>\n      <td>NaN</td>\n      <td>NaN</td>\n      <td>10100.000000</td>\n      <td>0.00000</td>\n      <td>NaN</td>\n      <td>6.000000</td>\n      <td>38.000000</td>\n      <td>12.000000</td>\n    </tr>\n    <tr>\n      <th>25%</th>\n      <td>NaN</td>\n      <td>NaN</td>\n      <td>NaN</td>\n      <td>NaN</td>\n      <td>NaN</td>\n      <td>29975.000000</td>\n      <td>0.00000</td>\n      <td>NaN</td>\n      <td>6.000000</td>\n      <td>488.250000</td>\n      <td>316.750000</td>\n    </tr>\n    <tr>\n      <th>50%</th>\n      <td>NaN</td>\n      <td>NaN</td>\n      <td>NaN</td>\n      <td>NaN</td>\n      <td>NaN</td>\n      <td>53700.000000</td>\n      <td>1.00000</td>\n      <td>NaN</td>\n      <td>12.000000</td>\n      <td>962.000000</td>\n      <td>636.000000</td>\n    </tr>\n    <tr>\n      <th>75%</th>\n      <td>NaN</td>\n      <td>NaN</td>\n      <td>NaN</td>\n      <td>NaN</td>\n      <td>NaN</td>\n      <td>77025.000000</td>\n      <td>2.00000</td>\n      <td>NaN</td>\n      <td>18.000000</td>\n      <td>1688.500000</td>\n      <td>955.500000</td>\n    </tr>\n    <tr>\n      <th>max</th>\n      <td>NaN</td>\n      <td>NaN</td>\n      <td>NaN</td>\n      <td>NaN</td>\n      <td>NaN</td>\n      <td>168800.000000</td>\n      <td>3.00000</td>\n      <td>NaN</td>\n      <td>24.000000</td>\n      <td>6217.000000</td>\n      <td>1297.000000</td>\n    </tr>\n  </tbody>\n</table>\n</div>"
     },
     "metadata": {},
     "execution_count": 111
    }
   ],
   "source": [
    "df.describe(include='all')"
   ]
  },
  {
   "source": [
    "# describe the object datatype"
   ],
   "cell_type": "markdown",
   "metadata": {}
  },
  {
   "cell_type": "code",
   "execution_count": 113,
   "metadata": {},
   "outputs": [
    {
     "output_type": "execute_result",
     "data": {
      "text/plain": [
       "           Age  Gender OwnHome  Married Location History\n",
       "count     1000    1000    1000     1000     1000     697\n",
       "unique       3       2       2        2        2       3\n",
       "top     Middle  Female     Own  Married    Close    High\n",
       "freq       508     506     516      502      710     255"
      ],
      "text/html": "<div>\n<style scoped>\n    .dataframe tbody tr th:only-of-type {\n        vertical-align: middle;\n    }\n\n    .dataframe tbody tr th {\n        vertical-align: top;\n    }\n\n    .dataframe thead th {\n        text-align: right;\n    }\n</style>\n<table border=\"1\" class=\"dataframe\">\n  <thead>\n    <tr style=\"text-align: right;\">\n      <th></th>\n      <th>Age</th>\n      <th>Gender</th>\n      <th>OwnHome</th>\n      <th>Married</th>\n      <th>Location</th>\n      <th>History</th>\n    </tr>\n  </thead>\n  <tbody>\n    <tr>\n      <th>count</th>\n      <td>1000</td>\n      <td>1000</td>\n      <td>1000</td>\n      <td>1000</td>\n      <td>1000</td>\n      <td>697</td>\n    </tr>\n    <tr>\n      <th>unique</th>\n      <td>3</td>\n      <td>2</td>\n      <td>2</td>\n      <td>2</td>\n      <td>2</td>\n      <td>3</td>\n    </tr>\n    <tr>\n      <th>top</th>\n      <td>Middle</td>\n      <td>Female</td>\n      <td>Own</td>\n      <td>Married</td>\n      <td>Close</td>\n      <td>High</td>\n    </tr>\n    <tr>\n      <th>freq</th>\n      <td>508</td>\n      <td>506</td>\n      <td>516</td>\n      <td>502</td>\n      <td>710</td>\n      <td>255</td>\n    </tr>\n  </tbody>\n</table>\n</div>"
     },
     "metadata": {},
     "execution_count": 113
    }
   ],
   "source": [
    "# only describe the object datatype \n",
    "df.describe(include='O')\n",
    "# this also describes the frequency of the top categorical element. "
   ]
  },
  {
   "source": [
    "# frequency distribution for categorical columns"
   ],
   "cell_type": "markdown",
   "metadata": {}
  },
  {
   "cell_type": "code",
   "execution_count": 119,
   "metadata": {},
   "outputs": [
    {
     "output_type": "execute_result",
     "data": {
      "text/plain": [
       "Middle    508\n",
       "Young     287\n",
       "Old       205\n",
       "Name: Age, dtype: int64"
      ]
     },
     "metadata": {},
     "execution_count": 119
    }
   ],
   "source": [
    "df['Age'].value_counts()"
   ]
  },
  {
   "cell_type": "code",
   "execution_count": 121,
   "metadata": {},
   "outputs": [
    {
     "output_type": "execute_result",
     "data": {
      "text/plain": [
       "Close    0.71\n",
       "Far      0.29\n",
       "Name: Location, dtype: float64"
      ]
     },
     "metadata": {},
     "execution_count": 121
    }
   ],
   "source": [
    "df.Location.value_counts() / (710 + 290)"
   ]
  },
  {
   "source": [
    "# unique values in the data"
   ],
   "cell_type": "markdown",
   "metadata": {}
  },
  {
   "cell_type": "code",
   "execution_count": 123,
   "metadata": {},
   "outputs": [
    {
     "output_type": "execute_result",
     "data": {
      "text/plain": [
       "array(['Old', 'Middle', 'Young'], dtype=object)"
      ]
     },
     "metadata": {},
     "execution_count": 123
    }
   ],
   "source": [
    "df['Age'].unique()"
   ]
  },
  {
   "cell_type": "code",
   "execution_count": 124,
   "metadata": {},
   "outputs": [
    {
     "output_type": "execute_result",
     "data": {
      "text/plain": [
       "3"
      ]
     },
     "metadata": {},
     "execution_count": 124
    }
   ],
   "source": [
    "df['Age'].nunique()"
   ]
  },
  {
   "source": [
    "# find the mean of the columns"
   ],
   "cell_type": "markdown",
   "metadata": {}
  },
  {
   "cell_type": "code",
   "execution_count": 125,
   "metadata": {},
   "outputs": [
    {
     "output_type": "execute_result",
     "data": {
      "text/plain": [
       "56103.9"
      ]
     },
     "metadata": {},
     "execution_count": 125
    }
   ],
   "source": [
    "df['Salary'].mean()"
   ]
  },
  {
   "cell_type": "code",
   "execution_count": 126,
   "metadata": {},
   "outputs": [
    {
     "output_type": "execute_result",
     "data": {
      "text/plain": [
       "53700.0"
      ]
     },
     "metadata": {},
     "execution_count": 126
    }
   ],
   "source": [
    "df['Salary'].median()"
   ]
  },
  {
   "source": [
    "# dimensions of the data"
   ],
   "cell_type": "markdown",
   "metadata": {}
  },
  {
   "cell_type": "code",
   "execution_count": 128,
   "metadata": {},
   "outputs": [
    {
     "output_type": "execute_result",
     "data": {
      "text/plain": [
       "2"
      ]
     },
     "metadata": {},
     "execution_count": 128
    }
   ],
   "source": [
    "df.ndim"
   ]
  },
  {
   "source": [
    "# indexing operations of the dataframe"
   ],
   "cell_type": "markdown",
   "metadata": {}
  },
  {
   "cell_type": "code",
   "execution_count": 132,
   "metadata": {},
   "outputs": [
    {
     "output_type": "execute_result",
     "data": {
      "text/plain": [
       "        Age  Gender OwnHome  Married Location  Salary  Children History  \\\n",
       "1    Middle    Male    Rent   Single    Close   63600         0    High   \n",
       "3    Middle    Male     Own  Married    Close   85600         1    High   \n",
       "4    Middle  Female     Own   Single    Close   68400         0    High   \n",
       "7    Middle    Male     Own   Single    Close   68400         0    High   \n",
       "9       Old    Male     Own  Married      Far   80700         0     NaN   \n",
       "..      ...     ...     ...      ...      ...     ...       ...     ...   \n",
       "989  Middle    Male     Own  Married      Far  102700         1    High   \n",
       "990  Middle    Male     Own  Married    Close  123800         2     NaN   \n",
       "992  Middle    Male     Own  Married    Close  101700         1     NaN   \n",
       "993  Middle  Female     Own  Married      Far   99200         0    High   \n",
       "998  Middle    Male     Own  Married    Close   79000         2  Medium   \n",
       "\n",
       "     Catalogs  AmountSpent  Cust_Id  \n",
       "1           6         1318      127  \n",
       "3          18         2436      475  \n",
       "4          12         1304      151  \n",
       "7          18         1155      790  \n",
       "9          18         3034      475  \n",
       "..        ...          ...      ...  \n",
       "989        18         3785     1269  \n",
       "990        18         3537      898  \n",
       "992         6          941     1283  \n",
       "993        24         5503      924  \n",
       "998        18          671     1034  \n",
       "\n",
       "[465 rows x 11 columns]"
      ],
      "text/html": "<div>\n<style scoped>\n    .dataframe tbody tr th:only-of-type {\n        vertical-align: middle;\n    }\n\n    .dataframe tbody tr th {\n        vertical-align: top;\n    }\n\n    .dataframe thead th {\n        text-align: right;\n    }\n</style>\n<table border=\"1\" class=\"dataframe\">\n  <thead>\n    <tr style=\"text-align: right;\">\n      <th></th>\n      <th>Age</th>\n      <th>Gender</th>\n      <th>OwnHome</th>\n      <th>Married</th>\n      <th>Location</th>\n      <th>Salary</th>\n      <th>Children</th>\n      <th>History</th>\n      <th>Catalogs</th>\n      <th>AmountSpent</th>\n      <th>Cust_Id</th>\n    </tr>\n  </thead>\n  <tbody>\n    <tr>\n      <th>1</th>\n      <td>Middle</td>\n      <td>Male</td>\n      <td>Rent</td>\n      <td>Single</td>\n      <td>Close</td>\n      <td>63600</td>\n      <td>0</td>\n      <td>High</td>\n      <td>6</td>\n      <td>1318</td>\n      <td>127</td>\n    </tr>\n    <tr>\n      <th>3</th>\n      <td>Middle</td>\n      <td>Male</td>\n      <td>Own</td>\n      <td>Married</td>\n      <td>Close</td>\n      <td>85600</td>\n      <td>1</td>\n      <td>High</td>\n      <td>18</td>\n      <td>2436</td>\n      <td>475</td>\n    </tr>\n    <tr>\n      <th>4</th>\n      <td>Middle</td>\n      <td>Female</td>\n      <td>Own</td>\n      <td>Single</td>\n      <td>Close</td>\n      <td>68400</td>\n      <td>0</td>\n      <td>High</td>\n      <td>12</td>\n      <td>1304</td>\n      <td>151</td>\n    </tr>\n    <tr>\n      <th>7</th>\n      <td>Middle</td>\n      <td>Male</td>\n      <td>Own</td>\n      <td>Single</td>\n      <td>Close</td>\n      <td>68400</td>\n      <td>0</td>\n      <td>High</td>\n      <td>18</td>\n      <td>1155</td>\n      <td>790</td>\n    </tr>\n    <tr>\n      <th>9</th>\n      <td>Old</td>\n      <td>Male</td>\n      <td>Own</td>\n      <td>Married</td>\n      <td>Far</td>\n      <td>80700</td>\n      <td>0</td>\n      <td>NaN</td>\n      <td>18</td>\n      <td>3034</td>\n      <td>475</td>\n    </tr>\n    <tr>\n      <th>...</th>\n      <td>...</td>\n      <td>...</td>\n      <td>...</td>\n      <td>...</td>\n      <td>...</td>\n      <td>...</td>\n      <td>...</td>\n      <td>...</td>\n      <td>...</td>\n      <td>...</td>\n      <td>...</td>\n    </tr>\n    <tr>\n      <th>989</th>\n      <td>Middle</td>\n      <td>Male</td>\n      <td>Own</td>\n      <td>Married</td>\n      <td>Far</td>\n      <td>102700</td>\n      <td>1</td>\n      <td>High</td>\n      <td>18</td>\n      <td>3785</td>\n      <td>1269</td>\n    </tr>\n    <tr>\n      <th>990</th>\n      <td>Middle</td>\n      <td>Male</td>\n      <td>Own</td>\n      <td>Married</td>\n      <td>Close</td>\n      <td>123800</td>\n      <td>2</td>\n      <td>NaN</td>\n      <td>18</td>\n      <td>3537</td>\n      <td>898</td>\n    </tr>\n    <tr>\n      <th>992</th>\n      <td>Middle</td>\n      <td>Male</td>\n      <td>Own</td>\n      <td>Married</td>\n      <td>Close</td>\n      <td>101700</td>\n      <td>1</td>\n      <td>NaN</td>\n      <td>6</td>\n      <td>941</td>\n      <td>1283</td>\n    </tr>\n    <tr>\n      <th>993</th>\n      <td>Middle</td>\n      <td>Female</td>\n      <td>Own</td>\n      <td>Married</td>\n      <td>Far</td>\n      <td>99200</td>\n      <td>0</td>\n      <td>High</td>\n      <td>24</td>\n      <td>5503</td>\n      <td>924</td>\n    </tr>\n    <tr>\n      <th>998</th>\n      <td>Middle</td>\n      <td>Male</td>\n      <td>Own</td>\n      <td>Married</td>\n      <td>Close</td>\n      <td>79000</td>\n      <td>2</td>\n      <td>Medium</td>\n      <td>18</td>\n      <td>671</td>\n      <td>1034</td>\n    </tr>\n  </tbody>\n</table>\n<p>465 rows × 11 columns</p>\n</div>"
     },
     "metadata": {},
     "execution_count": 132
    }
   ],
   "source": [
    "df[df['Salary'] > 56000]"
   ]
  },
  {
   "cell_type": "code",
   "execution_count": 137,
   "metadata": {},
   "outputs": [
    {
     "output_type": "execute_result",
     "data": {
      "text/plain": [
       "1       63600\n",
       "3       85600\n",
       "4       68400\n",
       "7       68400\n",
       "9       80700\n",
       "        ...  \n",
       "989    102700\n",
       "990    123800\n",
       "992    101700\n",
       "993     99200\n",
       "998     79000\n",
       "Name: Salary, Length: 465, dtype: int64"
      ]
     },
     "metadata": {},
     "execution_count": 137
    }
   ],
   "source": [
    "df[df['Salary'] > 56000]['Salary']"
   ]
  },
  {
   "cell_type": "code",
   "execution_count": 138,
   "metadata": {},
   "outputs": [
    {
     "output_type": "execute_result",
     "data": {
      "text/plain": [
       "        Age  Gender\n",
       "1    Middle    Male\n",
       "3    Middle    Male\n",
       "4    Middle  Female\n",
       "7    Middle    Male\n",
       "9       Old    Male\n",
       "..      ...     ...\n",
       "989  Middle    Male\n",
       "990  Middle    Male\n",
       "992  Middle    Male\n",
       "993  Middle  Female\n",
       "998  Middle    Male\n",
       "\n",
       "[465 rows x 2 columns]"
      ],
      "text/html": "<div>\n<style scoped>\n    .dataframe tbody tr th:only-of-type {\n        vertical-align: middle;\n    }\n\n    .dataframe tbody tr th {\n        vertical-align: top;\n    }\n\n    .dataframe thead th {\n        text-align: right;\n    }\n</style>\n<table border=\"1\" class=\"dataframe\">\n  <thead>\n    <tr style=\"text-align: right;\">\n      <th></th>\n      <th>Age</th>\n      <th>Gender</th>\n    </tr>\n  </thead>\n  <tbody>\n    <tr>\n      <th>1</th>\n      <td>Middle</td>\n      <td>Male</td>\n    </tr>\n    <tr>\n      <th>3</th>\n      <td>Middle</td>\n      <td>Male</td>\n    </tr>\n    <tr>\n      <th>4</th>\n      <td>Middle</td>\n      <td>Female</td>\n    </tr>\n    <tr>\n      <th>7</th>\n      <td>Middle</td>\n      <td>Male</td>\n    </tr>\n    <tr>\n      <th>9</th>\n      <td>Old</td>\n      <td>Male</td>\n    </tr>\n    <tr>\n      <th>...</th>\n      <td>...</td>\n      <td>...</td>\n    </tr>\n    <tr>\n      <th>989</th>\n      <td>Middle</td>\n      <td>Male</td>\n    </tr>\n    <tr>\n      <th>990</th>\n      <td>Middle</td>\n      <td>Male</td>\n    </tr>\n    <tr>\n      <th>992</th>\n      <td>Middle</td>\n      <td>Male</td>\n    </tr>\n    <tr>\n      <th>993</th>\n      <td>Middle</td>\n      <td>Female</td>\n    </tr>\n    <tr>\n      <th>998</th>\n      <td>Middle</td>\n      <td>Male</td>\n    </tr>\n  </tbody>\n</table>\n<p>465 rows × 2 columns</p>\n</div>"
     },
     "metadata": {},
     "execution_count": 138
    }
   ],
   "source": [
    "df[df['Salary'] > 56000][['Age','Gender']]"
   ]
  },
  {
   "source": [
    "# rows where age is middle"
   ],
   "cell_type": "markdown",
   "metadata": {}
  },
  {
   "source": [
    "SELECT COUNT(Age) WHERE Age = Middle;"
   ],
   "cell_type": "markdown",
   "metadata": {}
  },
  {
   "cell_type": "code",
   "execution_count": 140,
   "metadata": {},
   "outputs": [
    {
     "output_type": "execute_result",
     "data": {
      "text/plain": [
       "508"
      ]
     },
     "metadata": {},
     "execution_count": 140
    }
   ],
   "source": [
    "(df['Age'] == 'Middle').sum()"
   ]
  },
  {
   "cell_type": "code",
   "execution_count": 142,
   "metadata": {},
   "outputs": [
    {
     "output_type": "execute_result",
     "data": {
      "text/plain": [
       "508"
      ]
     },
     "metadata": {},
     "execution_count": 142
    }
   ],
   "source": [
    "df[df['Age'] == 'Middle']['Age'].count()"
   ]
  },
  {
   "source": [
    "SELECT Age, Salary FROM table \n",
    "WHERE Age = Old AND Salary > 56000 "
   ],
   "cell_type": "markdown",
   "metadata": {}
  },
  {
   "cell_type": "code",
   "execution_count": 144,
   "metadata": {},
   "outputs": [],
   "source": [
    "# the customer is old and salary greater than 56000"
   ]
  },
  {
   "cell_type": "code",
   "execution_count": 143,
   "metadata": {},
   "outputs": [
    {
     "output_type": "execute_result",
     "data": {
      "text/plain": [
       "     Age  Gender OwnHome  Married Location  Salary  Children History  \\\n",
       "9    Old    Male     Own  Married      Far   80700         0     NaN   \n",
       "14   Old  Female     Own  Married      Far  110000         0    High   \n",
       "16   Old  Female     Own  Married    Close   82800         0    High   \n",
       "22   Old  Female    Rent  Married      Far   60200         0    High   \n",
       "43   Old  Female    Rent  Married      Far   81500         0    High   \n",
       "..   ...     ...     ...      ...      ...     ...       ...     ...   \n",
       "960  Old    Male     Own   Single    Close   71300         0    High   \n",
       "966  Old    Male    Rent  Married    Close   71800         0    High   \n",
       "984  Old    Male    Rent  Married      Far   66200         0    High   \n",
       "986  Old    Male     Own   Single    Close   63200         0    High   \n",
       "987  Old    Male     Own  Married      Far  112900         0    High   \n",
       "\n",
       "     Catalogs  AmountSpent  Cust_Id  \n",
       "9          18         3034      475  \n",
       "14         24         5564      477  \n",
       "16         24         3010      160  \n",
       "22         18         2328     1221  \n",
       "43         18         3655     1010  \n",
       "..        ...          ...      ...  \n",
       "960        18         1543     1024  \n",
       "966        12         1389     1173  \n",
       "984        24         2057      799  \n",
       "986        24         1507      331  \n",
       "987        24         6217      975  \n",
       "\n",
       "[99 rows x 11 columns]"
      ],
      "text/html": "<div>\n<style scoped>\n    .dataframe tbody tr th:only-of-type {\n        vertical-align: middle;\n    }\n\n    .dataframe tbody tr th {\n        vertical-align: top;\n    }\n\n    .dataframe thead th {\n        text-align: right;\n    }\n</style>\n<table border=\"1\" class=\"dataframe\">\n  <thead>\n    <tr style=\"text-align: right;\">\n      <th></th>\n      <th>Age</th>\n      <th>Gender</th>\n      <th>OwnHome</th>\n      <th>Married</th>\n      <th>Location</th>\n      <th>Salary</th>\n      <th>Children</th>\n      <th>History</th>\n      <th>Catalogs</th>\n      <th>AmountSpent</th>\n      <th>Cust_Id</th>\n    </tr>\n  </thead>\n  <tbody>\n    <tr>\n      <th>9</th>\n      <td>Old</td>\n      <td>Male</td>\n      <td>Own</td>\n      <td>Married</td>\n      <td>Far</td>\n      <td>80700</td>\n      <td>0</td>\n      <td>NaN</td>\n      <td>18</td>\n      <td>3034</td>\n      <td>475</td>\n    </tr>\n    <tr>\n      <th>14</th>\n      <td>Old</td>\n      <td>Female</td>\n      <td>Own</td>\n      <td>Married</td>\n      <td>Far</td>\n      <td>110000</td>\n      <td>0</td>\n      <td>High</td>\n      <td>24</td>\n      <td>5564</td>\n      <td>477</td>\n    </tr>\n    <tr>\n      <th>16</th>\n      <td>Old</td>\n      <td>Female</td>\n      <td>Own</td>\n      <td>Married</td>\n      <td>Close</td>\n      <td>82800</td>\n      <td>0</td>\n      <td>High</td>\n      <td>24</td>\n      <td>3010</td>\n      <td>160</td>\n    </tr>\n    <tr>\n      <th>22</th>\n      <td>Old</td>\n      <td>Female</td>\n      <td>Rent</td>\n      <td>Married</td>\n      <td>Far</td>\n      <td>60200</td>\n      <td>0</td>\n      <td>High</td>\n      <td>18</td>\n      <td>2328</td>\n      <td>1221</td>\n    </tr>\n    <tr>\n      <th>43</th>\n      <td>Old</td>\n      <td>Female</td>\n      <td>Rent</td>\n      <td>Married</td>\n      <td>Far</td>\n      <td>81500</td>\n      <td>0</td>\n      <td>High</td>\n      <td>18</td>\n      <td>3655</td>\n      <td>1010</td>\n    </tr>\n    <tr>\n      <th>...</th>\n      <td>...</td>\n      <td>...</td>\n      <td>...</td>\n      <td>...</td>\n      <td>...</td>\n      <td>...</td>\n      <td>...</td>\n      <td>...</td>\n      <td>...</td>\n      <td>...</td>\n      <td>...</td>\n    </tr>\n    <tr>\n      <th>960</th>\n      <td>Old</td>\n      <td>Male</td>\n      <td>Own</td>\n      <td>Single</td>\n      <td>Close</td>\n      <td>71300</td>\n      <td>0</td>\n      <td>High</td>\n      <td>18</td>\n      <td>1543</td>\n      <td>1024</td>\n    </tr>\n    <tr>\n      <th>966</th>\n      <td>Old</td>\n      <td>Male</td>\n      <td>Rent</td>\n      <td>Married</td>\n      <td>Close</td>\n      <td>71800</td>\n      <td>0</td>\n      <td>High</td>\n      <td>12</td>\n      <td>1389</td>\n      <td>1173</td>\n    </tr>\n    <tr>\n      <th>984</th>\n      <td>Old</td>\n      <td>Male</td>\n      <td>Rent</td>\n      <td>Married</td>\n      <td>Far</td>\n      <td>66200</td>\n      <td>0</td>\n      <td>High</td>\n      <td>24</td>\n      <td>2057</td>\n      <td>799</td>\n    </tr>\n    <tr>\n      <th>986</th>\n      <td>Old</td>\n      <td>Male</td>\n      <td>Own</td>\n      <td>Single</td>\n      <td>Close</td>\n      <td>63200</td>\n      <td>0</td>\n      <td>High</td>\n      <td>24</td>\n      <td>1507</td>\n      <td>331</td>\n    </tr>\n    <tr>\n      <th>987</th>\n      <td>Old</td>\n      <td>Male</td>\n      <td>Own</td>\n      <td>Married</td>\n      <td>Far</td>\n      <td>112900</td>\n      <td>0</td>\n      <td>High</td>\n      <td>24</td>\n      <td>6217</td>\n      <td>975</td>\n    </tr>\n  </tbody>\n</table>\n<p>99 rows × 11 columns</p>\n</div>"
     },
     "metadata": {},
     "execution_count": 143
    }
   ],
   "source": [
    "df[(df['Age'] == \"Old\") & (df['Salary'] > 56000)]"
   ]
  },
  {
   "cell_type": "code",
   "execution_count": 153,
   "metadata": {},
   "outputs": [
    {
     "output_type": "execute_result",
     "data": {
      "text/plain": [
       "82800"
      ]
     },
     "metadata": {},
     "execution_count": 153
    }
   ],
   "source": [
    "df[df['Married'] == 'Single']['Salary'].max()"
   ]
  },
  {
   "source": [
    "# mean salary of female and male customers"
   ],
   "cell_type": "markdown",
   "metadata": {}
  },
  {
   "cell_type": "code",
   "execution_count": 159,
   "metadata": {},
   "outputs": [
    {
     "output_type": "execute_result",
     "data": {
      "text/plain": [
       "48197.43083003953"
      ]
     },
     "metadata": {},
     "execution_count": 159
    }
   ],
   "source": [
    "df[df['Gender'] == \"Female\"]['Salary'].mean()"
   ]
  },
  {
   "cell_type": "code",
   "execution_count": 161,
   "metadata": {},
   "outputs": [
    {
     "output_type": "execute_result",
     "data": {
      "text/plain": [
       "135700"
      ]
     },
     "metadata": {},
     "execution_count": 161
    }
   ],
   "source": [
    "df[df['Gender'] == \"Female\"]['Salary'].max()"
   ]
  },
  {
   "cell_type": "code",
   "execution_count": 160,
   "metadata": {},
   "outputs": [
    {
     "output_type": "execute_result",
     "data": {
      "text/plain": [
       "64202.42914979757"
      ]
     },
     "metadata": {},
     "execution_count": 160
    }
   ],
   "source": [
    "df[df['Gender'] == \"Male\"]['Salary'].mean()\n"
   ]
  },
  {
   "cell_type": "code",
   "execution_count": 162,
   "metadata": {},
   "outputs": [
    {
     "output_type": "execute_result",
     "data": {
      "text/plain": [
       "168800"
      ]
     },
     "metadata": {},
     "execution_count": 162
    }
   ],
   "source": [
    "df[df['Gender'] == \"Male\"]['Salary'].max()\n"
   ]
  },
  {
   "source": [
    "# What is the mean salary of customers with atleast one childresn"
   ],
   "cell_type": "markdown",
   "metadata": {}
  },
  {
   "cell_type": "code",
   "execution_count": 168,
   "metadata": {},
   "outputs": [
    {
     "output_type": "execute_result",
     "data": {
      "text/plain": [
       "33228.089887640446"
      ]
     },
     "metadata": {},
     "execution_count": 168
    }
   ],
   "source": [
    "\n",
    "\n",
    "df[(df['Children'] >= 1) & (df['Married'] == 'Single')]['Salary'].mean()"
   ]
  },
  {
   "source": [
    "SELECT AVG(SALARY) WHERE Children > 1 AND Married = 'Single';"
   ],
   "cell_type": "markdown",
   "metadata": {}
  },
  {
   "source": [
    "# what percentage of rented customers are single"
   ],
   "cell_type": "markdown",
   "metadata": {}
  },
  {
   "cell_type": "code",
   "execution_count": 180,
   "metadata": {},
   "outputs": [
    {
     "output_type": "execute_result",
     "data": {
      "text/plain": [
       "30.7"
      ]
     },
     "metadata": {},
     "execution_count": 180
    }
   ],
   "source": [
    "(df[(df['OwnHome'] == 'Rent') & (df['Married'] == 'Single')].shape[0]/df.shape[0]) * 100"
   ]
  },
  {
   "cell_type": "code",
   "execution_count": 190,
   "metadata": {},
   "outputs": [
    {
     "output_type": "execute_result",
     "data": {
      "text/plain": [
       "Rent    1.0\n",
       "Name: OwnHome, dtype: float64"
      ]
     },
     "metadata": {},
     "execution_count": 190
    }
   ],
   "source": [
    "df[(df['OwnHome'] == 'Rent') & (df['Married'] == 'Single')]['OwnHome'].value_counts(normalize=True)"
   ]
  },
  {
   "source": [
    "\n",
    "\n",
    "\n",
    "# PANDAS DAY TWO "
   ],
   "cell_type": "markdown",
   "metadata": {}
  },
  {
   "cell_type": "code",
   "execution_count": 52,
   "metadata": {},
   "outputs": [],
   "source": [
    "import pandas as pd \n",
    "import numpy as np\n",
    "df = pd.read_csv(r'dm.csv')"
   ]
  },
  {
   "cell_type": "code",
   "execution_count": 53,
   "metadata": {},
   "outputs": [
    {
     "output_type": "execute_result",
     "data": {
      "text/plain": [
       "        Age  Gender OwnHome  Married Location  Salary  Children History  \\\n",
       "0       Old  Female     Own   Single      Far   47500         0    High   \n",
       "1    Middle    Male    Rent   Single    Close   63600         0    High   \n",
       "2     Young  Female    Rent   Single    Close   13500         0     Low   \n",
       "3    Middle    Male     Own  Married    Close   85600         1    High   \n",
       "4    Middle  Female     Own   Single    Close   68400         0    High   \n",
       "..      ...     ...     ...      ...      ...     ...       ...     ...   \n",
       "995   Young  Female    Rent   Single    Close   19400         1     NaN   \n",
       "996  Middle    Male    Rent   Single      Far   40500         1     NaN   \n",
       "997     Old    Male     Own   Single    Close   44800         0  Medium   \n",
       "998  Middle    Male     Own  Married    Close   79000         2  Medium   \n",
       "999   Young    Male    Rent  Married    Close   53600         1  Medium   \n",
       "\n",
       "     Catalogs  AmountSpent  Cust_Id  \n",
       "0           6          755      247  \n",
       "1           6         1318      127  \n",
       "2          18          296      479  \n",
       "3          18         2436      475  \n",
       "4          12         1304      151  \n",
       "..        ...          ...      ...  \n",
       "995        18          384      190  \n",
       "996        18         1073      510  \n",
       "997        24         1417      725  \n",
       "998        18          671     1034  \n",
       "999        24          973     1203  \n",
       "\n",
       "[1000 rows x 11 columns]"
      ],
      "text/html": "<div>\n<style scoped>\n    .dataframe tbody tr th:only-of-type {\n        vertical-align: middle;\n    }\n\n    .dataframe tbody tr th {\n        vertical-align: top;\n    }\n\n    .dataframe thead th {\n        text-align: right;\n    }\n</style>\n<table border=\"1\" class=\"dataframe\">\n  <thead>\n    <tr style=\"text-align: right;\">\n      <th></th>\n      <th>Age</th>\n      <th>Gender</th>\n      <th>OwnHome</th>\n      <th>Married</th>\n      <th>Location</th>\n      <th>Salary</th>\n      <th>Children</th>\n      <th>History</th>\n      <th>Catalogs</th>\n      <th>AmountSpent</th>\n      <th>Cust_Id</th>\n    </tr>\n  </thead>\n  <tbody>\n    <tr>\n      <th>0</th>\n      <td>Old</td>\n      <td>Female</td>\n      <td>Own</td>\n      <td>Single</td>\n      <td>Far</td>\n      <td>47500</td>\n      <td>0</td>\n      <td>High</td>\n      <td>6</td>\n      <td>755</td>\n      <td>247</td>\n    </tr>\n    <tr>\n      <th>1</th>\n      <td>Middle</td>\n      <td>Male</td>\n      <td>Rent</td>\n      <td>Single</td>\n      <td>Close</td>\n      <td>63600</td>\n      <td>0</td>\n      <td>High</td>\n      <td>6</td>\n      <td>1318</td>\n      <td>127</td>\n    </tr>\n    <tr>\n      <th>2</th>\n      <td>Young</td>\n      <td>Female</td>\n      <td>Rent</td>\n      <td>Single</td>\n      <td>Close</td>\n      <td>13500</td>\n      <td>0</td>\n      <td>Low</td>\n      <td>18</td>\n      <td>296</td>\n      <td>479</td>\n    </tr>\n    <tr>\n      <th>3</th>\n      <td>Middle</td>\n      <td>Male</td>\n      <td>Own</td>\n      <td>Married</td>\n      <td>Close</td>\n      <td>85600</td>\n      <td>1</td>\n      <td>High</td>\n      <td>18</td>\n      <td>2436</td>\n      <td>475</td>\n    </tr>\n    <tr>\n      <th>4</th>\n      <td>Middle</td>\n      <td>Female</td>\n      <td>Own</td>\n      <td>Single</td>\n      <td>Close</td>\n      <td>68400</td>\n      <td>0</td>\n      <td>High</td>\n      <td>12</td>\n      <td>1304</td>\n      <td>151</td>\n    </tr>\n    <tr>\n      <th>...</th>\n      <td>...</td>\n      <td>...</td>\n      <td>...</td>\n      <td>...</td>\n      <td>...</td>\n      <td>...</td>\n      <td>...</td>\n      <td>...</td>\n      <td>...</td>\n      <td>...</td>\n      <td>...</td>\n    </tr>\n    <tr>\n      <th>995</th>\n      <td>Young</td>\n      <td>Female</td>\n      <td>Rent</td>\n      <td>Single</td>\n      <td>Close</td>\n      <td>19400</td>\n      <td>1</td>\n      <td>NaN</td>\n      <td>18</td>\n      <td>384</td>\n      <td>190</td>\n    </tr>\n    <tr>\n      <th>996</th>\n      <td>Middle</td>\n      <td>Male</td>\n      <td>Rent</td>\n      <td>Single</td>\n      <td>Far</td>\n      <td>40500</td>\n      <td>1</td>\n      <td>NaN</td>\n      <td>18</td>\n      <td>1073</td>\n      <td>510</td>\n    </tr>\n    <tr>\n      <th>997</th>\n      <td>Old</td>\n      <td>Male</td>\n      <td>Own</td>\n      <td>Single</td>\n      <td>Close</td>\n      <td>44800</td>\n      <td>0</td>\n      <td>Medium</td>\n      <td>24</td>\n      <td>1417</td>\n      <td>725</td>\n    </tr>\n    <tr>\n      <th>998</th>\n      <td>Middle</td>\n      <td>Male</td>\n      <td>Own</td>\n      <td>Married</td>\n      <td>Close</td>\n      <td>79000</td>\n      <td>2</td>\n      <td>Medium</td>\n      <td>18</td>\n      <td>671</td>\n      <td>1034</td>\n    </tr>\n    <tr>\n      <th>999</th>\n      <td>Young</td>\n      <td>Male</td>\n      <td>Rent</td>\n      <td>Married</td>\n      <td>Close</td>\n      <td>53600</td>\n      <td>1</td>\n      <td>Medium</td>\n      <td>24</td>\n      <td>973</td>\n      <td>1203</td>\n    </tr>\n  </tbody>\n</table>\n<p>1000 rows × 11 columns</p>\n</div>"
     },
     "metadata": {},
     "execution_count": 53
    }
   ],
   "source": [
    "df"
   ]
  },
  {
   "source": [
    "# using the log function to find the log of the salary"
   ],
   "cell_type": "markdown",
   "metadata": {}
  },
  {
   "cell_type": "code",
   "execution_count": 54,
   "metadata": {},
   "outputs": [],
   "source": [
    "df['log_salary'] = np.log(df['Salary'])"
   ]
  },
  {
   "cell_type": "code",
   "execution_count": 55,
   "metadata": {},
   "outputs": [
    {
     "output_type": "execute_result",
     "data": {
      "text/plain": [
       "0      10.768485\n",
       "1      11.060369\n",
       "2       9.510445\n",
       "3      11.357441\n",
       "4      11.133128\n",
       "         ...    \n",
       "995     9.873028\n",
       "996    10.609057\n",
       "997    10.709963\n",
       "998    11.277203\n",
       "999    10.889304\n",
       "Name: log_salary, Length: 1000, dtype: float64"
      ]
     },
     "metadata": {},
     "execution_count": 55
    }
   ],
   "source": [
    "df.log_salary"
   ]
  },
  {
   "source": [
    "# dropping the columns"
   ],
   "cell_type": "markdown",
   "metadata": {}
  },
  {
   "cell_type": "code",
   "execution_count": 56,
   "metadata": {},
   "outputs": [
    {
     "output_type": "execute_result",
     "data": {
      "text/plain": [
       "        Age  Gender OwnHome  Married Location  Salary  Children History  \\\n",
       "0       Old  Female     Own   Single      Far   47500         0    High   \n",
       "1    Middle    Male    Rent   Single    Close   63600         0    High   \n",
       "2     Young  Female    Rent   Single    Close   13500         0     Low   \n",
       "3    Middle    Male     Own  Married    Close   85600         1    High   \n",
       "4    Middle  Female     Own   Single    Close   68400         0    High   \n",
       "..      ...     ...     ...      ...      ...     ...       ...     ...   \n",
       "995   Young  Female    Rent   Single    Close   19400         1     NaN   \n",
       "996  Middle    Male    Rent   Single      Far   40500         1     NaN   \n",
       "997     Old    Male     Own   Single    Close   44800         0  Medium   \n",
       "998  Middle    Male     Own  Married    Close   79000         2  Medium   \n",
       "999   Young    Male    Rent  Married    Close   53600         1  Medium   \n",
       "\n",
       "     Catalogs  AmountSpent  Cust_Id  \n",
       "0           6          755      247  \n",
       "1           6         1318      127  \n",
       "2          18          296      479  \n",
       "3          18         2436      475  \n",
       "4          12         1304      151  \n",
       "..        ...          ...      ...  \n",
       "995        18          384      190  \n",
       "996        18         1073      510  \n",
       "997        24         1417      725  \n",
       "998        18          671     1034  \n",
       "999        24          973     1203  \n",
       "\n",
       "[1000 rows x 11 columns]"
      ],
      "text/html": "<div>\n<style scoped>\n    .dataframe tbody tr th:only-of-type {\n        vertical-align: middle;\n    }\n\n    .dataframe tbody tr th {\n        vertical-align: top;\n    }\n\n    .dataframe thead th {\n        text-align: right;\n    }\n</style>\n<table border=\"1\" class=\"dataframe\">\n  <thead>\n    <tr style=\"text-align: right;\">\n      <th></th>\n      <th>Age</th>\n      <th>Gender</th>\n      <th>OwnHome</th>\n      <th>Married</th>\n      <th>Location</th>\n      <th>Salary</th>\n      <th>Children</th>\n      <th>History</th>\n      <th>Catalogs</th>\n      <th>AmountSpent</th>\n      <th>Cust_Id</th>\n    </tr>\n  </thead>\n  <tbody>\n    <tr>\n      <th>0</th>\n      <td>Old</td>\n      <td>Female</td>\n      <td>Own</td>\n      <td>Single</td>\n      <td>Far</td>\n      <td>47500</td>\n      <td>0</td>\n      <td>High</td>\n      <td>6</td>\n      <td>755</td>\n      <td>247</td>\n    </tr>\n    <tr>\n      <th>1</th>\n      <td>Middle</td>\n      <td>Male</td>\n      <td>Rent</td>\n      <td>Single</td>\n      <td>Close</td>\n      <td>63600</td>\n      <td>0</td>\n      <td>High</td>\n      <td>6</td>\n      <td>1318</td>\n      <td>127</td>\n    </tr>\n    <tr>\n      <th>2</th>\n      <td>Young</td>\n      <td>Female</td>\n      <td>Rent</td>\n      <td>Single</td>\n      <td>Close</td>\n      <td>13500</td>\n      <td>0</td>\n      <td>Low</td>\n      <td>18</td>\n      <td>296</td>\n      <td>479</td>\n    </tr>\n    <tr>\n      <th>3</th>\n      <td>Middle</td>\n      <td>Male</td>\n      <td>Own</td>\n      <td>Married</td>\n      <td>Close</td>\n      <td>85600</td>\n      <td>1</td>\n      <td>High</td>\n      <td>18</td>\n      <td>2436</td>\n      <td>475</td>\n    </tr>\n    <tr>\n      <th>4</th>\n      <td>Middle</td>\n      <td>Female</td>\n      <td>Own</td>\n      <td>Single</td>\n      <td>Close</td>\n      <td>68400</td>\n      <td>0</td>\n      <td>High</td>\n      <td>12</td>\n      <td>1304</td>\n      <td>151</td>\n    </tr>\n    <tr>\n      <th>...</th>\n      <td>...</td>\n      <td>...</td>\n      <td>...</td>\n      <td>...</td>\n      <td>...</td>\n      <td>...</td>\n      <td>...</td>\n      <td>...</td>\n      <td>...</td>\n      <td>...</td>\n      <td>...</td>\n    </tr>\n    <tr>\n      <th>995</th>\n      <td>Young</td>\n      <td>Female</td>\n      <td>Rent</td>\n      <td>Single</td>\n      <td>Close</td>\n      <td>19400</td>\n      <td>1</td>\n      <td>NaN</td>\n      <td>18</td>\n      <td>384</td>\n      <td>190</td>\n    </tr>\n    <tr>\n      <th>996</th>\n      <td>Middle</td>\n      <td>Male</td>\n      <td>Rent</td>\n      <td>Single</td>\n      <td>Far</td>\n      <td>40500</td>\n      <td>1</td>\n      <td>NaN</td>\n      <td>18</td>\n      <td>1073</td>\n      <td>510</td>\n    </tr>\n    <tr>\n      <th>997</th>\n      <td>Old</td>\n      <td>Male</td>\n      <td>Own</td>\n      <td>Single</td>\n      <td>Close</td>\n      <td>44800</td>\n      <td>0</td>\n      <td>Medium</td>\n      <td>24</td>\n      <td>1417</td>\n      <td>725</td>\n    </tr>\n    <tr>\n      <th>998</th>\n      <td>Middle</td>\n      <td>Male</td>\n      <td>Own</td>\n      <td>Married</td>\n      <td>Close</td>\n      <td>79000</td>\n      <td>2</td>\n      <td>Medium</td>\n      <td>18</td>\n      <td>671</td>\n      <td>1034</td>\n    </tr>\n    <tr>\n      <th>999</th>\n      <td>Young</td>\n      <td>Male</td>\n      <td>Rent</td>\n      <td>Married</td>\n      <td>Close</td>\n      <td>53600</td>\n      <td>1</td>\n      <td>Medium</td>\n      <td>24</td>\n      <td>973</td>\n      <td>1203</td>\n    </tr>\n  </tbody>\n</table>\n<p>1000 rows × 11 columns</p>\n</div>"
     },
     "metadata": {},
     "execution_count": 56
    }
   ],
   "source": [
    "df.drop(columns='log_salary')"
   ]
  },
  {
   "source": [
    "# dropping columns inplace "
   ],
   "cell_type": "markdown",
   "metadata": {}
  },
  {
   "cell_type": "code",
   "execution_count": 57,
   "metadata": {},
   "outputs": [],
   "source": [
    "df.drop('log_salary', axis=1, inplace=True)"
   ]
  },
  {
   "cell_type": "code",
   "execution_count": 58,
   "metadata": {},
   "outputs": [
    {
     "output_type": "execute_result",
     "data": {
      "text/plain": [
       "        Age  Gender OwnHome  Married Location  Salary  Children History  \\\n",
       "0       Old  Female     Own   Single      Far   47500         0    High   \n",
       "1    Middle    Male    Rent   Single    Close   63600         0    High   \n",
       "2     Young  Female    Rent   Single    Close   13500         0     Low   \n",
       "3    Middle    Male     Own  Married    Close   85600         1    High   \n",
       "4    Middle  Female     Own   Single    Close   68400         0    High   \n",
       "..      ...     ...     ...      ...      ...     ...       ...     ...   \n",
       "995   Young  Female    Rent   Single    Close   19400         1     NaN   \n",
       "996  Middle    Male    Rent   Single      Far   40500         1     NaN   \n",
       "997     Old    Male     Own   Single    Close   44800         0  Medium   \n",
       "998  Middle    Male     Own  Married    Close   79000         2  Medium   \n",
       "999   Young    Male    Rent  Married    Close   53600         1  Medium   \n",
       "\n",
       "     Catalogs  AmountSpent  Cust_Id  \n",
       "0           6          755      247  \n",
       "1           6         1318      127  \n",
       "2          18          296      479  \n",
       "3          18         2436      475  \n",
       "4          12         1304      151  \n",
       "..        ...          ...      ...  \n",
       "995        18          384      190  \n",
       "996        18         1073      510  \n",
       "997        24         1417      725  \n",
       "998        18          671     1034  \n",
       "999        24          973     1203  \n",
       "\n",
       "[1000 rows x 11 columns]"
      ],
      "text/html": "<div>\n<style scoped>\n    .dataframe tbody tr th:only-of-type {\n        vertical-align: middle;\n    }\n\n    .dataframe tbody tr th {\n        vertical-align: top;\n    }\n\n    .dataframe thead th {\n        text-align: right;\n    }\n</style>\n<table border=\"1\" class=\"dataframe\">\n  <thead>\n    <tr style=\"text-align: right;\">\n      <th></th>\n      <th>Age</th>\n      <th>Gender</th>\n      <th>OwnHome</th>\n      <th>Married</th>\n      <th>Location</th>\n      <th>Salary</th>\n      <th>Children</th>\n      <th>History</th>\n      <th>Catalogs</th>\n      <th>AmountSpent</th>\n      <th>Cust_Id</th>\n    </tr>\n  </thead>\n  <tbody>\n    <tr>\n      <th>0</th>\n      <td>Old</td>\n      <td>Female</td>\n      <td>Own</td>\n      <td>Single</td>\n      <td>Far</td>\n      <td>47500</td>\n      <td>0</td>\n      <td>High</td>\n      <td>6</td>\n      <td>755</td>\n      <td>247</td>\n    </tr>\n    <tr>\n      <th>1</th>\n      <td>Middle</td>\n      <td>Male</td>\n      <td>Rent</td>\n      <td>Single</td>\n      <td>Close</td>\n      <td>63600</td>\n      <td>0</td>\n      <td>High</td>\n      <td>6</td>\n      <td>1318</td>\n      <td>127</td>\n    </tr>\n    <tr>\n      <th>2</th>\n      <td>Young</td>\n      <td>Female</td>\n      <td>Rent</td>\n      <td>Single</td>\n      <td>Close</td>\n      <td>13500</td>\n      <td>0</td>\n      <td>Low</td>\n      <td>18</td>\n      <td>296</td>\n      <td>479</td>\n    </tr>\n    <tr>\n      <th>3</th>\n      <td>Middle</td>\n      <td>Male</td>\n      <td>Own</td>\n      <td>Married</td>\n      <td>Close</td>\n      <td>85600</td>\n      <td>1</td>\n      <td>High</td>\n      <td>18</td>\n      <td>2436</td>\n      <td>475</td>\n    </tr>\n    <tr>\n      <th>4</th>\n      <td>Middle</td>\n      <td>Female</td>\n      <td>Own</td>\n      <td>Single</td>\n      <td>Close</td>\n      <td>68400</td>\n      <td>0</td>\n      <td>High</td>\n      <td>12</td>\n      <td>1304</td>\n      <td>151</td>\n    </tr>\n    <tr>\n      <th>...</th>\n      <td>...</td>\n      <td>...</td>\n      <td>...</td>\n      <td>...</td>\n      <td>...</td>\n      <td>...</td>\n      <td>...</td>\n      <td>...</td>\n      <td>...</td>\n      <td>...</td>\n      <td>...</td>\n    </tr>\n    <tr>\n      <th>995</th>\n      <td>Young</td>\n      <td>Female</td>\n      <td>Rent</td>\n      <td>Single</td>\n      <td>Close</td>\n      <td>19400</td>\n      <td>1</td>\n      <td>NaN</td>\n      <td>18</td>\n      <td>384</td>\n      <td>190</td>\n    </tr>\n    <tr>\n      <th>996</th>\n      <td>Middle</td>\n      <td>Male</td>\n      <td>Rent</td>\n      <td>Single</td>\n      <td>Far</td>\n      <td>40500</td>\n      <td>1</td>\n      <td>NaN</td>\n      <td>18</td>\n      <td>1073</td>\n      <td>510</td>\n    </tr>\n    <tr>\n      <th>997</th>\n      <td>Old</td>\n      <td>Male</td>\n      <td>Own</td>\n      <td>Single</td>\n      <td>Close</td>\n      <td>44800</td>\n      <td>0</td>\n      <td>Medium</td>\n      <td>24</td>\n      <td>1417</td>\n      <td>725</td>\n    </tr>\n    <tr>\n      <th>998</th>\n      <td>Middle</td>\n      <td>Male</td>\n      <td>Own</td>\n      <td>Married</td>\n      <td>Close</td>\n      <td>79000</td>\n      <td>2</td>\n      <td>Medium</td>\n      <td>18</td>\n      <td>671</td>\n      <td>1034</td>\n    </tr>\n    <tr>\n      <th>999</th>\n      <td>Young</td>\n      <td>Male</td>\n      <td>Rent</td>\n      <td>Married</td>\n      <td>Close</td>\n      <td>53600</td>\n      <td>1</td>\n      <td>Medium</td>\n      <td>24</td>\n      <td>973</td>\n      <td>1203</td>\n    </tr>\n  </tbody>\n</table>\n<p>1000 rows × 11 columns</p>\n</div>"
     },
     "metadata": {},
     "execution_count": 58
    }
   ],
   "source": [
    "df"
   ]
  },
  {
   "source": [
    "# axis = 1 represents the columns dropping the column Cust_Id"
   ],
   "cell_type": "markdown",
   "metadata": {}
  },
  {
   "cell_type": "code",
   "execution_count": 59,
   "metadata": {},
   "outputs": [
    {
     "output_type": "execute_result",
     "data": {
      "text/plain": [
       "        Age  Gender OwnHome  Married Location  Salary  Children History  \\\n",
       "0       Old  Female     Own   Single      Far   47500         0    High   \n",
       "1    Middle    Male    Rent   Single    Close   63600         0    High   \n",
       "2     Young  Female    Rent   Single    Close   13500         0     Low   \n",
       "3    Middle    Male     Own  Married    Close   85600         1    High   \n",
       "4    Middle  Female     Own   Single    Close   68400         0    High   \n",
       "..      ...     ...     ...      ...      ...     ...       ...     ...   \n",
       "995   Young  Female    Rent   Single    Close   19400         1     NaN   \n",
       "996  Middle    Male    Rent   Single      Far   40500         1     NaN   \n",
       "997     Old    Male     Own   Single    Close   44800         0  Medium   \n",
       "998  Middle    Male     Own  Married    Close   79000         2  Medium   \n",
       "999   Young    Male    Rent  Married    Close   53600         1  Medium   \n",
       "\n",
       "     Catalogs  AmountSpent  \n",
       "0           6          755  \n",
       "1           6         1318  \n",
       "2          18          296  \n",
       "3          18         2436  \n",
       "4          12         1304  \n",
       "..        ...          ...  \n",
       "995        18          384  \n",
       "996        18         1073  \n",
       "997        24         1417  \n",
       "998        18          671  \n",
       "999        24          973  \n",
       "\n",
       "[1000 rows x 10 columns]"
      ],
      "text/html": "<div>\n<style scoped>\n    .dataframe tbody tr th:only-of-type {\n        vertical-align: middle;\n    }\n\n    .dataframe tbody tr th {\n        vertical-align: top;\n    }\n\n    .dataframe thead th {\n        text-align: right;\n    }\n</style>\n<table border=\"1\" class=\"dataframe\">\n  <thead>\n    <tr style=\"text-align: right;\">\n      <th></th>\n      <th>Age</th>\n      <th>Gender</th>\n      <th>OwnHome</th>\n      <th>Married</th>\n      <th>Location</th>\n      <th>Salary</th>\n      <th>Children</th>\n      <th>History</th>\n      <th>Catalogs</th>\n      <th>AmountSpent</th>\n    </tr>\n  </thead>\n  <tbody>\n    <tr>\n      <th>0</th>\n      <td>Old</td>\n      <td>Female</td>\n      <td>Own</td>\n      <td>Single</td>\n      <td>Far</td>\n      <td>47500</td>\n      <td>0</td>\n      <td>High</td>\n      <td>6</td>\n      <td>755</td>\n    </tr>\n    <tr>\n      <th>1</th>\n      <td>Middle</td>\n      <td>Male</td>\n      <td>Rent</td>\n      <td>Single</td>\n      <td>Close</td>\n      <td>63600</td>\n      <td>0</td>\n      <td>High</td>\n      <td>6</td>\n      <td>1318</td>\n    </tr>\n    <tr>\n      <th>2</th>\n      <td>Young</td>\n      <td>Female</td>\n      <td>Rent</td>\n      <td>Single</td>\n      <td>Close</td>\n      <td>13500</td>\n      <td>0</td>\n      <td>Low</td>\n      <td>18</td>\n      <td>296</td>\n    </tr>\n    <tr>\n      <th>3</th>\n      <td>Middle</td>\n      <td>Male</td>\n      <td>Own</td>\n      <td>Married</td>\n      <td>Close</td>\n      <td>85600</td>\n      <td>1</td>\n      <td>High</td>\n      <td>18</td>\n      <td>2436</td>\n    </tr>\n    <tr>\n      <th>4</th>\n      <td>Middle</td>\n      <td>Female</td>\n      <td>Own</td>\n      <td>Single</td>\n      <td>Close</td>\n      <td>68400</td>\n      <td>0</td>\n      <td>High</td>\n      <td>12</td>\n      <td>1304</td>\n    </tr>\n    <tr>\n      <th>...</th>\n      <td>...</td>\n      <td>...</td>\n      <td>...</td>\n      <td>...</td>\n      <td>...</td>\n      <td>...</td>\n      <td>...</td>\n      <td>...</td>\n      <td>...</td>\n      <td>...</td>\n    </tr>\n    <tr>\n      <th>995</th>\n      <td>Young</td>\n      <td>Female</td>\n      <td>Rent</td>\n      <td>Single</td>\n      <td>Close</td>\n      <td>19400</td>\n      <td>1</td>\n      <td>NaN</td>\n      <td>18</td>\n      <td>384</td>\n    </tr>\n    <tr>\n      <th>996</th>\n      <td>Middle</td>\n      <td>Male</td>\n      <td>Rent</td>\n      <td>Single</td>\n      <td>Far</td>\n      <td>40500</td>\n      <td>1</td>\n      <td>NaN</td>\n      <td>18</td>\n      <td>1073</td>\n    </tr>\n    <tr>\n      <th>997</th>\n      <td>Old</td>\n      <td>Male</td>\n      <td>Own</td>\n      <td>Single</td>\n      <td>Close</td>\n      <td>44800</td>\n      <td>0</td>\n      <td>Medium</td>\n      <td>24</td>\n      <td>1417</td>\n    </tr>\n    <tr>\n      <th>998</th>\n      <td>Middle</td>\n      <td>Male</td>\n      <td>Own</td>\n      <td>Married</td>\n      <td>Close</td>\n      <td>79000</td>\n      <td>2</td>\n      <td>Medium</td>\n      <td>18</td>\n      <td>671</td>\n    </tr>\n    <tr>\n      <th>999</th>\n      <td>Young</td>\n      <td>Male</td>\n      <td>Rent</td>\n      <td>Married</td>\n      <td>Close</td>\n      <td>53600</td>\n      <td>1</td>\n      <td>Medium</td>\n      <td>24</td>\n      <td>973</td>\n    </tr>\n  </tbody>\n</table>\n<p>1000 rows × 10 columns</p>\n</div>"
     },
     "metadata": {},
     "execution_count": 59
    }
   ],
   "source": [
    "\n",
    "df.drop(\"Cust_Id\", axis=1)"
   ]
  },
  {
   "cell_type": "code",
   "execution_count": 60,
   "metadata": {},
   "outputs": [],
   "source": [
    "df = df.drop('Cust_Id',axis=1)\n",
    "# df.drop(\"Cust_Id\", axis = 1, inplace = True)"
   ]
  },
  {
   "cell_type": "code",
   "execution_count": 61,
   "metadata": {},
   "outputs": [
    {
     "output_type": "execute_result",
     "data": {
      "text/plain": [
       "        Age  Gender OwnHome  Married Location  Salary  Children History  \\\n",
       "0       Old  Female     Own   Single      Far   47500         0    High   \n",
       "1    Middle    Male    Rent   Single    Close   63600         0    High   \n",
       "2     Young  Female    Rent   Single    Close   13500         0     Low   \n",
       "3    Middle    Male     Own  Married    Close   85600         1    High   \n",
       "4    Middle  Female     Own   Single    Close   68400         0    High   \n",
       "..      ...     ...     ...      ...      ...     ...       ...     ...   \n",
       "995   Young  Female    Rent   Single    Close   19400         1     NaN   \n",
       "996  Middle    Male    Rent   Single      Far   40500         1     NaN   \n",
       "997     Old    Male     Own   Single    Close   44800         0  Medium   \n",
       "998  Middle    Male     Own  Married    Close   79000         2  Medium   \n",
       "999   Young    Male    Rent  Married    Close   53600         1  Medium   \n",
       "\n",
       "     Catalogs  AmountSpent  \n",
       "0           6          755  \n",
       "1           6         1318  \n",
       "2          18          296  \n",
       "3          18         2436  \n",
       "4          12         1304  \n",
       "..        ...          ...  \n",
       "995        18          384  \n",
       "996        18         1073  \n",
       "997        24         1417  \n",
       "998        18          671  \n",
       "999        24          973  \n",
       "\n",
       "[1000 rows x 10 columns]"
      ],
      "text/html": "<div>\n<style scoped>\n    .dataframe tbody tr th:only-of-type {\n        vertical-align: middle;\n    }\n\n    .dataframe tbody tr th {\n        vertical-align: top;\n    }\n\n    .dataframe thead th {\n        text-align: right;\n    }\n</style>\n<table border=\"1\" class=\"dataframe\">\n  <thead>\n    <tr style=\"text-align: right;\">\n      <th></th>\n      <th>Age</th>\n      <th>Gender</th>\n      <th>OwnHome</th>\n      <th>Married</th>\n      <th>Location</th>\n      <th>Salary</th>\n      <th>Children</th>\n      <th>History</th>\n      <th>Catalogs</th>\n      <th>AmountSpent</th>\n    </tr>\n  </thead>\n  <tbody>\n    <tr>\n      <th>0</th>\n      <td>Old</td>\n      <td>Female</td>\n      <td>Own</td>\n      <td>Single</td>\n      <td>Far</td>\n      <td>47500</td>\n      <td>0</td>\n      <td>High</td>\n      <td>6</td>\n      <td>755</td>\n    </tr>\n    <tr>\n      <th>1</th>\n      <td>Middle</td>\n      <td>Male</td>\n      <td>Rent</td>\n      <td>Single</td>\n      <td>Close</td>\n      <td>63600</td>\n      <td>0</td>\n      <td>High</td>\n      <td>6</td>\n      <td>1318</td>\n    </tr>\n    <tr>\n      <th>2</th>\n      <td>Young</td>\n      <td>Female</td>\n      <td>Rent</td>\n      <td>Single</td>\n      <td>Close</td>\n      <td>13500</td>\n      <td>0</td>\n      <td>Low</td>\n      <td>18</td>\n      <td>296</td>\n    </tr>\n    <tr>\n      <th>3</th>\n      <td>Middle</td>\n      <td>Male</td>\n      <td>Own</td>\n      <td>Married</td>\n      <td>Close</td>\n      <td>85600</td>\n      <td>1</td>\n      <td>High</td>\n      <td>18</td>\n      <td>2436</td>\n    </tr>\n    <tr>\n      <th>4</th>\n      <td>Middle</td>\n      <td>Female</td>\n      <td>Own</td>\n      <td>Single</td>\n      <td>Close</td>\n      <td>68400</td>\n      <td>0</td>\n      <td>High</td>\n      <td>12</td>\n      <td>1304</td>\n    </tr>\n    <tr>\n      <th>...</th>\n      <td>...</td>\n      <td>...</td>\n      <td>...</td>\n      <td>...</td>\n      <td>...</td>\n      <td>...</td>\n      <td>...</td>\n      <td>...</td>\n      <td>...</td>\n      <td>...</td>\n    </tr>\n    <tr>\n      <th>995</th>\n      <td>Young</td>\n      <td>Female</td>\n      <td>Rent</td>\n      <td>Single</td>\n      <td>Close</td>\n      <td>19400</td>\n      <td>1</td>\n      <td>NaN</td>\n      <td>18</td>\n      <td>384</td>\n    </tr>\n    <tr>\n      <th>996</th>\n      <td>Middle</td>\n      <td>Male</td>\n      <td>Rent</td>\n      <td>Single</td>\n      <td>Far</td>\n      <td>40500</td>\n      <td>1</td>\n      <td>NaN</td>\n      <td>18</td>\n      <td>1073</td>\n    </tr>\n    <tr>\n      <th>997</th>\n      <td>Old</td>\n      <td>Male</td>\n      <td>Own</td>\n      <td>Single</td>\n      <td>Close</td>\n      <td>44800</td>\n      <td>0</td>\n      <td>Medium</td>\n      <td>24</td>\n      <td>1417</td>\n    </tr>\n    <tr>\n      <th>998</th>\n      <td>Middle</td>\n      <td>Male</td>\n      <td>Own</td>\n      <td>Married</td>\n      <td>Close</td>\n      <td>79000</td>\n      <td>2</td>\n      <td>Medium</td>\n      <td>18</td>\n      <td>671</td>\n    </tr>\n    <tr>\n      <th>999</th>\n      <td>Young</td>\n      <td>Male</td>\n      <td>Rent</td>\n      <td>Married</td>\n      <td>Close</td>\n      <td>53600</td>\n      <td>1</td>\n      <td>Medium</td>\n      <td>24</td>\n      <td>973</td>\n    </tr>\n  </tbody>\n</table>\n<p>1000 rows × 10 columns</p>\n</div>"
     },
     "metadata": {},
     "execution_count": 61
    }
   ],
   "source": [
    "df"
   ]
  },
  {
   "source": [
    "# getting the first row from column age"
   ],
   "cell_type": "markdown",
   "metadata": {}
  },
  {
   "cell_type": "code",
   "execution_count": 63,
   "metadata": {},
   "outputs": [
    {
     "output_type": "execute_result",
     "data": {
      "text/plain": [
       "'Middle'"
      ]
     },
     "metadata": {},
     "execution_count": 63
    }
   ],
   "source": [
    "df.loc[1,\"Age\"]"
   ]
  },
  {
   "source": [
    "# get first row from columns age and gender"
   ],
   "cell_type": "markdown",
   "metadata": {}
  },
  {
   "cell_type": "code",
   "execution_count": 64,
   "metadata": {},
   "outputs": [
    {
     "output_type": "execute_result",
     "data": {
      "text/plain": [
       "Age       Middle\n",
       "Gender      Male\n",
       "Name: 1, dtype: object"
      ]
     },
     "metadata": {},
     "execution_count": 64
    }
   ],
   "source": [
    "df.loc[1,['Age','Gender']]"
   ]
  },
  {
   "source": [
    "# get first rows and all the columns "
   ],
   "cell_type": "markdown",
   "metadata": {}
  },
  {
   "cell_type": "code",
   "execution_count": 65,
   "metadata": {},
   "outputs": [
    {
     "output_type": "execute_result",
     "data": {
      "text/plain": [
       "Age            Middle\n",
       "Gender           Male\n",
       "OwnHome          Rent\n",
       "Married        Single\n",
       "Location        Close\n",
       "Salary          63600\n",
       "Children            0\n",
       "History          High\n",
       "Catalogs            6\n",
       "AmountSpent      1318\n",
       "Name: 1, dtype: object"
      ]
     },
     "metadata": {},
     "execution_count": 65
    }
   ],
   "source": [
    "df.loc[1,:]"
   ]
  },
  {
   "source": [
    "# using the integers for referencing the columns throws and value error"
   ],
   "cell_type": "markdown",
   "metadata": {}
  },
  {
   "cell_type": "code",
   "execution_count": 66,
   "metadata": {},
   "outputs": [
    {
     "output_type": "error",
     "ename": "KeyError",
     "evalue": "3",
     "traceback": [
      "\u001b[1;31m---------------------------------------------------------------------------\u001b[0m",
      "\u001b[1;31mKeyError\u001b[0m                                  Traceback (most recent call last)",
      "\u001b[1;32m~\\anaconda3\\envs\\tf_2.4\\lib\\site-packages\\pandas\\core\\indexes\\base.py\u001b[0m in \u001b[0;36mget_loc\u001b[1;34m(self, key, method, tolerance)\u001b[0m\n\u001b[0;32m   3079\u001b[0m             \u001b[1;32mtry\u001b[0m\u001b[1;33m:\u001b[0m\u001b[1;33m\u001b[0m\u001b[1;33m\u001b[0m\u001b[0m\n\u001b[1;32m-> 3080\u001b[1;33m                 \u001b[1;32mreturn\u001b[0m \u001b[0mself\u001b[0m\u001b[1;33m.\u001b[0m\u001b[0m_engine\u001b[0m\u001b[1;33m.\u001b[0m\u001b[0mget_loc\u001b[0m\u001b[1;33m(\u001b[0m\u001b[0mcasted_key\u001b[0m\u001b[1;33m)\u001b[0m\u001b[1;33m\u001b[0m\u001b[1;33m\u001b[0m\u001b[0m\n\u001b[0m\u001b[0;32m   3081\u001b[0m             \u001b[1;32mexcept\u001b[0m \u001b[0mKeyError\u001b[0m \u001b[1;32mas\u001b[0m \u001b[0merr\u001b[0m\u001b[1;33m:\u001b[0m\u001b[1;33m\u001b[0m\u001b[1;33m\u001b[0m\u001b[0m\n",
      "\u001b[1;32mpandas\\_libs\\index.pyx\u001b[0m in \u001b[0;36mpandas._libs.index.IndexEngine.get_loc\u001b[1;34m()\u001b[0m\n",
      "\u001b[1;32mpandas\\_libs\\index.pyx\u001b[0m in \u001b[0;36mpandas._libs.index.IndexEngine.get_loc\u001b[1;34m()\u001b[0m\n",
      "\u001b[1;32mpandas\\_libs\\hashtable_class_helper.pxi\u001b[0m in \u001b[0;36mpandas._libs.hashtable.PyObjectHashTable.get_item\u001b[1;34m()\u001b[0m\n",
      "\u001b[1;32mpandas\\_libs\\hashtable_class_helper.pxi\u001b[0m in \u001b[0;36mpandas._libs.hashtable.PyObjectHashTable.get_item\u001b[1;34m()\u001b[0m\n",
      "\u001b[1;31mKeyError\u001b[0m: 3",
      "\nThe above exception was the direct cause of the following exception:\n",
      "\u001b[1;31mKeyError\u001b[0m                                  Traceback (most recent call last)",
      "\u001b[1;32m<ipython-input-66-81275039aa77>\u001b[0m in \u001b[0;36m<module>\u001b[1;34m\u001b[0m\n\u001b[1;32m----> 1\u001b[1;33m \u001b[0mdf\u001b[0m\u001b[1;33m.\u001b[0m\u001b[0mloc\u001b[0m\u001b[1;33m[\u001b[0m\u001b[1;36m1\u001b[0m\u001b[1;33m,\u001b[0m\u001b[1;36m3\u001b[0m\u001b[1;33m]\u001b[0m\u001b[1;33m\u001b[0m\u001b[1;33m\u001b[0m\u001b[0m\n\u001b[0m",
      "\u001b[1;32m~\\anaconda3\\envs\\tf_2.4\\lib\\site-packages\\pandas\\core\\indexing.py\u001b[0m in \u001b[0;36m__getitem__\u001b[1;34m(self, key)\u001b[0m\n\u001b[0;32m    887\u001b[0m                     \u001b[1;31m# AttributeError for IntervalTree get_value\u001b[0m\u001b[1;33m\u001b[0m\u001b[1;33m\u001b[0m\u001b[1;33m\u001b[0m\u001b[0m\n\u001b[0;32m    888\u001b[0m                     \u001b[1;32mreturn\u001b[0m \u001b[0mself\u001b[0m\u001b[1;33m.\u001b[0m\u001b[0mobj\u001b[0m\u001b[1;33m.\u001b[0m\u001b[0m_get_value\u001b[0m\u001b[1;33m(\u001b[0m\u001b[1;33m*\u001b[0m\u001b[0mkey\u001b[0m\u001b[1;33m,\u001b[0m \u001b[0mtakeable\u001b[0m\u001b[1;33m=\u001b[0m\u001b[0mself\u001b[0m\u001b[1;33m.\u001b[0m\u001b[0m_takeable\u001b[0m\u001b[1;33m)\u001b[0m\u001b[1;33m\u001b[0m\u001b[1;33m\u001b[0m\u001b[0m\n\u001b[1;32m--> 889\u001b[1;33m             \u001b[1;32mreturn\u001b[0m \u001b[0mself\u001b[0m\u001b[1;33m.\u001b[0m\u001b[0m_getitem_tuple\u001b[0m\u001b[1;33m(\u001b[0m\u001b[0mkey\u001b[0m\u001b[1;33m)\u001b[0m\u001b[1;33m\u001b[0m\u001b[1;33m\u001b[0m\u001b[0m\n\u001b[0m\u001b[0;32m    890\u001b[0m         \u001b[1;32melse\u001b[0m\u001b[1;33m:\u001b[0m\u001b[1;33m\u001b[0m\u001b[1;33m\u001b[0m\u001b[0m\n\u001b[0;32m    891\u001b[0m             \u001b[1;31m# we by definition only have the 0th axis\u001b[0m\u001b[1;33m\u001b[0m\u001b[1;33m\u001b[0m\u001b[1;33m\u001b[0m\u001b[0m\n",
      "\u001b[1;32m~\\anaconda3\\envs\\tf_2.4\\lib\\site-packages\\pandas\\core\\indexing.py\u001b[0m in \u001b[0;36m_getitem_tuple\u001b[1;34m(self, tup)\u001b[0m\n\u001b[0;32m   1058\u001b[0m     \u001b[1;32mdef\u001b[0m \u001b[0m_getitem_tuple\u001b[0m\u001b[1;33m(\u001b[0m\u001b[0mself\u001b[0m\u001b[1;33m,\u001b[0m \u001b[0mtup\u001b[0m\u001b[1;33m:\u001b[0m \u001b[0mTuple\u001b[0m\u001b[1;33m)\u001b[0m\u001b[1;33m:\u001b[0m\u001b[1;33m\u001b[0m\u001b[1;33m\u001b[0m\u001b[0m\n\u001b[0;32m   1059\u001b[0m         \u001b[1;32mwith\u001b[0m \u001b[0msuppress\u001b[0m\u001b[1;33m(\u001b[0m\u001b[0mIndexingError\u001b[0m\u001b[1;33m)\u001b[0m\u001b[1;33m:\u001b[0m\u001b[1;33m\u001b[0m\u001b[1;33m\u001b[0m\u001b[0m\n\u001b[1;32m-> 1060\u001b[1;33m             \u001b[1;32mreturn\u001b[0m \u001b[0mself\u001b[0m\u001b[1;33m.\u001b[0m\u001b[0m_getitem_lowerdim\u001b[0m\u001b[1;33m(\u001b[0m\u001b[0mtup\u001b[0m\u001b[1;33m)\u001b[0m\u001b[1;33m\u001b[0m\u001b[1;33m\u001b[0m\u001b[0m\n\u001b[0m\u001b[0;32m   1061\u001b[0m \u001b[1;33m\u001b[0m\u001b[0m\n\u001b[0;32m   1062\u001b[0m         \u001b[1;31m# no multi-index, so validate all of the indexers\u001b[0m\u001b[1;33m\u001b[0m\u001b[1;33m\u001b[0m\u001b[1;33m\u001b[0m\u001b[0m\n",
      "\u001b[1;32m~\\anaconda3\\envs\\tf_2.4\\lib\\site-packages\\pandas\\core\\indexing.py\u001b[0m in \u001b[0;36m_getitem_lowerdim\u001b[1;34m(self, tup)\u001b[0m\n\u001b[0;32m    829\u001b[0m                     \u001b[1;32mreturn\u001b[0m \u001b[0msection\u001b[0m\u001b[1;33m\u001b[0m\u001b[1;33m\u001b[0m\u001b[0m\n\u001b[0;32m    830\u001b[0m                 \u001b[1;31m# This is an elided recursive call to iloc/loc\u001b[0m\u001b[1;33m\u001b[0m\u001b[1;33m\u001b[0m\u001b[1;33m\u001b[0m\u001b[0m\n\u001b[1;32m--> 831\u001b[1;33m                 \u001b[1;32mreturn\u001b[0m \u001b[0mgetattr\u001b[0m\u001b[1;33m(\u001b[0m\u001b[0msection\u001b[0m\u001b[1;33m,\u001b[0m \u001b[0mself\u001b[0m\u001b[1;33m.\u001b[0m\u001b[0mname\u001b[0m\u001b[1;33m)\u001b[0m\u001b[1;33m[\u001b[0m\u001b[0mnew_key\u001b[0m\u001b[1;33m]\u001b[0m\u001b[1;33m\u001b[0m\u001b[1;33m\u001b[0m\u001b[0m\n\u001b[0m\u001b[0;32m    832\u001b[0m \u001b[1;33m\u001b[0m\u001b[0m\n\u001b[0;32m    833\u001b[0m         \u001b[1;32mraise\u001b[0m \u001b[0mIndexingError\u001b[0m\u001b[1;33m(\u001b[0m\u001b[1;34m\"not applicable\"\u001b[0m\u001b[1;33m)\u001b[0m\u001b[1;33m\u001b[0m\u001b[1;33m\u001b[0m\u001b[0m\n",
      "\u001b[1;32m~\\anaconda3\\envs\\tf_2.4\\lib\\site-packages\\pandas\\core\\indexing.py\u001b[0m in \u001b[0;36m__getitem__\u001b[1;34m(self, key)\u001b[0m\n\u001b[0;32m    893\u001b[0m \u001b[1;33m\u001b[0m\u001b[0m\n\u001b[0;32m    894\u001b[0m             \u001b[0mmaybe_callable\u001b[0m \u001b[1;33m=\u001b[0m \u001b[0mcom\u001b[0m\u001b[1;33m.\u001b[0m\u001b[0mapply_if_callable\u001b[0m\u001b[1;33m(\u001b[0m\u001b[0mkey\u001b[0m\u001b[1;33m,\u001b[0m \u001b[0mself\u001b[0m\u001b[1;33m.\u001b[0m\u001b[0mobj\u001b[0m\u001b[1;33m)\u001b[0m\u001b[1;33m\u001b[0m\u001b[1;33m\u001b[0m\u001b[0m\n\u001b[1;32m--> 895\u001b[1;33m             \u001b[1;32mreturn\u001b[0m \u001b[0mself\u001b[0m\u001b[1;33m.\u001b[0m\u001b[0m_getitem_axis\u001b[0m\u001b[1;33m(\u001b[0m\u001b[0mmaybe_callable\u001b[0m\u001b[1;33m,\u001b[0m \u001b[0maxis\u001b[0m\u001b[1;33m=\u001b[0m\u001b[0maxis\u001b[0m\u001b[1;33m)\u001b[0m\u001b[1;33m\u001b[0m\u001b[1;33m\u001b[0m\u001b[0m\n\u001b[0m\u001b[0;32m    896\u001b[0m \u001b[1;33m\u001b[0m\u001b[0m\n\u001b[0;32m    897\u001b[0m     \u001b[1;32mdef\u001b[0m \u001b[0m_is_scalar_access\u001b[0m\u001b[1;33m(\u001b[0m\u001b[0mself\u001b[0m\u001b[1;33m,\u001b[0m \u001b[0mkey\u001b[0m\u001b[1;33m:\u001b[0m \u001b[0mTuple\u001b[0m\u001b[1;33m)\u001b[0m\u001b[1;33m:\u001b[0m\u001b[1;33m\u001b[0m\u001b[1;33m\u001b[0m\u001b[0m\n",
      "\u001b[1;32m~\\anaconda3\\envs\\tf_2.4\\lib\\site-packages\\pandas\\core\\indexing.py\u001b[0m in \u001b[0;36m_getitem_axis\u001b[1;34m(self, key, axis)\u001b[0m\n\u001b[0;32m   1122\u001b[0m         \u001b[1;31m# fall thru to straight lookup\u001b[0m\u001b[1;33m\u001b[0m\u001b[1;33m\u001b[0m\u001b[1;33m\u001b[0m\u001b[0m\n\u001b[0;32m   1123\u001b[0m         \u001b[0mself\u001b[0m\u001b[1;33m.\u001b[0m\u001b[0m_validate_key\u001b[0m\u001b[1;33m(\u001b[0m\u001b[0mkey\u001b[0m\u001b[1;33m,\u001b[0m \u001b[0maxis\u001b[0m\u001b[1;33m)\u001b[0m\u001b[1;33m\u001b[0m\u001b[1;33m\u001b[0m\u001b[0m\n\u001b[1;32m-> 1124\u001b[1;33m         \u001b[1;32mreturn\u001b[0m \u001b[0mself\u001b[0m\u001b[1;33m.\u001b[0m\u001b[0m_get_label\u001b[0m\u001b[1;33m(\u001b[0m\u001b[0mkey\u001b[0m\u001b[1;33m,\u001b[0m \u001b[0maxis\u001b[0m\u001b[1;33m=\u001b[0m\u001b[0maxis\u001b[0m\u001b[1;33m)\u001b[0m\u001b[1;33m\u001b[0m\u001b[1;33m\u001b[0m\u001b[0m\n\u001b[0m\u001b[0;32m   1125\u001b[0m \u001b[1;33m\u001b[0m\u001b[0m\n\u001b[0;32m   1126\u001b[0m     \u001b[1;32mdef\u001b[0m \u001b[0m_get_slice_axis\u001b[0m\u001b[1;33m(\u001b[0m\u001b[0mself\u001b[0m\u001b[1;33m,\u001b[0m \u001b[0mslice_obj\u001b[0m\u001b[1;33m:\u001b[0m \u001b[0mslice\u001b[0m\u001b[1;33m,\u001b[0m \u001b[0maxis\u001b[0m\u001b[1;33m:\u001b[0m \u001b[0mint\u001b[0m\u001b[1;33m)\u001b[0m\u001b[1;33m:\u001b[0m\u001b[1;33m\u001b[0m\u001b[1;33m\u001b[0m\u001b[0m\n",
      "\u001b[1;32m~\\anaconda3\\envs\\tf_2.4\\lib\\site-packages\\pandas\\core\\indexing.py\u001b[0m in \u001b[0;36m_get_label\u001b[1;34m(self, label, axis)\u001b[0m\n\u001b[0;32m   1071\u001b[0m     \u001b[1;32mdef\u001b[0m \u001b[0m_get_label\u001b[0m\u001b[1;33m(\u001b[0m\u001b[0mself\u001b[0m\u001b[1;33m,\u001b[0m \u001b[0mlabel\u001b[0m\u001b[1;33m,\u001b[0m \u001b[0maxis\u001b[0m\u001b[1;33m:\u001b[0m \u001b[0mint\u001b[0m\u001b[1;33m)\u001b[0m\u001b[1;33m:\u001b[0m\u001b[1;33m\u001b[0m\u001b[1;33m\u001b[0m\u001b[0m\n\u001b[0;32m   1072\u001b[0m         \u001b[1;31m# GH#5667 this will fail if the label is not present in the axis.\u001b[0m\u001b[1;33m\u001b[0m\u001b[1;33m\u001b[0m\u001b[1;33m\u001b[0m\u001b[0m\n\u001b[1;32m-> 1073\u001b[1;33m         \u001b[1;32mreturn\u001b[0m \u001b[0mself\u001b[0m\u001b[1;33m.\u001b[0m\u001b[0mobj\u001b[0m\u001b[1;33m.\u001b[0m\u001b[0mxs\u001b[0m\u001b[1;33m(\u001b[0m\u001b[0mlabel\u001b[0m\u001b[1;33m,\u001b[0m \u001b[0maxis\u001b[0m\u001b[1;33m=\u001b[0m\u001b[0maxis\u001b[0m\u001b[1;33m)\u001b[0m\u001b[1;33m\u001b[0m\u001b[1;33m\u001b[0m\u001b[0m\n\u001b[0m\u001b[0;32m   1074\u001b[0m \u001b[1;33m\u001b[0m\u001b[0m\n\u001b[0;32m   1075\u001b[0m     \u001b[1;32mdef\u001b[0m \u001b[0m_handle_lowerdim_multi_index_axis0\u001b[0m\u001b[1;33m(\u001b[0m\u001b[0mself\u001b[0m\u001b[1;33m,\u001b[0m \u001b[0mtup\u001b[0m\u001b[1;33m:\u001b[0m \u001b[0mTuple\u001b[0m\u001b[1;33m)\u001b[0m\u001b[1;33m:\u001b[0m\u001b[1;33m\u001b[0m\u001b[1;33m\u001b[0m\u001b[0m\n",
      "\u001b[1;32m~\\anaconda3\\envs\\tf_2.4\\lib\\site-packages\\pandas\\core\\generic.py\u001b[0m in \u001b[0;36mxs\u001b[1;34m(self, key, axis, level, drop_level)\u001b[0m\n\u001b[0;32m   3736\u001b[0m                 \u001b[1;32mraise\u001b[0m \u001b[0mTypeError\u001b[0m\u001b[1;33m(\u001b[0m\u001b[1;34mf\"Expected label or tuple of labels, got {key}\"\u001b[0m\u001b[1;33m)\u001b[0m \u001b[1;32mfrom\u001b[0m \u001b[0me\u001b[0m\u001b[1;33m\u001b[0m\u001b[1;33m\u001b[0m\u001b[0m\n\u001b[0;32m   3737\u001b[0m         \u001b[1;32melse\u001b[0m\u001b[1;33m:\u001b[0m\u001b[1;33m\u001b[0m\u001b[1;33m\u001b[0m\u001b[0m\n\u001b[1;32m-> 3738\u001b[1;33m             \u001b[0mloc\u001b[0m \u001b[1;33m=\u001b[0m \u001b[0mindex\u001b[0m\u001b[1;33m.\u001b[0m\u001b[0mget_loc\u001b[0m\u001b[1;33m(\u001b[0m\u001b[0mkey\u001b[0m\u001b[1;33m)\u001b[0m\u001b[1;33m\u001b[0m\u001b[1;33m\u001b[0m\u001b[0m\n\u001b[0m\u001b[0;32m   3739\u001b[0m \u001b[1;33m\u001b[0m\u001b[0m\n\u001b[0;32m   3740\u001b[0m             \u001b[1;32mif\u001b[0m \u001b[0misinstance\u001b[0m\u001b[1;33m(\u001b[0m\u001b[0mloc\u001b[0m\u001b[1;33m,\u001b[0m \u001b[0mnp\u001b[0m\u001b[1;33m.\u001b[0m\u001b[0mndarray\u001b[0m\u001b[1;33m)\u001b[0m\u001b[1;33m:\u001b[0m\u001b[1;33m\u001b[0m\u001b[1;33m\u001b[0m\u001b[0m\n",
      "\u001b[1;32m~\\anaconda3\\envs\\tf_2.4\\lib\\site-packages\\pandas\\core\\indexes\\base.py\u001b[0m in \u001b[0;36mget_loc\u001b[1;34m(self, key, method, tolerance)\u001b[0m\n\u001b[0;32m   3080\u001b[0m                 \u001b[1;32mreturn\u001b[0m \u001b[0mself\u001b[0m\u001b[1;33m.\u001b[0m\u001b[0m_engine\u001b[0m\u001b[1;33m.\u001b[0m\u001b[0mget_loc\u001b[0m\u001b[1;33m(\u001b[0m\u001b[0mcasted_key\u001b[0m\u001b[1;33m)\u001b[0m\u001b[1;33m\u001b[0m\u001b[1;33m\u001b[0m\u001b[0m\n\u001b[0;32m   3081\u001b[0m             \u001b[1;32mexcept\u001b[0m \u001b[0mKeyError\u001b[0m \u001b[1;32mas\u001b[0m \u001b[0merr\u001b[0m\u001b[1;33m:\u001b[0m\u001b[1;33m\u001b[0m\u001b[1;33m\u001b[0m\u001b[0m\n\u001b[1;32m-> 3082\u001b[1;33m                 \u001b[1;32mraise\u001b[0m \u001b[0mKeyError\u001b[0m\u001b[1;33m(\u001b[0m\u001b[0mkey\u001b[0m\u001b[1;33m)\u001b[0m \u001b[1;32mfrom\u001b[0m \u001b[0merr\u001b[0m\u001b[1;33m\u001b[0m\u001b[1;33m\u001b[0m\u001b[0m\n\u001b[0m\u001b[0;32m   3083\u001b[0m \u001b[1;33m\u001b[0m\u001b[0m\n\u001b[0;32m   3084\u001b[0m         \u001b[1;32mif\u001b[0m \u001b[0mtolerance\u001b[0m \u001b[1;32mis\u001b[0m \u001b[1;32mnot\u001b[0m \u001b[1;32mNone\u001b[0m\u001b[1;33m:\u001b[0m\u001b[1;33m\u001b[0m\u001b[1;33m\u001b[0m\u001b[0m\n",
      "\u001b[1;31mKeyError\u001b[0m: 3"
     ]
    }
   ],
   "source": [
    "df.loc[1,3]"
   ]
  },
  {
   "source": [
    "# all the rows for the age column"
   ],
   "cell_type": "markdown",
   "metadata": {}
  },
  {
   "cell_type": "code",
   "execution_count": 68,
   "metadata": {},
   "outputs": [
    {
     "output_type": "execute_result",
     "data": {
      "text/plain": [
       "0         Old\n",
       "1      Middle\n",
       "2       Young\n",
       "3      Middle\n",
       "4      Middle\n",
       "        ...  \n",
       "995     Young\n",
       "996    Middle\n",
       "997       Old\n",
       "998    Middle\n",
       "999     Young\n",
       "Name: Age, Length: 1000, dtype: object"
      ]
     },
     "metadata": {},
     "execution_count": 68
    }
   ],
   "source": [
    "df.loc[:,\"Age\"]"
   ]
  },
  {
   "cell_type": "code",
   "execution_count": 71,
   "metadata": {},
   "outputs": [
    {
     "output_type": "execute_result",
     "data": {
      "text/plain": [
       "     Married     Age\n",
       "0     Single     Old\n",
       "1     Single  Middle\n",
       "2     Single   Young\n",
       "3    Married  Middle\n",
       "4     Single  Middle\n",
       "..       ...     ...\n",
       "995   Single   Young\n",
       "996   Single  Middle\n",
       "997   Single     Old\n",
       "998  Married  Middle\n",
       "999  Married   Young\n",
       "\n",
       "[1000 rows x 2 columns]"
      ],
      "text/html": "<div>\n<style scoped>\n    .dataframe tbody tr th:only-of-type {\n        vertical-align: middle;\n    }\n\n    .dataframe tbody tr th {\n        vertical-align: top;\n    }\n\n    .dataframe thead th {\n        text-align: right;\n    }\n</style>\n<table border=\"1\" class=\"dataframe\">\n  <thead>\n    <tr style=\"text-align: right;\">\n      <th></th>\n      <th>Married</th>\n      <th>Age</th>\n    </tr>\n  </thead>\n  <tbody>\n    <tr>\n      <th>0</th>\n      <td>Single</td>\n      <td>Old</td>\n    </tr>\n    <tr>\n      <th>1</th>\n      <td>Single</td>\n      <td>Middle</td>\n    </tr>\n    <tr>\n      <th>2</th>\n      <td>Single</td>\n      <td>Young</td>\n    </tr>\n    <tr>\n      <th>3</th>\n      <td>Married</td>\n      <td>Middle</td>\n    </tr>\n    <tr>\n      <th>4</th>\n      <td>Single</td>\n      <td>Middle</td>\n    </tr>\n    <tr>\n      <th>...</th>\n      <td>...</td>\n      <td>...</td>\n    </tr>\n    <tr>\n      <th>995</th>\n      <td>Single</td>\n      <td>Young</td>\n    </tr>\n    <tr>\n      <th>996</th>\n      <td>Single</td>\n      <td>Middle</td>\n    </tr>\n    <tr>\n      <th>997</th>\n      <td>Single</td>\n      <td>Old</td>\n    </tr>\n    <tr>\n      <th>998</th>\n      <td>Married</td>\n      <td>Middle</td>\n    </tr>\n    <tr>\n      <th>999</th>\n      <td>Married</td>\n      <td>Young</td>\n    </tr>\n  </tbody>\n</table>\n<p>1000 rows × 2 columns</p>\n</div>"
     },
     "metadata": {},
     "execution_count": 71
    }
   ],
   "source": [
    "df.loc[:,['Married','Age']]"
   ]
  },
  {
   "source": [
    "# getting particular rows from the dataframe for the column age"
   ],
   "cell_type": "markdown",
   "metadata": {}
  },
  {
   "cell_type": "code",
   "execution_count": 72,
   "metadata": {},
   "outputs": [
    {
     "output_type": "execute_result",
     "data": {
      "text/plain": [
       "1    Middle\n",
       "3    Middle\n",
       "5     Young\n",
       "7    Middle\n",
       "Name: Age, dtype: object"
      ]
     },
     "metadata": {},
     "execution_count": 72
    }
   ],
   "source": [
    "df.loc[[1,3,5,7],'Age']"
   ]
  },
  {
   "source": [
    "# getting the last row in the dataframe"
   ],
   "cell_type": "markdown",
   "metadata": {}
  },
  {
   "cell_type": "code",
   "execution_count": 73,
   "metadata": {},
   "outputs": [
    {
     "output_type": "execute_result",
     "data": {
      "text/plain": [
       "'Young'"
      ]
     },
     "metadata": {},
     "execution_count": 73
    }
   ],
   "source": [
    "df.loc[999,'Age']"
   ]
  },
  {
   "source": [
    "# getting the first row and first column from the dataframe"
   ],
   "cell_type": "markdown",
   "metadata": {}
  },
  {
   "cell_type": "code",
   "execution_count": 74,
   "metadata": {},
   "outputs": [
    {
     "output_type": "execute_result",
     "data": {
      "text/plain": [
       "'Male'"
      ]
     },
     "metadata": {},
     "execution_count": 74
    }
   ],
   "source": [
    "df.iloc[1,1]"
   ]
  },
  {
   "source": [
    "# getting first row and all the remaining columns"
   ],
   "cell_type": "markdown",
   "metadata": {}
  },
  {
   "cell_type": "code",
   "execution_count": 76,
   "metadata": {},
   "outputs": [
    {
     "output_type": "execute_result",
     "data": {
      "text/plain": [
       "OwnHome      Rent\n",
       "Location    Close\n",
       "Salary      63600\n",
       "Name: 1, dtype: object"
      ]
     },
     "metadata": {},
     "execution_count": 76
    }
   ],
   "source": [
    "df.iloc[1,[2,4,5]]"
   ]
  },
  {
   "source": [
    "# getting the first row and columns 3 to 6"
   ],
   "cell_type": "markdown",
   "metadata": {}
  },
  {
   "cell_type": "code",
   "execution_count": 78,
   "metadata": {},
   "outputs": [
    {
     "output_type": "execute_result",
     "data": {
      "text/plain": [
       "Married     Single\n",
       "Location     Close\n",
       "Salary       63600\n",
       "Name: 1, dtype: object"
      ]
     },
     "metadata": {},
     "execution_count": 78
    }
   ],
   "source": [
    "df.iloc[1,3:6]"
   ]
  },
  {
   "source": [
    "# rows starting from 2 to 5 and first column"
   ],
   "cell_type": "markdown",
   "metadata": {}
  },
  {
   "cell_type": "code",
   "execution_count": 79,
   "metadata": {},
   "outputs": [
    {
     "output_type": "execute_result",
     "data": {
      "text/plain": [
       "2    Female\n",
       "3      Male\n",
       "4    Female\n",
       "Name: Gender, dtype: object"
      ]
     },
     "metadata": {},
     "execution_count": 79
    }
   ],
   "source": [
    "df.iloc[2:5,1]"
   ]
  },
  {
   "source": [
    "# Group By in pandas its like SQL groupby"
   ],
   "cell_type": "markdown",
   "metadata": {}
  },
  {
   "cell_type": "code",
   "execution_count": 90,
   "metadata": {},
   "outputs": [
    {
     "output_type": "execute_result",
     "data": {
      "text/plain": [
       "Gender\n",
       "Female    48197.43083\n",
       "Male      64202.42915\n",
       "Name: Salary, dtype: float64"
      ]
     },
     "metadata": {},
     "execution_count": 90
    }
   ],
   "source": [
    "df.groupby('Gender').mean()['Salary']"
   ]
  },
  {
   "cell_type": "code",
   "execution_count": 91,
   "metadata": {},
   "outputs": [
    {
     "output_type": "execute_result",
     "data": {
      "text/plain": [
       "Gender\n",
       "Female    48197.43083\n",
       "Male      64202.42915\n",
       "Name: Salary, dtype: float64"
      ]
     },
     "metadata": {},
     "execution_count": 91
    }
   ],
   "source": [
    "df.groupby('Gender')['Salary'].mean()"
   ]
  },
  {
   "source": [
    "# getting the quantiles"
   ],
   "cell_type": "markdown",
   "metadata": {}
  },
  {
   "cell_type": "code",
   "execution_count": 93,
   "metadata": {},
   "outputs": [
    {
     "output_type": "execute_result",
     "data": {
      "text/plain": [
       "Salary         29975.00\n",
       "Children           0.00\n",
       "Catalogs           6.00\n",
       "AmountSpent      488.25\n",
       "Name: 0.25, dtype: float64"
      ]
     },
     "metadata": {},
     "execution_count": 93
    }
   ],
   "source": [
    "df.quantile(0.25)"
   ]
  },
  {
   "cell_type": "code",
   "execution_count": null,
   "metadata": {},
   "outputs": [],
   "source": []
  },
  {
   "cell_type": "code",
   "execution_count": 96,
   "metadata": {},
   "outputs": [
    {
     "output_type": "execute_result",
     "data": {
      "text/plain": [
       "               Salary  Children   Catalogs  AmountSpent\n",
       "OwnHome                                                \n",
       "Own      69758.720930  0.901163  15.279070  1543.135659\n",
       "Rent     41546.280992  0.969008  14.045455   868.826446"
      ],
      "text/html": "<div>\n<style scoped>\n    .dataframe tbody tr th:only-of-type {\n        vertical-align: middle;\n    }\n\n    .dataframe tbody tr th {\n        vertical-align: top;\n    }\n\n    .dataframe thead th {\n        text-align: right;\n    }\n</style>\n<table border=\"1\" class=\"dataframe\">\n  <thead>\n    <tr style=\"text-align: right;\">\n      <th></th>\n      <th>Salary</th>\n      <th>Children</th>\n      <th>Catalogs</th>\n      <th>AmountSpent</th>\n    </tr>\n    <tr>\n      <th>OwnHome</th>\n      <th></th>\n      <th></th>\n      <th></th>\n      <th></th>\n    </tr>\n  </thead>\n  <tbody>\n    <tr>\n      <th>Own</th>\n      <td>69758.720930</td>\n      <td>0.901163</td>\n      <td>15.279070</td>\n      <td>1543.135659</td>\n    </tr>\n    <tr>\n      <th>Rent</th>\n      <td>41546.280992</td>\n      <td>0.969008</td>\n      <td>14.045455</td>\n      <td>868.826446</td>\n    </tr>\n  </tbody>\n</table>\n</div>"
     },
     "metadata": {},
     "execution_count": 96
    }
   ],
   "source": [
    "df.groupby('OwnHome').mean()"
   ]
  },
  {
   "cell_type": "code",
   "execution_count": 98,
   "metadata": {},
   "outputs": [
    {
     "output_type": "execute_result",
     "data": {
      "text/plain": [
       "count      1000.000000\n",
       "mean      56103.900000\n",
       "std       30616.314826\n",
       "min       10100.000000\n",
       "25%       29975.000000\n",
       "50%       53700.000000\n",
       "75%       77025.000000\n",
       "max      168800.000000\n",
       "Name: Salary, dtype: float64"
      ]
     },
     "metadata": {},
     "execution_count": 98
    }
   ],
   "source": [
    "df['Salary'].describe()"
   ]
  },
  {
   "cell_type": "code",
   "execution_count": 102,
   "metadata": {},
   "outputs": [
    {
     "output_type": "execute_result",
     "data": {
      "text/plain": [
       "              Salary  AmountSpent\n",
       "count    1000.000000  1000.000000\n",
       "mean    56103.900000  1216.770000\n",
       "std     30616.314826   961.068613\n",
       "min     10100.000000    38.000000\n",
       "25%     29975.000000   488.250000\n",
       "50%     53700.000000   962.000000\n",
       "75%     77025.000000  1688.500000\n",
       "max    168800.000000  6217.000000"
      ],
      "text/html": "<div>\n<style scoped>\n    .dataframe tbody tr th:only-of-type {\n        vertical-align: middle;\n    }\n\n    .dataframe tbody tr th {\n        vertical-align: top;\n    }\n\n    .dataframe thead th {\n        text-align: right;\n    }\n</style>\n<table border=\"1\" class=\"dataframe\">\n  <thead>\n    <tr style=\"text-align: right;\">\n      <th></th>\n      <th>Salary</th>\n      <th>AmountSpent</th>\n    </tr>\n  </thead>\n  <tbody>\n    <tr>\n      <th>count</th>\n      <td>1000.000000</td>\n      <td>1000.000000</td>\n    </tr>\n    <tr>\n      <th>mean</th>\n      <td>56103.900000</td>\n      <td>1216.770000</td>\n    </tr>\n    <tr>\n      <th>std</th>\n      <td>30616.314826</td>\n      <td>961.068613</td>\n    </tr>\n    <tr>\n      <th>min</th>\n      <td>10100.000000</td>\n      <td>38.000000</td>\n    </tr>\n    <tr>\n      <th>25%</th>\n      <td>29975.000000</td>\n      <td>488.250000</td>\n    </tr>\n    <tr>\n      <th>50%</th>\n      <td>53700.000000</td>\n      <td>962.000000</td>\n    </tr>\n    <tr>\n      <th>75%</th>\n      <td>77025.000000</td>\n      <td>1688.500000</td>\n    </tr>\n    <tr>\n      <th>max</th>\n      <td>168800.000000</td>\n      <td>6217.000000</td>\n    </tr>\n  </tbody>\n</table>\n</div>"
     },
     "metadata": {},
     "execution_count": 102
    }
   ],
   "source": [
    "df[['Salary','AmountSpent']].describe()"
   ]
  },
  {
   "source": [
    "# using groupby for two or more columns"
   ],
   "cell_type": "markdown",
   "metadata": {}
  },
  {
   "cell_type": "code",
   "execution_count": 108,
   "metadata": {},
   "outputs": [
    {
     "output_type": "execute_result",
     "data": {
      "text/plain": [
       "                      Salary  Children   Catalogs  AmountSpent\n",
       "Gender OwnHome                                                \n",
       "Female Own      60012.916667  0.945833  14.575000  1314.437500\n",
       "       Rent     37536.842105  1.131579  13.691729   764.500000\n",
       "Male   Own      78233.333333  0.862319  15.891304  1742.003623\n",
       "       Rent     46438.532110  0.770642  14.477064   996.123853"
      ],
      "text/html": "<div>\n<style scoped>\n    .dataframe tbody tr th:only-of-type {\n        vertical-align: middle;\n    }\n\n    .dataframe tbody tr th {\n        vertical-align: top;\n    }\n\n    .dataframe thead th {\n        text-align: right;\n    }\n</style>\n<table border=\"1\" class=\"dataframe\">\n  <thead>\n    <tr style=\"text-align: right;\">\n      <th></th>\n      <th></th>\n      <th>Salary</th>\n      <th>Children</th>\n      <th>Catalogs</th>\n      <th>AmountSpent</th>\n    </tr>\n    <tr>\n      <th>Gender</th>\n      <th>OwnHome</th>\n      <th></th>\n      <th></th>\n      <th></th>\n      <th></th>\n    </tr>\n  </thead>\n  <tbody>\n    <tr>\n      <th rowspan=\"2\" valign=\"top\">Female</th>\n      <th>Own</th>\n      <td>60012.916667</td>\n      <td>0.945833</td>\n      <td>14.575000</td>\n      <td>1314.437500</td>\n    </tr>\n    <tr>\n      <th>Rent</th>\n      <td>37536.842105</td>\n      <td>1.131579</td>\n      <td>13.691729</td>\n      <td>764.500000</td>\n    </tr>\n    <tr>\n      <th rowspan=\"2\" valign=\"top\">Male</th>\n      <th>Own</th>\n      <td>78233.333333</td>\n      <td>0.862319</td>\n      <td>15.891304</td>\n      <td>1742.003623</td>\n    </tr>\n    <tr>\n      <th>Rent</th>\n      <td>46438.532110</td>\n      <td>0.770642</td>\n      <td>14.477064</td>\n      <td>996.123853</td>\n    </tr>\n  </tbody>\n</table>\n</div>"
     },
     "metadata": {},
     "execution_count": 108
    }
   ],
   "source": [
    "df.groupby(['Gender','OwnHome']).mean()"
   ]
  },
  {
   "cell_type": "code",
   "execution_count": 107,
   "metadata": {},
   "outputs": [
    {
     "output_type": "execute_result",
     "data": {
      "text/plain": [
       "Gender  OwnHome\n",
       "Female  Own        1314.437500\n",
       "        Rent        764.500000\n",
       "Male    Own        1742.003623\n",
       "        Rent        996.123853\n",
       "Name: AmountSpent, dtype: float64"
      ]
     },
     "metadata": {},
     "execution_count": 107
    }
   ],
   "source": [
    "df.groupby(['Gender','OwnHome']).mean()['AmountSpent']"
   ]
  },
  {
   "cell_type": "code",
   "execution_count": null,
   "metadata": {},
   "outputs": [],
   "source": []
  }
 ]
}