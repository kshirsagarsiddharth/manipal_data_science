{
 "metadata": {
  "language_info": {
   "codemirror_mode": {
    "name": "ipython",
    "version": 3
   },
   "file_extension": ".py",
   "mimetype": "text/x-python",
   "name": "python",
   "nbconvert_exporter": "python",
   "pygments_lexer": "ipython3",
   "version": "3.8.0-final"
  },
  "orig_nbformat": 2,
  "kernelspec": {
   "name": "python3",
   "display_name": "Python 3.8.0 64-bit ('tf_2.4': conda)",
   "metadata": {
    "interpreter": {
     "hash": "df53eb43d5f4a47426fc7695aa15cd0ff0fde94a792cda81b8e3f34ace87d5f5"
    }
   }
  }
 },
 "nbformat": 4,
 "nbformat_minor": 2,
 "cells": [
  {
   "cell_type": "code",
   "execution_count": 34,
   "metadata": {},
   "outputs": [],
   "source": [
    "import pandas as pd "
   ]
  },
  {
   "source": [
    "# convert a list to a pandas series"
   ],
   "cell_type": "markdown",
   "metadata": {}
  },
  {
   "cell_type": "code",
   "execution_count": 35,
   "metadata": {},
   "outputs": [],
   "source": [
    "li = [2,4,6,8]"
   ]
  },
  {
   "cell_type": "code",
   "execution_count": 36,
   "metadata": {},
   "outputs": [
    {
     "output_type": "execute_result",
     "data": {
      "text/plain": [
       "0    2\n",
       "1    4\n",
       "2    6\n",
       "3    8\n",
       "dtype: int64"
      ]
     },
     "metadata": {},
     "execution_count": 36
    }
   ],
   "source": [
    "pd.Series(li)"
   ]
  },
  {
   "source": [
    "# pandas Series with the index"
   ],
   "cell_type": "markdown",
   "metadata": {}
  },
  {
   "cell_type": "code",
   "execution_count": 37,
   "metadata": {},
   "outputs": [
    {
     "output_type": "execute_result",
     "data": {
      "text/plain": [
       "a    1\n",
       "b    2\n",
       "k    3\n",
       "d    4\n",
       "e    5\n",
       "r    6\n",
       "r    7\n",
       "b    5\n",
       "dtype: int64"
      ]
     },
     "metadata": {},
     "execution_count": 37
    }
   ],
   "source": [
    "li = [1,2,3,4,5,6,7,5]\n",
    "ind = ['a','b','k','d','e','r','r','b']\n",
    "pd.Series(li,index=ind)"
   ]
  },
  {
   "source": [
    "# the first element is values and index will be the list."
   ],
   "cell_type": "markdown",
   "metadata": {}
  },
  {
   "cell_type": "code",
   "execution_count": 38,
   "metadata": {},
   "outputs": [],
   "source": [
    "s = pd.Series(ind, index=li)"
   ]
  },
  {
   "cell_type": "code",
   "execution_count": 39,
   "metadata": {},
   "outputs": [
    {
     "output_type": "execute_result",
     "data": {
      "text/plain": [
       "1    a\n",
       "2    b\n",
       "3    k\n",
       "4    d\n",
       "5    e\n",
       "6    r\n",
       "7    r\n",
       "5    b\n",
       "dtype: object"
      ]
     },
     "metadata": {},
     "execution_count": 39
    }
   ],
   "source": [
    "s"
   ]
  },
  {
   "source": [
    "# slicing the pandas series"
   ],
   "cell_type": "markdown",
   "metadata": {}
  },
  {
   "cell_type": "code",
   "execution_count": 40,
   "metadata": {},
   "outputs": [
    {
     "output_type": "execute_result",
     "data": {
      "text/plain": [
       "2    b\n",
       "3    k\n",
       "4    d\n",
       "5    e\n",
       "6    r\n",
       "7    r\n",
       "5    b\n",
       "dtype: object"
      ]
     },
     "metadata": {},
     "execution_count": 40
    }
   ],
   "source": [
    "s[1:]"
   ]
  },
  {
   "cell_type": "code",
   "execution_count": 41,
   "metadata": {},
   "outputs": [
    {
     "output_type": "execute_result",
     "data": {
      "text/plain": [
       "1    a\n",
       "2    b\n",
       "3    k\n",
       "4    d\n",
       "5    e\n",
       "6    r\n",
       "7    r\n",
       "5    b\n",
       "dtype: object"
      ]
     },
     "metadata": {},
     "execution_count": 41
    }
   ],
   "source": [
    "s"
   ]
  },
  {
   "cell_type": "code",
   "execution_count": 42,
   "metadata": {},
   "outputs": [
    {
     "output_type": "execute_result",
     "data": {
      "text/plain": [
       "a    1\n",
       "b    2\n",
       "k    3\n",
       "d    4\n",
       "e    5\n",
       "r    6\n",
       "r    7\n",
       "b    5\n",
       "dtype: int64"
      ]
     },
     "metadata": {},
     "execution_count": 42
    }
   ],
   "source": [
    "ser = pd.Series(li,index=ind)\n",
    "ser"
   ]
  },
  {
   "source": [
    "# indexing through the key value"
   ],
   "cell_type": "markdown",
   "metadata": {}
  },
  {
   "cell_type": "code",
   "execution_count": 43,
   "metadata": {},
   "outputs": [
    {
     "output_type": "execute_result",
     "data": {
      "text/plain": [
       "1"
      ]
     },
     "metadata": {},
     "execution_count": 43
    }
   ],
   "source": [
    "ser['a']"
   ]
  },
  {
   "source": [
    "# indexing through a number"
   ],
   "cell_type": "markdown",
   "metadata": {}
  },
  {
   "cell_type": "code",
   "execution_count": 44,
   "metadata": {},
   "outputs": [
    {
     "output_type": "execute_result",
     "data": {
      "text/plain": [
       "1"
      ]
     },
     "metadata": {},
     "execution_count": 44
    }
   ],
   "source": [
    "ser[0]"
   ]
  },
  {
   "cell_type": "code",
   "execution_count": 45,
   "metadata": {},
   "outputs": [
    {
     "output_type": "execute_result",
     "data": {
      "text/plain": [
       "b    2\n",
       "b    5\n",
       "dtype: int64"
      ]
     },
     "metadata": {},
     "execution_count": 45
    }
   ],
   "source": [
    "ser['b']"
   ]
  },
  {
   "source": [
    "# getting the head of the series"
   ],
   "cell_type": "markdown",
   "metadata": {}
  },
  {
   "cell_type": "code",
   "execution_count": 46,
   "metadata": {},
   "outputs": [],
   "source": [
    "ser = pd.Series([1,2,3,4,5,4,6,7,8,9,0])"
   ]
  },
  {
   "cell_type": "code",
   "execution_count": 47,
   "metadata": {},
   "outputs": [
    {
     "output_type": "execute_result",
     "data": {
      "text/plain": [
       "0    1\n",
       "1    2\n",
       "2    3\n",
       "3    4\n",
       "4    5\n",
       "dtype: int64"
      ]
     },
     "metadata": {},
     "execution_count": 47
    }
   ],
   "source": [
    "ser.head() # returns the first 5 elements "
   ]
  },
  {
   "source": [
    "# creating the series using the numpy arrays"
   ],
   "cell_type": "markdown",
   "metadata": {}
  },
  {
   "cell_type": "code",
   "execution_count": 48,
   "metadata": {},
   "outputs": [
    {
     "output_type": "execute_result",
     "data": {
      "text/plain": [
       "0    0\n",
       "1    1\n",
       "2    2\n",
       "3    3\n",
       "4    4\n",
       "dtype: int32"
      ]
     },
     "metadata": {},
     "execution_count": 48
    }
   ],
   "source": [
    "import numpy as np \n",
    "arr = np.arange(0,12,1)\n",
    "ser = pd.Series(arr)\n",
    "ser.head()"
   ]
  },
  {
   "cell_type": "code",
   "execution_count": 49,
   "metadata": {},
   "outputs": [
    {
     "output_type": "execute_result",
     "data": {
      "text/plain": [
       "7      7\n",
       "8      8\n",
       "9      9\n",
       "10    10\n",
       "11    11\n",
       "dtype: int32"
      ]
     },
     "metadata": {},
     "execution_count": 49
    }
   ],
   "source": [
    "ser.tail()"
   ]
  },
  {
   "cell_type": "code",
   "execution_count": 50,
   "metadata": {},
   "outputs": [
    {
     "output_type": "execute_result",
     "data": {
      "text/plain": [
       "0    0\n",
       "1    1\n",
       "2    2\n",
       "3    3\n",
       "4    4\n",
       "dtype: int32"
      ]
     },
     "metadata": {},
     "execution_count": 50
    }
   ],
   "source": [
    "ser.head()"
   ]
  },
  {
   "cell_type": "code",
   "execution_count": 51,
   "metadata": {},
   "outputs": [
    {
     "output_type": "execute_result",
     "data": {
      "text/plain": [
       "9      9\n",
       "10    10\n",
       "11    11\n",
       "dtype: int32"
      ]
     },
     "metadata": {},
     "execution_count": 51
    }
   ],
   "source": [
    "ser.tail(3)"
   ]
  },
  {
   "source": [
    "# location in series"
   ],
   "cell_type": "markdown",
   "metadata": {}
  },
  {
   "cell_type": "code",
   "execution_count": 52,
   "metadata": {},
   "outputs": [
    {
     "output_type": "execute_result",
     "data": {
      "text/plain": [
       "3"
      ]
     },
     "metadata": {},
     "execution_count": 52
    }
   ],
   "source": [
    "ser.loc[3]"
   ]
  },
  {
   "source": [
    "# integer location in series"
   ],
   "cell_type": "markdown",
   "metadata": {}
  },
  {
   "cell_type": "code",
   "execution_count": 53,
   "metadata": {},
   "outputs": [
    {
     "output_type": "execute_result",
     "data": {
      "text/plain": [
       "3"
      ]
     },
     "metadata": {},
     "execution_count": 53
    }
   ],
   "source": [
    "ser.iloc[3]"
   ]
  },
  {
   "cell_type": "code",
   "execution_count": 54,
   "metadata": {},
   "outputs": [
    {
     "output_type": "execute_result",
     "data": {
      "text/plain": [
       "3    3\n",
       "4    4\n",
       "5    5\n",
       "6    6\n",
       "7    7\n",
       "dtype: int32"
      ]
     },
     "metadata": {},
     "execution_count": 54
    }
   ],
   "source": [
    "ser.loc[3:7]"
   ]
  },
  {
   "source": [
    "# type of the series"
   ],
   "cell_type": "markdown",
   "metadata": {}
  },
  {
   "cell_type": "code",
   "execution_count": 55,
   "metadata": {},
   "outputs": [
    {
     "output_type": "execute_result",
     "data": {
      "text/plain": [
       "pandas.core.series.Series"
      ]
     },
     "metadata": {},
     "execution_count": 55
    }
   ],
   "source": [
    "type(ser)"
   ]
  },
  {
   "source": [
    "# fequency in a series"
   ],
   "cell_type": "markdown",
   "metadata": {}
  },
  {
   "cell_type": "code",
   "execution_count": 56,
   "metadata": {},
   "outputs": [
    {
     "output_type": "execute_result",
     "data": {
      "text/plain": [
       "0    India\n",
       "1       US\n",
       "2    India\n",
       "3    China\n",
       "4    India\n",
       "dtype: object"
      ]
     },
     "metadata": {},
     "execution_count": 56
    }
   ],
   "source": [
    "ser4 = pd.Series(['India','US','India','China','India'])\n",
    "ser4"
   ]
  },
  {
   "cell_type": "code",
   "execution_count": 57,
   "metadata": {},
   "outputs": [
    {
     "output_type": "execute_result",
     "data": {
      "text/plain": [
       "India    3\n",
       "US       1\n",
       "China    1\n",
       "dtype: int64"
      ]
     },
     "metadata": {},
     "execution_count": 57
    }
   ],
   "source": [
    "ser4.value_counts()"
   ]
  },
  {
   "source": [
    "# finding the unique values in the series"
   ],
   "cell_type": "markdown",
   "metadata": {}
  },
  {
   "cell_type": "code",
   "execution_count": 58,
   "metadata": {},
   "outputs": [
    {
     "output_type": "execute_result",
     "data": {
      "text/plain": [
       "array(['India', 'US', 'China'], dtype=object)"
      ]
     },
     "metadata": {},
     "execution_count": 58
    }
   ],
   "source": [
    "ser4.unique()"
   ]
  },
  {
   "source": [
    "# finding number of unique elements in the series"
   ],
   "cell_type": "markdown",
   "metadata": {}
  },
  {
   "cell_type": "code",
   "execution_count": 59,
   "metadata": {},
   "outputs": [
    {
     "output_type": "execute_result",
     "data": {
      "text/plain": [
       "3"
      ]
     },
     "metadata": {},
     "execution_count": 59
    }
   ],
   "source": [
    "ser4.nunique() # there are three unique numbers present in the series"
   ]
  },
  {
   "source": [
    "# max and min in series"
   ],
   "cell_type": "markdown",
   "metadata": {}
  },
  {
   "cell_type": "code",
   "execution_count": 60,
   "metadata": {},
   "outputs": [
    {
     "output_type": "execute_result",
     "data": {
      "text/plain": [
       "'China'"
      ]
     },
     "metadata": {},
     "execution_count": 60
    }
   ],
   "source": [
    "ser4.min()"
   ]
  },
  {
   "cell_type": "code",
   "execution_count": 61,
   "metadata": {},
   "outputs": [
    {
     "output_type": "execute_result",
     "data": {
      "text/plain": [
       "'US'"
      ]
     },
     "metadata": {},
     "execution_count": 61
    }
   ],
   "source": [
    "ser4.max()"
   ]
  },
  {
   "source": [
    "# index of max or min in the series"
   ],
   "cell_type": "markdown",
   "metadata": {}
  },
  {
   "cell_type": "code",
   "execution_count": 62,
   "metadata": {},
   "outputs": [
    {
     "output_type": "execute_result",
     "data": {
      "text/plain": [
       "0      0\n",
       "1      1\n",
       "2      2\n",
       "3      3\n",
       "4      4\n",
       "5      5\n",
       "6      6\n",
       "7      7\n",
       "8      8\n",
       "9      9\n",
       "10    10\n",
       "11    11\n",
       "dtype: int32"
      ]
     },
     "metadata": {},
     "execution_count": 62
    }
   ],
   "source": [
    "ser"
   ]
  },
  {
   "cell_type": "code",
   "execution_count": 63,
   "metadata": {},
   "outputs": [
    {
     "output_type": "execute_result",
     "data": {
      "text/plain": [
       "11"
      ]
     },
     "metadata": {},
     "execution_count": 63
    }
   ],
   "source": [
    "ser.idxmax() # index for the minimum value"
   ]
  },
  {
   "cell_type": "code",
   "execution_count": 64,
   "metadata": {},
   "outputs": [
    {
     "output_type": "execute_result",
     "data": {
      "text/plain": [
       "0"
      ]
     },
     "metadata": {},
     "execution_count": 64
    }
   ],
   "source": [
    "ser.idxmin() # index for the maximum value"
   ]
  },
  {
   "source": [
    "# argmax and arg min are not allowed for object data type"
   ],
   "cell_type": "markdown",
   "metadata": {}
  },
  {
   "cell_type": "code",
   "execution_count": 65,
   "metadata": {},
   "outputs": [
    {
     "output_type": "error",
     "ename": "TypeError",
     "evalue": "reduction operation 'argmax' not allowed for this dtype",
     "traceback": [
      "\u001b[1;31m---------------------------------------------------------------------------\u001b[0m",
      "\u001b[1;31mTypeError\u001b[0m                                 Traceback (most recent call last)",
      "\u001b[1;32m<ipython-input-65-e08be4b93bc3>\u001b[0m in \u001b[0;36m<module>\u001b[1;34m\u001b[0m\n\u001b[1;32m----> 1\u001b[1;33m \u001b[0mser4\u001b[0m\u001b[1;33m.\u001b[0m\u001b[0margmax\u001b[0m\u001b[1;33m(\u001b[0m\u001b[1;33m)\u001b[0m\u001b[1;33m\u001b[0m\u001b[1;33m\u001b[0m\u001b[0m\n\u001b[0m",
      "\u001b[1;32m~\\anaconda3\\envs\\tf_2.4\\lib\\site-packages\\pandas\\core\\base.py\u001b[0m in \u001b[0;36margmax\u001b[1;34m(self, axis, skipna, *args, **kwargs)\u001b[0m\n\u001b[0;32m    718\u001b[0m         \u001b[0mnv\u001b[0m\u001b[1;33m.\u001b[0m\u001b[0mvalidate_minmax_axis\u001b[0m\u001b[1;33m(\u001b[0m\u001b[0maxis\u001b[0m\u001b[1;33m)\u001b[0m\u001b[1;33m\u001b[0m\u001b[1;33m\u001b[0m\u001b[0m\n\u001b[0;32m    719\u001b[0m         \u001b[0mnv\u001b[0m\u001b[1;33m.\u001b[0m\u001b[0mvalidate_argmax_with_skipna\u001b[0m\u001b[1;33m(\u001b[0m\u001b[0mskipna\u001b[0m\u001b[1;33m,\u001b[0m \u001b[0margs\u001b[0m\u001b[1;33m,\u001b[0m \u001b[0mkwargs\u001b[0m\u001b[1;33m)\u001b[0m\u001b[1;33m\u001b[0m\u001b[1;33m\u001b[0m\u001b[0m\n\u001b[1;32m--> 720\u001b[1;33m         \u001b[1;32mreturn\u001b[0m \u001b[0mnanops\u001b[0m\u001b[1;33m.\u001b[0m\u001b[0mnanargmax\u001b[0m\u001b[1;33m(\u001b[0m\u001b[0mself\u001b[0m\u001b[1;33m.\u001b[0m\u001b[0m_values\u001b[0m\u001b[1;33m,\u001b[0m \u001b[0mskipna\u001b[0m\u001b[1;33m=\u001b[0m\u001b[0mskipna\u001b[0m\u001b[1;33m)\u001b[0m\u001b[1;33m\u001b[0m\u001b[1;33m\u001b[0m\u001b[0m\n\u001b[0m\u001b[0;32m    721\u001b[0m \u001b[1;33m\u001b[0m\u001b[0m\n\u001b[0;32m    722\u001b[0m     \u001b[1;32mdef\u001b[0m \u001b[0mmin\u001b[0m\u001b[1;33m(\u001b[0m\u001b[0mself\u001b[0m\u001b[1;33m,\u001b[0m \u001b[0maxis\u001b[0m\u001b[1;33m=\u001b[0m\u001b[1;32mNone\u001b[0m\u001b[1;33m,\u001b[0m \u001b[0mskipna\u001b[0m\u001b[1;33m:\u001b[0m \u001b[0mbool\u001b[0m \u001b[1;33m=\u001b[0m \u001b[1;32mTrue\u001b[0m\u001b[1;33m,\u001b[0m \u001b[1;33m*\u001b[0m\u001b[0margs\u001b[0m\u001b[1;33m,\u001b[0m \u001b[1;33m**\u001b[0m\u001b[0mkwargs\u001b[0m\u001b[1;33m)\u001b[0m\u001b[1;33m:\u001b[0m\u001b[1;33m\u001b[0m\u001b[1;33m\u001b[0m\u001b[0m\n",
      "\u001b[1;32m~\\anaconda3\\envs\\tf_2.4\\lib\\site-packages\\pandas\\core\\nanops.py\u001b[0m in \u001b[0;36m_f\u001b[1;34m(*args, **kwargs)\u001b[0m\n\u001b[0;32m     64\u001b[0m             \u001b[1;32mif\u001b[0m \u001b[0many\u001b[0m\u001b[1;33m(\u001b[0m\u001b[0mself\u001b[0m\u001b[1;33m.\u001b[0m\u001b[0mcheck\u001b[0m\u001b[1;33m(\u001b[0m\u001b[0mobj\u001b[0m\u001b[1;33m)\u001b[0m \u001b[1;32mfor\u001b[0m \u001b[0mobj\u001b[0m \u001b[1;32min\u001b[0m \u001b[0mobj_iter\u001b[0m\u001b[1;33m)\u001b[0m\u001b[1;33m:\u001b[0m\u001b[1;33m\u001b[0m\u001b[1;33m\u001b[0m\u001b[0m\n\u001b[0;32m     65\u001b[0m                 \u001b[0mf_name\u001b[0m \u001b[1;33m=\u001b[0m \u001b[0mf\u001b[0m\u001b[1;33m.\u001b[0m\u001b[0m__name__\u001b[0m\u001b[1;33m.\u001b[0m\u001b[0mreplace\u001b[0m\u001b[1;33m(\u001b[0m\u001b[1;34m\"nan\"\u001b[0m\u001b[1;33m,\u001b[0m \u001b[1;34m\"\"\u001b[0m\u001b[1;33m)\u001b[0m\u001b[1;33m\u001b[0m\u001b[1;33m\u001b[0m\u001b[0m\n\u001b[1;32m---> 66\u001b[1;33m                 raise TypeError(\n\u001b[0m\u001b[0;32m     67\u001b[0m                     \u001b[1;34mf\"reduction operation '{f_name}' not allowed for this dtype\"\u001b[0m\u001b[1;33m\u001b[0m\u001b[1;33m\u001b[0m\u001b[0m\n\u001b[0;32m     68\u001b[0m                 )\n",
      "\u001b[1;31mTypeError\u001b[0m: reduction operation 'argmax' not allowed for this dtype"
     ]
    }
   ],
   "source": [
    "ser4.argmax()"
   ]
  },
  {
   "cell_type": "code",
   "execution_count": 66,
   "metadata": {},
   "outputs": [
    {
     "output_type": "error",
     "ename": "TypeError",
     "evalue": "reduction operation 'argmin' not allowed for this dtype",
     "traceback": [
      "\u001b[1;31m---------------------------------------------------------------------------\u001b[0m",
      "\u001b[1;31mTypeError\u001b[0m                                 Traceback (most recent call last)",
      "\u001b[1;32m<ipython-input-66-bda957f9b5a8>\u001b[0m in \u001b[0;36m<module>\u001b[1;34m\u001b[0m\n\u001b[1;32m----> 1\u001b[1;33m \u001b[0mser4\u001b[0m\u001b[1;33m.\u001b[0m\u001b[0margmin\u001b[0m\u001b[1;33m(\u001b[0m\u001b[1;33m)\u001b[0m\u001b[1;33m\u001b[0m\u001b[1;33m\u001b[0m\u001b[0m\n\u001b[0m",
      "\u001b[1;32m~\\anaconda3\\envs\\tf_2.4\\lib\\site-packages\\pandas\\core\\base.py\u001b[0m in \u001b[0;36margmin\u001b[1;34m(self, axis, skipna, *args, **kwargs)\u001b[0m\n\u001b[0;32m    768\u001b[0m         \u001b[0mnv\u001b[0m\u001b[1;33m.\u001b[0m\u001b[0mvalidate_minmax_axis\u001b[0m\u001b[1;33m(\u001b[0m\u001b[0maxis\u001b[0m\u001b[1;33m)\u001b[0m\u001b[1;33m\u001b[0m\u001b[1;33m\u001b[0m\u001b[0m\n\u001b[0;32m    769\u001b[0m         \u001b[0mnv\u001b[0m\u001b[1;33m.\u001b[0m\u001b[0mvalidate_argmax_with_skipna\u001b[0m\u001b[1;33m(\u001b[0m\u001b[0mskipna\u001b[0m\u001b[1;33m,\u001b[0m \u001b[0margs\u001b[0m\u001b[1;33m,\u001b[0m \u001b[0mkwargs\u001b[0m\u001b[1;33m)\u001b[0m\u001b[1;33m\u001b[0m\u001b[1;33m\u001b[0m\u001b[0m\n\u001b[1;32m--> 770\u001b[1;33m         \u001b[1;32mreturn\u001b[0m \u001b[0mnanops\u001b[0m\u001b[1;33m.\u001b[0m\u001b[0mnanargmin\u001b[0m\u001b[1;33m(\u001b[0m\u001b[0mself\u001b[0m\u001b[1;33m.\u001b[0m\u001b[0m_values\u001b[0m\u001b[1;33m,\u001b[0m \u001b[0mskipna\u001b[0m\u001b[1;33m=\u001b[0m\u001b[0mskipna\u001b[0m\u001b[1;33m)\u001b[0m\u001b[1;33m\u001b[0m\u001b[1;33m\u001b[0m\u001b[0m\n\u001b[0m\u001b[0;32m    771\u001b[0m \u001b[1;33m\u001b[0m\u001b[0m\n\u001b[0;32m    772\u001b[0m     \u001b[1;32mdef\u001b[0m \u001b[0mtolist\u001b[0m\u001b[1;33m(\u001b[0m\u001b[0mself\u001b[0m\u001b[1;33m)\u001b[0m\u001b[1;33m:\u001b[0m\u001b[1;33m\u001b[0m\u001b[1;33m\u001b[0m\u001b[0m\n",
      "\u001b[1;32m~\\anaconda3\\envs\\tf_2.4\\lib\\site-packages\\pandas\\core\\nanops.py\u001b[0m in \u001b[0;36m_f\u001b[1;34m(*args, **kwargs)\u001b[0m\n\u001b[0;32m     64\u001b[0m             \u001b[1;32mif\u001b[0m \u001b[0many\u001b[0m\u001b[1;33m(\u001b[0m\u001b[0mself\u001b[0m\u001b[1;33m.\u001b[0m\u001b[0mcheck\u001b[0m\u001b[1;33m(\u001b[0m\u001b[0mobj\u001b[0m\u001b[1;33m)\u001b[0m \u001b[1;32mfor\u001b[0m \u001b[0mobj\u001b[0m \u001b[1;32min\u001b[0m \u001b[0mobj_iter\u001b[0m\u001b[1;33m)\u001b[0m\u001b[1;33m:\u001b[0m\u001b[1;33m\u001b[0m\u001b[1;33m\u001b[0m\u001b[0m\n\u001b[0;32m     65\u001b[0m                 \u001b[0mf_name\u001b[0m \u001b[1;33m=\u001b[0m \u001b[0mf\u001b[0m\u001b[1;33m.\u001b[0m\u001b[0m__name__\u001b[0m\u001b[1;33m.\u001b[0m\u001b[0mreplace\u001b[0m\u001b[1;33m(\u001b[0m\u001b[1;34m\"nan\"\u001b[0m\u001b[1;33m,\u001b[0m \u001b[1;34m\"\"\u001b[0m\u001b[1;33m)\u001b[0m\u001b[1;33m\u001b[0m\u001b[1;33m\u001b[0m\u001b[0m\n\u001b[1;32m---> 66\u001b[1;33m                 raise TypeError(\n\u001b[0m\u001b[0;32m     67\u001b[0m                     \u001b[1;34mf\"reduction operation '{f_name}' not allowed for this dtype\"\u001b[0m\u001b[1;33m\u001b[0m\u001b[1;33m\u001b[0m\u001b[0m\n\u001b[0;32m     68\u001b[0m                 )\n",
      "\u001b[1;31mTypeError\u001b[0m: reduction operation 'argmin' not allowed for this dtype"
     ]
    }
   ],
   "source": [
    "ser4.argmin()"
   ]
  },
  {
   "cell_type": "code",
   "execution_count": 67,
   "metadata": {},
   "outputs": [],
   "source": [
    "ser = pd.Series(np.arange(0,4),index=['a','b','c','d'])"
   ]
  },
  {
   "cell_type": "code",
   "execution_count": 68,
   "metadata": {},
   "outputs": [
    {
     "output_type": "execute_result",
     "data": {
      "text/plain": [
       "2"
      ]
     },
     "metadata": {},
     "execution_count": 68
    }
   ],
   "source": [
    "ser['c']"
   ]
  },
  {
   "cell_type": "code",
   "execution_count": 69,
   "metadata": {},
   "outputs": [
    {
     "output_type": "execute_result",
     "data": {
      "text/plain": [
       "2"
      ]
     },
     "metadata": {},
     "execution_count": 69
    }
   ],
   "source": [
    "ser.loc['c']"
   ]
  },
  {
   "cell_type": "code",
   "execution_count": 70,
   "metadata": {},
   "outputs": [],
   "source": [
    "# iloc only works on the integer index"
   ]
  },
  {
   "cell_type": "code",
   "execution_count": 71,
   "metadata": {},
   "outputs": [
    {
     "output_type": "error",
     "ename": "TypeError",
     "evalue": "Cannot index by location index with a non-integer key",
     "traceback": [
      "\u001b[1;31m---------------------------------------------------------------------------\u001b[0m",
      "\u001b[1;31mTypeError\u001b[0m                                 Traceback (most recent call last)",
      "\u001b[1;32m<ipython-input-71-a1846517c0fd>\u001b[0m in \u001b[0;36m<module>\u001b[1;34m\u001b[0m\n\u001b[1;32m----> 1\u001b[1;33m \u001b[0mser\u001b[0m\u001b[1;33m.\u001b[0m\u001b[0miloc\u001b[0m\u001b[1;33m[\u001b[0m\u001b[1;34m'c'\u001b[0m\u001b[1;33m]\u001b[0m\u001b[1;33m\u001b[0m\u001b[1;33m\u001b[0m\u001b[0m\n\u001b[0m",
      "\u001b[1;32m~\\anaconda3\\envs\\tf_2.4\\lib\\site-packages\\pandas\\core\\indexing.py\u001b[0m in \u001b[0;36m__getitem__\u001b[1;34m(self, key)\u001b[0m\n\u001b[0;32m    893\u001b[0m \u001b[1;33m\u001b[0m\u001b[0m\n\u001b[0;32m    894\u001b[0m             \u001b[0mmaybe_callable\u001b[0m \u001b[1;33m=\u001b[0m \u001b[0mcom\u001b[0m\u001b[1;33m.\u001b[0m\u001b[0mapply_if_callable\u001b[0m\u001b[1;33m(\u001b[0m\u001b[0mkey\u001b[0m\u001b[1;33m,\u001b[0m \u001b[0mself\u001b[0m\u001b[1;33m.\u001b[0m\u001b[0mobj\u001b[0m\u001b[1;33m)\u001b[0m\u001b[1;33m\u001b[0m\u001b[1;33m\u001b[0m\u001b[0m\n\u001b[1;32m--> 895\u001b[1;33m             \u001b[1;32mreturn\u001b[0m \u001b[0mself\u001b[0m\u001b[1;33m.\u001b[0m\u001b[0m_getitem_axis\u001b[0m\u001b[1;33m(\u001b[0m\u001b[0mmaybe_callable\u001b[0m\u001b[1;33m,\u001b[0m \u001b[0maxis\u001b[0m\u001b[1;33m=\u001b[0m\u001b[0maxis\u001b[0m\u001b[1;33m)\u001b[0m\u001b[1;33m\u001b[0m\u001b[1;33m\u001b[0m\u001b[0m\n\u001b[0m\u001b[0;32m    896\u001b[0m \u001b[1;33m\u001b[0m\u001b[0m\n\u001b[0;32m    897\u001b[0m     \u001b[1;32mdef\u001b[0m \u001b[0m_is_scalar_access\u001b[0m\u001b[1;33m(\u001b[0m\u001b[0mself\u001b[0m\u001b[1;33m,\u001b[0m \u001b[0mkey\u001b[0m\u001b[1;33m:\u001b[0m \u001b[0mTuple\u001b[0m\u001b[1;33m)\u001b[0m\u001b[1;33m:\u001b[0m\u001b[1;33m\u001b[0m\u001b[1;33m\u001b[0m\u001b[0m\n",
      "\u001b[1;32m~\\anaconda3\\envs\\tf_2.4\\lib\\site-packages\\pandas\\core\\indexing.py\u001b[0m in \u001b[0;36m_getitem_axis\u001b[1;34m(self, key, axis)\u001b[0m\n\u001b[0;32m   1496\u001b[0m             \u001b[0mkey\u001b[0m \u001b[1;33m=\u001b[0m \u001b[0mitem_from_zerodim\u001b[0m\u001b[1;33m(\u001b[0m\u001b[0mkey\u001b[0m\u001b[1;33m)\u001b[0m\u001b[1;33m\u001b[0m\u001b[1;33m\u001b[0m\u001b[0m\n\u001b[0;32m   1497\u001b[0m             \u001b[1;32mif\u001b[0m \u001b[1;32mnot\u001b[0m \u001b[0mis_integer\u001b[0m\u001b[1;33m(\u001b[0m\u001b[0mkey\u001b[0m\u001b[1;33m)\u001b[0m\u001b[1;33m:\u001b[0m\u001b[1;33m\u001b[0m\u001b[1;33m\u001b[0m\u001b[0m\n\u001b[1;32m-> 1498\u001b[1;33m                 \u001b[1;32mraise\u001b[0m \u001b[0mTypeError\u001b[0m\u001b[1;33m(\u001b[0m\u001b[1;34m\"Cannot index by location index with a non-integer key\"\u001b[0m\u001b[1;33m)\u001b[0m\u001b[1;33m\u001b[0m\u001b[1;33m\u001b[0m\u001b[0m\n\u001b[0m\u001b[0;32m   1499\u001b[0m \u001b[1;33m\u001b[0m\u001b[0m\n\u001b[0;32m   1500\u001b[0m             \u001b[1;31m# validate the location\u001b[0m\u001b[1;33m\u001b[0m\u001b[1;33m\u001b[0m\u001b[1;33m\u001b[0m\u001b[0m\n",
      "\u001b[1;31mTypeError\u001b[0m: Cannot index by location index with a non-integer key"
     ]
    }
   ],
   "source": [
    "ser.iloc['c']"
   ]
  },
  {
   "source": [
    "# convert the elements of the series to a list"
   ],
   "cell_type": "markdown",
   "metadata": {}
  },
  {
   "cell_type": "code",
   "execution_count": 72,
   "metadata": {},
   "outputs": [
    {
     "output_type": "execute_result",
     "data": {
      "text/plain": [
       "['India', 'US', 'India', 'China', 'India']"
      ]
     },
     "metadata": {},
     "execution_count": 72
    }
   ],
   "source": [
    "ser4.tolist()"
   ]
  },
  {
   "source": [
    "# dictonary to pandas series"
   ],
   "cell_type": "markdown",
   "metadata": {}
  },
  {
   "cell_type": "code",
   "execution_count": 73,
   "metadata": {},
   "outputs": [],
   "source": [
    "data = {'A1':'India','A2':'China','A3':'US','A4':'Chile'}"
   ]
  },
  {
   "cell_type": "code",
   "execution_count": 74,
   "metadata": {},
   "outputs": [
    {
     "output_type": "execute_result",
     "data": {
      "text/plain": [
       "    0      1\n",
       "0  A1  India\n",
       "1  A2  China\n",
       "2  A3     US\n",
       "3  A4  Chile"
      ],
      "text/html": "<div>\n<style scoped>\n    .dataframe tbody tr th:only-of-type {\n        vertical-align: middle;\n    }\n\n    .dataframe tbody tr th {\n        vertical-align: top;\n    }\n\n    .dataframe thead th {\n        text-align: right;\n    }\n</style>\n<table border=\"1\" class=\"dataframe\">\n  <thead>\n    <tr style=\"text-align: right;\">\n      <th></th>\n      <th>0</th>\n      <th>1</th>\n    </tr>\n  </thead>\n  <tbody>\n    <tr>\n      <th>0</th>\n      <td>A1</td>\n      <td>India</td>\n    </tr>\n    <tr>\n      <th>1</th>\n      <td>A2</td>\n      <td>China</td>\n    </tr>\n    <tr>\n      <th>2</th>\n      <td>A3</td>\n      <td>US</td>\n    </tr>\n    <tr>\n      <th>3</th>\n      <td>A4</td>\n      <td>Chile</td>\n    </tr>\n  </tbody>\n</table>\n</div>"
     },
     "metadata": {},
     "execution_count": 74
    }
   ],
   "source": [
    "pd.DataFrame(data.items())"
   ]
  },
  {
   "source": [
    "# numpy arrays to dataframe"
   ],
   "cell_type": "markdown",
   "metadata": {}
  },
  {
   "cell_type": "code",
   "execution_count": 75,
   "metadata": {},
   "outputs": [],
   "source": [
    "df = pd.DataFrame(np.arange(0,50,3)) # numpy array to a dataframe"
   ]
  },
  {
   "cell_type": "code",
   "execution_count": 76,
   "metadata": {},
   "outputs": [
    {
     "output_type": "execute_result",
     "data": {
      "text/plain": [
       "pandas.core.frame.DataFrame"
      ]
     },
     "metadata": {},
     "execution_count": 76
    }
   ],
   "source": [
    "type(df)"
   ]
  },
  {
   "source": [
    "# converting from a list to a dataframe"
   ],
   "cell_type": "markdown",
   "metadata": {}
  },
  {
   "cell_type": "code",
   "execution_count": 77,
   "metadata": {},
   "outputs": [],
   "source": [
    "df1 = pd.DataFrame(['India','US','India','China','India'])"
   ]
  },
  {
   "cell_type": "code",
   "execution_count": 78,
   "metadata": {},
   "outputs": [
    {
     "output_type": "execute_result",
     "data": {
      "text/plain": [
       "       0\n",
       "0  India\n",
       "1     US\n",
       "2  India\n",
       "3  China\n",
       "4  India"
      ],
      "text/html": "<div>\n<style scoped>\n    .dataframe tbody tr th:only-of-type {\n        vertical-align: middle;\n    }\n\n    .dataframe tbody tr th {\n        vertical-align: top;\n    }\n\n    .dataframe thead th {\n        text-align: right;\n    }\n</style>\n<table border=\"1\" class=\"dataframe\">\n  <thead>\n    <tr style=\"text-align: right;\">\n      <th></th>\n      <th>0</th>\n    </tr>\n  </thead>\n  <tbody>\n    <tr>\n      <th>0</th>\n      <td>India</td>\n    </tr>\n    <tr>\n      <th>1</th>\n      <td>US</td>\n    </tr>\n    <tr>\n      <th>2</th>\n      <td>India</td>\n    </tr>\n    <tr>\n      <th>3</th>\n      <td>China</td>\n    </tr>\n    <tr>\n      <th>4</th>\n      <td>India</td>\n    </tr>\n  </tbody>\n</table>\n</div>"
     },
     "metadata": {},
     "execution_count": 78
    }
   ],
   "source": [
    "df1"
   ]
  },
  {
   "cell_type": "code",
   "execution_count": 79,
   "metadata": {},
   "outputs": [],
   "source": [
    "df1['new'] = np.arange(0,5)"
   ]
  },
  {
   "cell_type": "code",
   "execution_count": 80,
   "metadata": {},
   "outputs": [],
   "source": [
    "df1[['new1','new2']] = 12,12"
   ]
  },
  {
   "source": [
    "# reading dataframe in jupyter notebook"
   ],
   "cell_type": "markdown",
   "metadata": {}
  },
  {
   "cell_type": "code",
   "execution_count": 81,
   "metadata": {},
   "outputs": [],
   "source": [
    "df = pd.read_csv(r'dm.csv')"
   ]
  },
  {
   "cell_type": "code",
   "execution_count": 82,
   "metadata": {},
   "outputs": [
    {
     "output_type": "execute_result",
     "data": {
      "text/plain": [
       "pandas.core.frame.DataFrame"
      ]
     },
     "metadata": {},
     "execution_count": 82
    }
   ],
   "source": [
    "type(df)"
   ]
  },
  {
   "cell_type": "code",
   "execution_count": 83,
   "metadata": {},
   "outputs": [
    {
     "output_type": "execute_result",
     "data": {
      "text/plain": [
       "      Age  Gender OwnHome  Married Location  Salary  Children History  \\\n",
       "0     Old  Female     Own   Single      Far   47500         0    High   \n",
       "1  Middle    Male    Rent   Single    Close   63600         0    High   \n",
       "2   Young  Female    Rent   Single    Close   13500         0     Low   \n",
       "3  Middle    Male     Own  Married    Close   85600         1    High   \n",
       "4  Middle  Female     Own   Single    Close   68400         0    High   \n",
       "\n",
       "   Catalogs  AmountSpent  Cust_Id  \n",
       "0         6          755      247  \n",
       "1         6         1318      127  \n",
       "2        18          296      479  \n",
       "3        18         2436      475  \n",
       "4        12         1304      151  "
      ],
      "text/html": "<div>\n<style scoped>\n    .dataframe tbody tr th:only-of-type {\n        vertical-align: middle;\n    }\n\n    .dataframe tbody tr th {\n        vertical-align: top;\n    }\n\n    .dataframe thead th {\n        text-align: right;\n    }\n</style>\n<table border=\"1\" class=\"dataframe\">\n  <thead>\n    <tr style=\"text-align: right;\">\n      <th></th>\n      <th>Age</th>\n      <th>Gender</th>\n      <th>OwnHome</th>\n      <th>Married</th>\n      <th>Location</th>\n      <th>Salary</th>\n      <th>Children</th>\n      <th>History</th>\n      <th>Catalogs</th>\n      <th>AmountSpent</th>\n      <th>Cust_Id</th>\n    </tr>\n  </thead>\n  <tbody>\n    <tr>\n      <th>0</th>\n      <td>Old</td>\n      <td>Female</td>\n      <td>Own</td>\n      <td>Single</td>\n      <td>Far</td>\n      <td>47500</td>\n      <td>0</td>\n      <td>High</td>\n      <td>6</td>\n      <td>755</td>\n      <td>247</td>\n    </tr>\n    <tr>\n      <th>1</th>\n      <td>Middle</td>\n      <td>Male</td>\n      <td>Rent</td>\n      <td>Single</td>\n      <td>Close</td>\n      <td>63600</td>\n      <td>0</td>\n      <td>High</td>\n      <td>6</td>\n      <td>1318</td>\n      <td>127</td>\n    </tr>\n    <tr>\n      <th>2</th>\n      <td>Young</td>\n      <td>Female</td>\n      <td>Rent</td>\n      <td>Single</td>\n      <td>Close</td>\n      <td>13500</td>\n      <td>0</td>\n      <td>Low</td>\n      <td>18</td>\n      <td>296</td>\n      <td>479</td>\n    </tr>\n    <tr>\n      <th>3</th>\n      <td>Middle</td>\n      <td>Male</td>\n      <td>Own</td>\n      <td>Married</td>\n      <td>Close</td>\n      <td>85600</td>\n      <td>1</td>\n      <td>High</td>\n      <td>18</td>\n      <td>2436</td>\n      <td>475</td>\n    </tr>\n    <tr>\n      <th>4</th>\n      <td>Middle</td>\n      <td>Female</td>\n      <td>Own</td>\n      <td>Single</td>\n      <td>Close</td>\n      <td>68400</td>\n      <td>0</td>\n      <td>High</td>\n      <td>12</td>\n      <td>1304</td>\n      <td>151</td>\n    </tr>\n  </tbody>\n</table>\n</div>"
     },
     "metadata": {},
     "execution_count": 83
    }
   ],
   "source": [
    "df.head()"
   ]
  },
  {
   "cell_type": "code",
   "execution_count": 84,
   "metadata": {},
   "outputs": [
    {
     "output_type": "execute_result",
     "data": {
      "text/plain": [
       "        Age  Gender OwnHome  Married Location  Salary  Children History  \\\n",
       "995   Young  Female    Rent   Single    Close   19400         1     NaN   \n",
       "996  Middle    Male    Rent   Single      Far   40500         1     NaN   \n",
       "997     Old    Male     Own   Single    Close   44800         0  Medium   \n",
       "998  Middle    Male     Own  Married    Close   79000         2  Medium   \n",
       "999   Young    Male    Rent  Married    Close   53600         1  Medium   \n",
       "\n",
       "     Catalogs  AmountSpent  Cust_Id  \n",
       "995        18          384      190  \n",
       "996        18         1073      510  \n",
       "997        24         1417      725  \n",
       "998        18          671     1034  \n",
       "999        24          973     1203  "
      ],
      "text/html": "<div>\n<style scoped>\n    .dataframe tbody tr th:only-of-type {\n        vertical-align: middle;\n    }\n\n    .dataframe tbody tr th {\n        vertical-align: top;\n    }\n\n    .dataframe thead th {\n        text-align: right;\n    }\n</style>\n<table border=\"1\" class=\"dataframe\">\n  <thead>\n    <tr style=\"text-align: right;\">\n      <th></th>\n      <th>Age</th>\n      <th>Gender</th>\n      <th>OwnHome</th>\n      <th>Married</th>\n      <th>Location</th>\n      <th>Salary</th>\n      <th>Children</th>\n      <th>History</th>\n      <th>Catalogs</th>\n      <th>AmountSpent</th>\n      <th>Cust_Id</th>\n    </tr>\n  </thead>\n  <tbody>\n    <tr>\n      <th>995</th>\n      <td>Young</td>\n      <td>Female</td>\n      <td>Rent</td>\n      <td>Single</td>\n      <td>Close</td>\n      <td>19400</td>\n      <td>1</td>\n      <td>NaN</td>\n      <td>18</td>\n      <td>384</td>\n      <td>190</td>\n    </tr>\n    <tr>\n      <th>996</th>\n      <td>Middle</td>\n      <td>Male</td>\n      <td>Rent</td>\n      <td>Single</td>\n      <td>Far</td>\n      <td>40500</td>\n      <td>1</td>\n      <td>NaN</td>\n      <td>18</td>\n      <td>1073</td>\n      <td>510</td>\n    </tr>\n    <tr>\n      <th>997</th>\n      <td>Old</td>\n      <td>Male</td>\n      <td>Own</td>\n      <td>Single</td>\n      <td>Close</td>\n      <td>44800</td>\n      <td>0</td>\n      <td>Medium</td>\n      <td>24</td>\n      <td>1417</td>\n      <td>725</td>\n    </tr>\n    <tr>\n      <th>998</th>\n      <td>Middle</td>\n      <td>Male</td>\n      <td>Own</td>\n      <td>Married</td>\n      <td>Close</td>\n      <td>79000</td>\n      <td>2</td>\n      <td>Medium</td>\n      <td>18</td>\n      <td>671</td>\n      <td>1034</td>\n    </tr>\n    <tr>\n      <th>999</th>\n      <td>Young</td>\n      <td>Male</td>\n      <td>Rent</td>\n      <td>Married</td>\n      <td>Close</td>\n      <td>53600</td>\n      <td>1</td>\n      <td>Medium</td>\n      <td>24</td>\n      <td>973</td>\n      <td>1203</td>\n    </tr>\n  </tbody>\n</table>\n</div>"
     },
     "metadata": {},
     "execution_count": 84
    }
   ],
   "source": [
    "df.tail()"
   ]
  },
  {
   "source": [
    "# getting the columns of the dataframe"
   ],
   "cell_type": "markdown",
   "metadata": {}
  },
  {
   "cell_type": "code",
   "execution_count": 85,
   "metadata": {},
   "outputs": [
    {
     "output_type": "execute_result",
     "data": {
      "text/plain": [
       "Index(['Age', 'Gender', 'OwnHome', 'Married', 'Location', 'Salary', 'Children',\n",
       "       'History', 'Catalogs', 'AmountSpent', 'Cust_Id'],\n",
       "      dtype='object')"
      ]
     },
     "metadata": {},
     "execution_count": 85
    }
   ],
   "source": [
    "df.columns"
   ]
  },
  {
   "cell_type": "code",
   "execution_count": 86,
   "metadata": {},
   "outputs": [
    {
     "output_type": "execute_result",
     "data": {
      "text/plain": [
       "RangeIndex(start=0, stop=1000, step=1)"
      ]
     },
     "metadata": {},
     "execution_count": 86
    }
   ],
   "source": [
    "df.index"
   ]
  },
  {
   "cell_type": "code",
   "execution_count": 87,
   "metadata": {},
   "outputs": [
    {
     "output_type": "execute_result",
     "data": {
      "text/plain": [
       "        Age  Gender OwnHome  Married Location  Salary  Children History  \\\n",
       "0       Old  Female     Own   Single      Far   47500         0    High   \n",
       "1    Middle    Male    Rent   Single    Close   63600         0    High   \n",
       "2     Young  Female    Rent   Single    Close   13500         0     Low   \n",
       "3    Middle    Male     Own  Married    Close   85600         1    High   \n",
       "4    Middle  Female     Own   Single    Close   68400         0    High   \n",
       "..      ...     ...     ...      ...      ...     ...       ...     ...   \n",
       "995   Young  Female    Rent   Single    Close   19400         1     NaN   \n",
       "996  Middle    Male    Rent   Single      Far   40500         1     NaN   \n",
       "997     Old    Male     Own   Single    Close   44800         0  Medium   \n",
       "998  Middle    Male     Own  Married    Close   79000         2  Medium   \n",
       "999   Young    Male    Rent  Married    Close   53600         1  Medium   \n",
       "\n",
       "     Catalogs  AmountSpent  Cust_Id  \n",
       "0           6          755      247  \n",
       "1           6         1318      127  \n",
       "2          18          296      479  \n",
       "3          18         2436      475  \n",
       "4          12         1304      151  \n",
       "..        ...          ...      ...  \n",
       "995        18          384      190  \n",
       "996        18         1073      510  \n",
       "997        24         1417      725  \n",
       "998        18          671     1034  \n",
       "999        24          973     1203  \n",
       "\n",
       "[1000 rows x 11 columns]"
      ],
      "text/html": "<div>\n<style scoped>\n    .dataframe tbody tr th:only-of-type {\n        vertical-align: middle;\n    }\n\n    .dataframe tbody tr th {\n        vertical-align: top;\n    }\n\n    .dataframe thead th {\n        text-align: right;\n    }\n</style>\n<table border=\"1\" class=\"dataframe\">\n  <thead>\n    <tr style=\"text-align: right;\">\n      <th></th>\n      <th>Age</th>\n      <th>Gender</th>\n      <th>OwnHome</th>\n      <th>Married</th>\n      <th>Location</th>\n      <th>Salary</th>\n      <th>Children</th>\n      <th>History</th>\n      <th>Catalogs</th>\n      <th>AmountSpent</th>\n      <th>Cust_Id</th>\n    </tr>\n  </thead>\n  <tbody>\n    <tr>\n      <th>0</th>\n      <td>Old</td>\n      <td>Female</td>\n      <td>Own</td>\n      <td>Single</td>\n      <td>Far</td>\n      <td>47500</td>\n      <td>0</td>\n      <td>High</td>\n      <td>6</td>\n      <td>755</td>\n      <td>247</td>\n    </tr>\n    <tr>\n      <th>1</th>\n      <td>Middle</td>\n      <td>Male</td>\n      <td>Rent</td>\n      <td>Single</td>\n      <td>Close</td>\n      <td>63600</td>\n      <td>0</td>\n      <td>High</td>\n      <td>6</td>\n      <td>1318</td>\n      <td>127</td>\n    </tr>\n    <tr>\n      <th>2</th>\n      <td>Young</td>\n      <td>Female</td>\n      <td>Rent</td>\n      <td>Single</td>\n      <td>Close</td>\n      <td>13500</td>\n      <td>0</td>\n      <td>Low</td>\n      <td>18</td>\n      <td>296</td>\n      <td>479</td>\n    </tr>\n    <tr>\n      <th>3</th>\n      <td>Middle</td>\n      <td>Male</td>\n      <td>Own</td>\n      <td>Married</td>\n      <td>Close</td>\n      <td>85600</td>\n      <td>1</td>\n      <td>High</td>\n      <td>18</td>\n      <td>2436</td>\n      <td>475</td>\n    </tr>\n    <tr>\n      <th>4</th>\n      <td>Middle</td>\n      <td>Female</td>\n      <td>Own</td>\n      <td>Single</td>\n      <td>Close</td>\n      <td>68400</td>\n      <td>0</td>\n      <td>High</td>\n      <td>12</td>\n      <td>1304</td>\n      <td>151</td>\n    </tr>\n    <tr>\n      <th>...</th>\n      <td>...</td>\n      <td>...</td>\n      <td>...</td>\n      <td>...</td>\n      <td>...</td>\n      <td>...</td>\n      <td>...</td>\n      <td>...</td>\n      <td>...</td>\n      <td>...</td>\n      <td>...</td>\n    </tr>\n    <tr>\n      <th>995</th>\n      <td>Young</td>\n      <td>Female</td>\n      <td>Rent</td>\n      <td>Single</td>\n      <td>Close</td>\n      <td>19400</td>\n      <td>1</td>\n      <td>NaN</td>\n      <td>18</td>\n      <td>384</td>\n      <td>190</td>\n    </tr>\n    <tr>\n      <th>996</th>\n      <td>Middle</td>\n      <td>Male</td>\n      <td>Rent</td>\n      <td>Single</td>\n      <td>Far</td>\n      <td>40500</td>\n      <td>1</td>\n      <td>NaN</td>\n      <td>18</td>\n      <td>1073</td>\n      <td>510</td>\n    </tr>\n    <tr>\n      <th>997</th>\n      <td>Old</td>\n      <td>Male</td>\n      <td>Own</td>\n      <td>Single</td>\n      <td>Close</td>\n      <td>44800</td>\n      <td>0</td>\n      <td>Medium</td>\n      <td>24</td>\n      <td>1417</td>\n      <td>725</td>\n    </tr>\n    <tr>\n      <th>998</th>\n      <td>Middle</td>\n      <td>Male</td>\n      <td>Own</td>\n      <td>Married</td>\n      <td>Close</td>\n      <td>79000</td>\n      <td>2</td>\n      <td>Medium</td>\n      <td>18</td>\n      <td>671</td>\n      <td>1034</td>\n    </tr>\n    <tr>\n      <th>999</th>\n      <td>Young</td>\n      <td>Male</td>\n      <td>Rent</td>\n      <td>Married</td>\n      <td>Close</td>\n      <td>53600</td>\n      <td>1</td>\n      <td>Medium</td>\n      <td>24</td>\n      <td>973</td>\n      <td>1203</td>\n    </tr>\n  </tbody>\n</table>\n<p>1000 rows × 11 columns</p>\n</div>"
     },
     "metadata": {},
     "execution_count": 87
    }
   ],
   "source": [
    "df"
   ]
  },
  {
   "cell_type": "code",
   "execution_count": 88,
   "metadata": {},
   "outputs": [
    {
     "output_type": "execute_result",
     "data": {
      "text/plain": [
       "(1000, 11)"
      ]
     },
     "metadata": {},
     "execution_count": 88
    }
   ],
   "source": [
    "df.shape"
   ]
  },
  {
   "source": [
    "# Select only one row from the data frame"
   ],
   "cell_type": "markdown",
   "metadata": {}
  },
  {
   "cell_type": "code",
   "execution_count": 91,
   "metadata": {},
   "outputs": [
    {
     "output_type": "execute_result",
     "data": {
      "text/plain": [
       "0         Old\n",
       "1      Middle\n",
       "2       Young\n",
       "3      Middle\n",
       "4      Middle\n",
       "        ...  \n",
       "995     Young\n",
       "996    Middle\n",
       "997       Old\n",
       "998    Middle\n",
       "999     Young\n",
       "Name: Age, Length: 1000, dtype: object"
      ]
     },
     "metadata": {},
     "execution_count": 91
    }
   ],
   "source": [
    "df['Age'] # each and every column of a dataframa is a series"
   ]
  },
  {
   "cell_type": "code",
   "execution_count": 92,
   "metadata": {},
   "outputs": [
    {
     "output_type": "execute_result",
     "data": {
      "text/plain": [
       "pandas.core.series.Series"
      ]
     },
     "metadata": {},
     "execution_count": 92
    }
   ],
   "source": [
    "type(df['Age'])"
   ]
  },
  {
   "cell_type": "code",
   "execution_count": 93,
   "metadata": {},
   "outputs": [
    {
     "output_type": "execute_result",
     "data": {
      "text/plain": [
       "True"
      ]
     },
     "metadata": {},
     "execution_count": 93
    }
   ],
   "source": [
    "isinstance(df['Age'],pd.Series)"
   ]
  },
  {
   "source": [
    "# get two columns"
   ],
   "cell_type": "markdown",
   "metadata": {}
  },
  {
   "cell_type": "code",
   "execution_count": 101,
   "metadata": {},
   "outputs": [
    {
     "output_type": "execute_result",
     "data": {
      "text/plain": [
       "     Gender  Salary\n",
       "0    Female   47500\n",
       "1      Male   63600\n",
       "2    Female   13500\n",
       "3      Male   85600\n",
       "4    Female   68400\n",
       "..      ...     ...\n",
       "995  Female   19400\n",
       "996    Male   40500\n",
       "997    Male   44800\n",
       "998    Male   79000\n",
       "999    Male   53600\n",
       "\n",
       "[1000 rows x 2 columns]"
      ],
      "text/html": "<div>\n<style scoped>\n    .dataframe tbody tr th:only-of-type {\n        vertical-align: middle;\n    }\n\n    .dataframe tbody tr th {\n        vertical-align: top;\n    }\n\n    .dataframe thead th {\n        text-align: right;\n    }\n</style>\n<table border=\"1\" class=\"dataframe\">\n  <thead>\n    <tr style=\"text-align: right;\">\n      <th></th>\n      <th>Gender</th>\n      <th>Salary</th>\n    </tr>\n  </thead>\n  <tbody>\n    <tr>\n      <th>0</th>\n      <td>Female</td>\n      <td>47500</td>\n    </tr>\n    <tr>\n      <th>1</th>\n      <td>Male</td>\n      <td>63600</td>\n    </tr>\n    <tr>\n      <th>2</th>\n      <td>Female</td>\n      <td>13500</td>\n    </tr>\n    <tr>\n      <th>3</th>\n      <td>Male</td>\n      <td>85600</td>\n    </tr>\n    <tr>\n      <th>4</th>\n      <td>Female</td>\n      <td>68400</td>\n    </tr>\n    <tr>\n      <th>...</th>\n      <td>...</td>\n      <td>...</td>\n    </tr>\n    <tr>\n      <th>995</th>\n      <td>Female</td>\n      <td>19400</td>\n    </tr>\n    <tr>\n      <th>996</th>\n      <td>Male</td>\n      <td>40500</td>\n    </tr>\n    <tr>\n      <th>997</th>\n      <td>Male</td>\n      <td>44800</td>\n    </tr>\n    <tr>\n      <th>998</th>\n      <td>Male</td>\n      <td>79000</td>\n    </tr>\n    <tr>\n      <th>999</th>\n      <td>Male</td>\n      <td>53600</td>\n    </tr>\n  </tbody>\n</table>\n<p>1000 rows × 2 columns</p>\n</div>"
     },
     "metadata": {},
     "execution_count": 101
    }
   ],
   "source": [
    "df[['Gender','Salary']] # to get multiple columns we pass the column names as lists\n",
    "\n",
    "# multiple columns returns dataframes"
   ]
  },
  {
   "cell_type": "code",
   "execution_count": 102,
   "metadata": {},
   "outputs": [
    {
     "output_type": "execute_result",
     "data": {
      "text/plain": [
       "pandas.core.frame.DataFrame"
      ]
     },
     "metadata": {},
     "execution_count": 102
    }
   ],
   "source": [
    "type(df[['Gender','Salary']])"
   ]
  },
  {
   "cell_type": "code",
   "execution_count": 103,
   "metadata": {},
   "outputs": [
    {
     "output_type": "execute_result",
     "data": {
      "text/plain": [
       "True"
      ]
     },
     "metadata": {},
     "execution_count": 103
    }
   ],
   "source": [
    "isinstance(df[['Gender','Salary']],pd.DataFrame)"
   ]
  },
  {
   "cell_type": "code",
   "execution_count": 104,
   "metadata": {},
   "outputs": [
    {
     "output_type": "execute_result",
     "data": {
      "text/plain": [
       "pandas.core.frame.DataFrame"
      ]
     },
     "metadata": {},
     "execution_count": 104
    }
   ],
   "source": [
    "pd.DataFrame"
   ]
  },
  {
   "source": [
    "# get data columns and data types"
   ],
   "cell_type": "markdown",
   "metadata": {}
  },
  {
   "cell_type": "code",
   "execution_count": 107,
   "metadata": {},
   "outputs": [
    {
     "output_type": "stream",
     "name": "stdout",
     "text": [
      "<class 'pandas.core.frame.DataFrame'>\nRangeIndex: 1000 entries, 0 to 999\nData columns (total 11 columns):\n #   Column       Non-Null Count  Dtype \n---  ------       --------------  ----- \n 0   Age          1000 non-null   object\n 1   Gender       1000 non-null   object\n 2   OwnHome      1000 non-null   object\n 3   Married      1000 non-null   object\n 4   Location     1000 non-null   object\n 5   Salary       1000 non-null   int64 \n 6   Children     1000 non-null   int64 \n 7   History      697 non-null    object\n 8   Catalogs     1000 non-null   int64 \n 9   AmountSpent  1000 non-null   int64 \n 10  Cust_Id      1000 non-null   int64 \ndtypes: int64(5), object(6)\nmemory usage: 86.1+ KB\n"
     ]
    }
   ],
   "source": [
    "df.info()"
   ]
  },
  {
   "source": [
    "# describing the dataset"
   ],
   "cell_type": "markdown",
   "metadata": {}
  },
  {
   "cell_type": "code",
   "execution_count": 109,
   "metadata": {},
   "outputs": [
    {
     "output_type": "execute_result",
     "data": {
      "text/plain": [
       "              Salary    Children     Catalogs  AmountSpent      Cust_Id\n",
       "count    1000.000000  1000.00000  1000.000000  1000.000000  1000.000000\n",
       "mean    56103.900000     0.93400    14.682000  1216.770000   643.930000\n",
       "std     30616.314826     1.05107     6.622895   961.068613   369.047166\n",
       "min     10100.000000     0.00000     6.000000    38.000000    12.000000\n",
       "25%     29975.000000     0.00000     6.000000   488.250000   316.750000\n",
       "50%     53700.000000     1.00000    12.000000   962.000000   636.000000\n",
       "75%     77025.000000     2.00000    18.000000  1688.500000   955.500000\n",
       "max    168800.000000     3.00000    24.000000  6217.000000  1297.000000"
      ],
      "text/html": "<div>\n<style scoped>\n    .dataframe tbody tr th:only-of-type {\n        vertical-align: middle;\n    }\n\n    .dataframe tbody tr th {\n        vertical-align: top;\n    }\n\n    .dataframe thead th {\n        text-align: right;\n    }\n</style>\n<table border=\"1\" class=\"dataframe\">\n  <thead>\n    <tr style=\"text-align: right;\">\n      <th></th>\n      <th>Salary</th>\n      <th>Children</th>\n      <th>Catalogs</th>\n      <th>AmountSpent</th>\n      <th>Cust_Id</th>\n    </tr>\n  </thead>\n  <tbody>\n    <tr>\n      <th>count</th>\n      <td>1000.000000</td>\n      <td>1000.00000</td>\n      <td>1000.000000</td>\n      <td>1000.000000</td>\n      <td>1000.000000</td>\n    </tr>\n    <tr>\n      <th>mean</th>\n      <td>56103.900000</td>\n      <td>0.93400</td>\n      <td>14.682000</td>\n      <td>1216.770000</td>\n      <td>643.930000</td>\n    </tr>\n    <tr>\n      <th>std</th>\n      <td>30616.314826</td>\n      <td>1.05107</td>\n      <td>6.622895</td>\n      <td>961.068613</td>\n      <td>369.047166</td>\n    </tr>\n    <tr>\n      <th>min</th>\n      <td>10100.000000</td>\n      <td>0.00000</td>\n      <td>6.000000</td>\n      <td>38.000000</td>\n      <td>12.000000</td>\n    </tr>\n    <tr>\n      <th>25%</th>\n      <td>29975.000000</td>\n      <td>0.00000</td>\n      <td>6.000000</td>\n      <td>488.250000</td>\n      <td>316.750000</td>\n    </tr>\n    <tr>\n      <th>50%</th>\n      <td>53700.000000</td>\n      <td>1.00000</td>\n      <td>12.000000</td>\n      <td>962.000000</td>\n      <td>636.000000</td>\n    </tr>\n    <tr>\n      <th>75%</th>\n      <td>77025.000000</td>\n      <td>2.00000</td>\n      <td>18.000000</td>\n      <td>1688.500000</td>\n      <td>955.500000</td>\n    </tr>\n    <tr>\n      <th>max</th>\n      <td>168800.000000</td>\n      <td>3.00000</td>\n      <td>24.000000</td>\n      <td>6217.000000</td>\n      <td>1297.000000</td>\n    </tr>\n  </tbody>\n</table>\n</div>"
     },
     "metadata": {},
     "execution_count": 109
    }
   ],
   "source": [
    "df.describe() # only get the output for categorical columns"
   ]
  },
  {
   "source": [
    "# to include all numeric and categorical data"
   ],
   "cell_type": "markdown",
   "metadata": {}
  },
  {
   "cell_type": "code",
   "execution_count": 111,
   "metadata": {},
   "outputs": [
    {
     "output_type": "execute_result",
     "data": {
      "text/plain": [
       "           Age  Gender OwnHome  Married Location         Salary    Children  \\\n",
       "count     1000    1000    1000     1000     1000    1000.000000  1000.00000   \n",
       "unique       3       2       2        2        2            NaN         NaN   \n",
       "top     Middle  Female     Own  Married    Close            NaN         NaN   \n",
       "freq       508     506     516      502      710            NaN         NaN   \n",
       "mean       NaN     NaN     NaN      NaN      NaN   56103.900000     0.93400   \n",
       "std        NaN     NaN     NaN      NaN      NaN   30616.314826     1.05107   \n",
       "min        NaN     NaN     NaN      NaN      NaN   10100.000000     0.00000   \n",
       "25%        NaN     NaN     NaN      NaN      NaN   29975.000000     0.00000   \n",
       "50%        NaN     NaN     NaN      NaN      NaN   53700.000000     1.00000   \n",
       "75%        NaN     NaN     NaN      NaN      NaN   77025.000000     2.00000   \n",
       "max        NaN     NaN     NaN      NaN      NaN  168800.000000     3.00000   \n",
       "\n",
       "       History     Catalogs  AmountSpent      Cust_Id  \n",
       "count      697  1000.000000  1000.000000  1000.000000  \n",
       "unique       3          NaN          NaN          NaN  \n",
       "top       High          NaN          NaN          NaN  \n",
       "freq       255          NaN          NaN          NaN  \n",
       "mean       NaN    14.682000  1216.770000   643.930000  \n",
       "std        NaN     6.622895   961.068613   369.047166  \n",
       "min        NaN     6.000000    38.000000    12.000000  \n",
       "25%        NaN     6.000000   488.250000   316.750000  \n",
       "50%        NaN    12.000000   962.000000   636.000000  \n",
       "75%        NaN    18.000000  1688.500000   955.500000  \n",
       "max        NaN    24.000000  6217.000000  1297.000000  "
      ],
      "text/html": "<div>\n<style scoped>\n    .dataframe tbody tr th:only-of-type {\n        vertical-align: middle;\n    }\n\n    .dataframe tbody tr th {\n        vertical-align: top;\n    }\n\n    .dataframe thead th {\n        text-align: right;\n    }\n</style>\n<table border=\"1\" class=\"dataframe\">\n  <thead>\n    <tr style=\"text-align: right;\">\n      <th></th>\n      <th>Age</th>\n      <th>Gender</th>\n      <th>OwnHome</th>\n      <th>Married</th>\n      <th>Location</th>\n      <th>Salary</th>\n      <th>Children</th>\n      <th>History</th>\n      <th>Catalogs</th>\n      <th>AmountSpent</th>\n      <th>Cust_Id</th>\n    </tr>\n  </thead>\n  <tbody>\n    <tr>\n      <th>count</th>\n      <td>1000</td>\n      <td>1000</td>\n      <td>1000</td>\n      <td>1000</td>\n      <td>1000</td>\n      <td>1000.000000</td>\n      <td>1000.00000</td>\n      <td>697</td>\n      <td>1000.000000</td>\n      <td>1000.000000</td>\n      <td>1000.000000</td>\n    </tr>\n    <tr>\n      <th>unique</th>\n      <td>3</td>\n      <td>2</td>\n      <td>2</td>\n      <td>2</td>\n      <td>2</td>\n      <td>NaN</td>\n      <td>NaN</td>\n      <td>3</td>\n      <td>NaN</td>\n      <td>NaN</td>\n      <td>NaN</td>\n    </tr>\n    <tr>\n      <th>top</th>\n      <td>Middle</td>\n      <td>Female</td>\n      <td>Own</td>\n      <td>Married</td>\n      <td>Close</td>\n      <td>NaN</td>\n      <td>NaN</td>\n      <td>High</td>\n      <td>NaN</td>\n      <td>NaN</td>\n      <td>NaN</td>\n    </tr>\n    <tr>\n      <th>freq</th>\n      <td>508</td>\n      <td>506</td>\n      <td>516</td>\n      <td>502</td>\n      <td>710</td>\n      <td>NaN</td>\n      <td>NaN</td>\n      <td>255</td>\n      <td>NaN</td>\n      <td>NaN</td>\n      <td>NaN</td>\n    </tr>\n    <tr>\n      <th>mean</th>\n      <td>NaN</td>\n      <td>NaN</td>\n      <td>NaN</td>\n      <td>NaN</td>\n      <td>NaN</td>\n      <td>56103.900000</td>\n      <td>0.93400</td>\n      <td>NaN</td>\n      <td>14.682000</td>\n      <td>1216.770000</td>\n      <td>643.930000</td>\n    </tr>\n    <tr>\n      <th>std</th>\n      <td>NaN</td>\n      <td>NaN</td>\n      <td>NaN</td>\n      <td>NaN</td>\n      <td>NaN</td>\n      <td>30616.314826</td>\n      <td>1.05107</td>\n      <td>NaN</td>\n      <td>6.622895</td>\n      <td>961.068613</td>\n      <td>369.047166</td>\n    </tr>\n    <tr>\n      <th>min</th>\n      <td>NaN</td>\n      <td>NaN</td>\n      <td>NaN</td>\n      <td>NaN</td>\n      <td>NaN</td>\n      <td>10100.000000</td>\n      <td>0.00000</td>\n      <td>NaN</td>\n      <td>6.000000</td>\n      <td>38.000000</td>\n      <td>12.000000</td>\n    </tr>\n    <tr>\n      <th>25%</th>\n      <td>NaN</td>\n      <td>NaN</td>\n      <td>NaN</td>\n      <td>NaN</td>\n      <td>NaN</td>\n      <td>29975.000000</td>\n      <td>0.00000</td>\n      <td>NaN</td>\n      <td>6.000000</td>\n      <td>488.250000</td>\n      <td>316.750000</td>\n    </tr>\n    <tr>\n      <th>50%</th>\n      <td>NaN</td>\n      <td>NaN</td>\n      <td>NaN</td>\n      <td>NaN</td>\n      <td>NaN</td>\n      <td>53700.000000</td>\n      <td>1.00000</td>\n      <td>NaN</td>\n      <td>12.000000</td>\n      <td>962.000000</td>\n      <td>636.000000</td>\n    </tr>\n    <tr>\n      <th>75%</th>\n      <td>NaN</td>\n      <td>NaN</td>\n      <td>NaN</td>\n      <td>NaN</td>\n      <td>NaN</td>\n      <td>77025.000000</td>\n      <td>2.00000</td>\n      <td>NaN</td>\n      <td>18.000000</td>\n      <td>1688.500000</td>\n      <td>955.500000</td>\n    </tr>\n    <tr>\n      <th>max</th>\n      <td>NaN</td>\n      <td>NaN</td>\n      <td>NaN</td>\n      <td>NaN</td>\n      <td>NaN</td>\n      <td>168800.000000</td>\n      <td>3.00000</td>\n      <td>NaN</td>\n      <td>24.000000</td>\n      <td>6217.000000</td>\n      <td>1297.000000</td>\n    </tr>\n  </tbody>\n</table>\n</div>"
     },
     "metadata": {},
     "execution_count": 111
    }
   ],
   "source": [
    "df.describe(include='all')"
   ]
  },
  {
   "source": [
    "# describe the object datatype"
   ],
   "cell_type": "markdown",
   "metadata": {}
  },
  {
   "cell_type": "code",
   "execution_count": 113,
   "metadata": {},
   "outputs": [
    {
     "output_type": "execute_result",
     "data": {
      "text/plain": [
       "           Age  Gender OwnHome  Married Location History\n",
       "count     1000    1000    1000     1000     1000     697\n",
       "unique       3       2       2        2        2       3\n",
       "top     Middle  Female     Own  Married    Close    High\n",
       "freq       508     506     516      502      710     255"
      ],
      "text/html": "<div>\n<style scoped>\n    .dataframe tbody tr th:only-of-type {\n        vertical-align: middle;\n    }\n\n    .dataframe tbody tr th {\n        vertical-align: top;\n    }\n\n    .dataframe thead th {\n        text-align: right;\n    }\n</style>\n<table border=\"1\" class=\"dataframe\">\n  <thead>\n    <tr style=\"text-align: right;\">\n      <th></th>\n      <th>Age</th>\n      <th>Gender</th>\n      <th>OwnHome</th>\n      <th>Married</th>\n      <th>Location</th>\n      <th>History</th>\n    </tr>\n  </thead>\n  <tbody>\n    <tr>\n      <th>count</th>\n      <td>1000</td>\n      <td>1000</td>\n      <td>1000</td>\n      <td>1000</td>\n      <td>1000</td>\n      <td>697</td>\n    </tr>\n    <tr>\n      <th>unique</th>\n      <td>3</td>\n      <td>2</td>\n      <td>2</td>\n      <td>2</td>\n      <td>2</td>\n      <td>3</td>\n    </tr>\n    <tr>\n      <th>top</th>\n      <td>Middle</td>\n      <td>Female</td>\n      <td>Own</td>\n      <td>Married</td>\n      <td>Close</td>\n      <td>High</td>\n    </tr>\n    <tr>\n      <th>freq</th>\n      <td>508</td>\n      <td>506</td>\n      <td>516</td>\n      <td>502</td>\n      <td>710</td>\n      <td>255</td>\n    </tr>\n  </tbody>\n</table>\n</div>"
     },
     "metadata": {},
     "execution_count": 113
    }
   ],
   "source": [
    "# only describe the object datatype \n",
    "df.describe(include='O')\n",
    "# this also describes the frequency of the top categorical element. "
   ]
  },
  {
   "cell_type": "code",
   "execution_count": 114,
   "metadata": {},
   "outputs": [
    {
     "output_type": "execute_result",
     "data": {
      "text/plain": [
       "Age     Gender  OwnHome  Married  Location  Salary  Children  History  Catalogs  AmountSpent  Cust_Id\n",
       "Middle  Female  Own      Married  Close     35300   0         Medium   24        1093         1033       1\n",
       "Old     Female  Rent     Single   Far       15100   0         Low      6         348          726        1\n",
       "                                  Close     28900   0         Low      12        830          1058       1\n",
       "                                            29200   0         Low      12        556          1165       1\n",
       "                                            33600   0         Medium   12        573          663        1\n",
       "                                                                                                        ..\n",
       "Middle  Male    Own      Married  Far       90700   3         High     24        2265         541        1\n",
       "                                            93000   3         High     6         1046         523        1\n",
       "                                            96800   2         High     18        2299         246        1\n",
       "                                            100100  1         High     24        3491         162        1\n",
       "Young   Male    Rent     Single   Far       25700   0         Medium   18        907          682        1\n",
       "Length: 697, dtype: int64"
      ]
     },
     "metadata": {},
     "execution_count": 114
    }
   ],
   "source": [
    "df.value_counts()"
   ]
  },
  {
   "cell_type": "code",
   "execution_count": null,
   "metadata": {},
   "outputs": [],
   "source": []
  }
 ]
}